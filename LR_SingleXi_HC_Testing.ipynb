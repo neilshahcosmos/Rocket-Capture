{
 "cells": [
  {
   "cell_type": "markdown",
   "metadata": {},
   "source": [
    "<h1>Loop Runner - Single Xi</h1>"
   ]
  },
  {
   "cell_type": "markdown",
   "metadata": {},
   "source": [
    "<b>Description:</b> Here, I'm evolving loops for the given simulation. I'm employing a new technique here of utilizing two different binned density matrices, one which is high resolution and localized on the halo, and a low resolution one which covers the rest of the box. I'm also shifting the coordinates so the halo is always in the center."
   ]
  },
  {
   "cell_type": "code",
   "execution_count": 1,
   "metadata": {},
   "outputs": [],
   "source": [
    "# Import Statements\n",
    "import numpy as np\n",
    "import scipy as sp\n",
    "from scipy import integrate, interpolate\n",
    "import scipy.fft as fft\n",
    "import matplotlib as mpl\n",
    "import matplotlib.pyplot as plt\n",
    "import seaborn as sns\n",
    "\n",
    "import h5py\n",
    "import os\n",
    "import time"
   ]
  },
  {
   "cell_type": "code",
   "execution_count": 2,
   "metadata": {},
   "outputs": [],
   "source": [
    "# Global Rocket Parameters\n",
    "xi = 50\n",
    "Gmu = 1e-12\n",
    "GammaFrac = 0.1\n",
    "vf = 0.3\n",
    "\n",
    "# Global Simulation Parameters\n",
    "tmax = 100\n",
    "zi = 127\n",
    "h = 0.7\n",
    "rhoScale = 4.78e-20 # Mpc / Msun\n",
    "\n",
    "Lbox = 100\n",
    "LLowRes, LHighRes = [100, 1]\n",
    "dxLowRes, dxHighRes = [1, 0.01]\n",
    "binsLowRes, binsHighRes = [int(LLowRes / dxLowRes) + 1, int(LHighRes / dxHighRes)]\n",
    "\n",
    "# Global Physical Parameters\n",
    "t0 = 4213 / h # Mpc / h\n",
    "H0 = 0.0003333\n",
    "\n",
    "# No. of Rockets\n",
    "densRocket = 1e-6 * ((Gmu * xi) ** (-3/2)) * (t0 ** -3) * ((1 + zi) ** 3)\n",
    "nRockets = int(densRocket * ((LHighRes / 2) ** 3))"
   ]
  },
  {
   "cell_type": "code",
   "execution_count": 3,
   "metadata": {},
   "outputs": [
    {
     "name": "stdout",
     "output_type": "stream",
     "text": [
      "Working in the Local environment\n"
     ]
    }
   ],
   "source": [
    "# Set the Environment\n",
    "envi = 1\n",
    "envs = [\"Cluster\", \"Local\"]\n",
    "env = envs[envi]\n",
    "\n",
    "if env == \"Cluster\":\n",
    "    # Cluster dirs\n",
    "    neilDir = \"/cluster/tufts/hertzberglab/nshah14/\"\n",
    "    homeDir = \"/cluster/tufts/hertzberglab/shared/Rockets/\"\n",
    "    simName = \"Sim_100v\"\n",
    "    simDir = homeDir + simName + \"/\"\n",
    "    Div = \"/\"\n",
    "elif env == \"Local\":\n",
    "    # Cluster dirs\n",
    "    homeDir = \"C:\\\\Users\\\\Neil\\\\Documents\\\\PhD\\\\Rocket Force\\\\\"\n",
    "    simName = \"Sim_100v\"\n",
    "    simDir = homeDir + simName + \"\\\\\"\n",
    "    Div = \"\\\\\"\n",
    "\n",
    "print(\"Working in the {} environment\".format(env))"
   ]
  },
  {
   "cell_type": "markdown",
   "metadata": {},
   "source": [
    "Utility Functions"
   ]
  },
  {
   "cell_type": "code",
   "execution_count": 4,
   "metadata": {},
   "outputs": [],
   "source": [
    "# make more realistic, add in influence of overdensity\n",
    "def getHubbleEvol():\n",
    "    OMatter = 0.25\n",
    "    OLambda = 0.75\n",
    "\n",
    "    da_dt = lambda a, t: a * H0 * np.sqrt(OMatter / a**3 + OLambda)\n",
    "\n",
    "    a0 = 1 / (1 + zi)\n",
    "    tInt = np.linspace(0, 1.1 / H0, 1000)\n",
    "    af = interpolate.InterpolatedUnivariateSpline(tInt, integrate.odeint(da_dt, y0=a0, t=tInt)[:, 0])\n",
    "    aDotf = af.derivative(n=1)\n",
    "    tEnd = sp.optimize.fsolve(lambda t: af(t) - 1.0, x0=(1.0 / H0))[0]\n",
    "\n",
    "    tArr = np.asarray([(tEnd + t)**(t / tmax) - 1 for t in range(tmax)])\n",
    "    aArr = np.asarray([af(t) for t in tArr])\n",
    "    HArr = np.asarray([aDotf(t) / af(t) for t in tArr])\n",
    "\n",
    "    return tArr, aArr, HArr"
   ]
  },
  {
   "cell_type": "code",
   "execution_count": 5,
   "metadata": {},
   "outputs": [],
   "source": [
    "def getCoords(t):\n",
    "    snapDir = simDir + \"snapdir_{:03d}{}\".format(t, Div)\n",
    "    pathArr = np.asarray(os.listdir(snapDir))\n",
    "    \n",
    "    ptypeN = 3\n",
    "    coordsArr = [np.empty((0, 3), dtype=float) for i in range(ptypeN)]\n",
    "\n",
    "    for pi in range(ptypeN):\n",
    "        ptype = pi + 1\n",
    "        for pathi in np.arange(0, pathArr.size):\n",
    "            datGet = \"/PartType{:d}/Coordinates\".format(ptype)\n",
    "            try:\n",
    "                coords = np.asarray(h5py.File(snapDir + pathArr[pathi], 'r')[datGet])\n",
    "                coordsArr[pi] = np.concatenate([coordsArr[pi], coords], axis=0)\n",
    "            except KeyError:\n",
    "                # print(\"   (Warning! Could not find ptype {:d} for snapshot t = {:d})\".format(ptype, t))\n",
    "                pass\n",
    "    \n",
    "    return(coordsArr)\n",
    "\n",
    "def getHaloCoords(t):\n",
    "    haloPtype = 1\n",
    "\n",
    "    groupDir = simDir + \"groups_{:03d}{}\".format(t, Div)\n",
    "    snapDir = simDir + \"snapdir_{:03d}{}\".format(t, Div)\n",
    "    groupPaths = np.asarray(os.listdir(groupDir))\n",
    "    snapPaths = np.asarray(os.listdir(snapDir))\n",
    "\n",
    "    coordsArr = getCoords(t)[haloPtype - 1]\n",
    "    \n",
    "    haloCoords = np.empty((0, 0))\n",
    "    for i, pathi in enumerate(groupPaths):\n",
    "        gfile = h5py.File(groupDir + pathi, 'r')\n",
    "        try:\n",
    "            haloInit = int(np.asarray(gfile[\"/Group/GroupOffsetType/\"])[0, haloPtype - 1])\n",
    "            haloN = int(np.asarray(gfile[\"/Group/GroupLen/\"])[haloPtype - 1])\n",
    "            haloCoords = coordsArr[haloInit:(haloInit + haloN + 1), :]\n",
    "            break\n",
    "        except KeyError:\n",
    "            pass\n",
    "    \n",
    "    return(haloCoords)\n",
    "\n",
    "def getHaloStartTime():\n",
    "    pathSave = simDir + \"HaloStartTime.npy\"\n",
    "\n",
    "    if os.path.exists(pathSave):\n",
    "        tStart = np.load(pathSave)[0]\n",
    "    else:\n",
    "        tStart = 0\n",
    "        go = True\n",
    "        for t in range(tmax):\n",
    "            groupDir = simDir + \"groups_{:03d}{}\".format(t, Div)\n",
    "            snapDir = simDir + \"snapdir_{:03d}{}\".format(t, Div)\n",
    "            groupPaths = np.asarray(os.listdir(groupDir))\n",
    "            snapPaths = np.asarray(os.listdir(snapDir))\n",
    "            \n",
    "            for i, pathi in enumerate(groupPaths):\n",
    "                gfile = h5py.File(groupDir + pathi, 'r')\n",
    "                try:\n",
    "                    catch = gfile[\"/Group/GroupOffsetType/\"]\n",
    "                    tStart = t\n",
    "                    go = False\n",
    "                    break\n",
    "                except KeyError:\n",
    "                    continue\n",
    "            if not go:\n",
    "                break\n",
    "        np.save(pathSave, np.asarray([tStart]))\n",
    "    \n",
    "    return(tStart)\n",
    "\n",
    "def getHaloC(t):\n",
    "    haloCoords = getHaloCoords(t)\n",
    "    if haloCoords.shape[0] == 0:\n",
    "        t0 = getHaloStartTime()\n",
    "        halo0 = getHaloCoords(t0)\n",
    "        xc = np.asarray([np.mean(halo0[:, i]) for i in range(3)])\n",
    "    else:\n",
    "        xc = np.asarray([np.mean(haloCoords[:, i]) for i in range(3)])\n",
    "    return(xc)"
   ]
  },
  {
   "cell_type": "code",
   "execution_count": 6,
   "metadata": {},
   "outputs": [],
   "source": [
    "def getMass(t):\n",
    "    massArr = [np.empty((0, 1), dtype=float) for i in range(ptypeN)]\n",
    "\n",
    "    snapDir = simDir + \"snapdir_{:03d}/\".format(t)\n",
    "    snapPaths = np.asarray(os.listdir(snapDir))\n",
    "    path1 = snapDir + \"snapshot_{:03d}.0.hdf5\".format(t)\n",
    "\n",
    "    ptypeN = 3\n",
    "    for pi in range(ptypeN):\n",
    "        ptype = pi + 1\n",
    "        for pathi, path in enumerate(snapPaths):\n",
    "            datGet = \"/PartType{:d}/Masses\".format(ptype)\n",
    "            try:\n",
    "                masses = np.asarray(h5py.File(snapDir + path, 'r')[datGet])\n",
    "                massArr[pi] = np.concatenate([massArr[pi], masses], axis=0)\n",
    "            except KeyError:\n",
    "                # print(\"   (Warning! Could not find ptype {:d} for snapshot t = {:d})\".format(ptype, t))\n",
    "                pass\n",
    "\n",
    "    return massArr"
   ]
  },
  {
   "cell_type": "code",
   "execution_count": null,
   "metadata": {},
   "outputs": [],
   "source": [
    "masstest = getMass(0)"
   ]
  },
  {
   "cell_type": "code",
   "execution_count": 53,
   "metadata": {},
   "outputs": [
    {
     "name": "stdout",
     "output_type": "stream",
     "text": [
      "(0,)\n",
      "[0.05559584 0.05559584 0.05559584 0.05559584 0.05559584 0.05559584\n",
      " 0.05559584 0.05559584 0.05559584 0.05559584 0.05559584 0.05559584\n",
      " 0.05559584 0.05559584 0.05559584 0.05559584 0.05559584 0.05559584\n",
      " 0.05559584 0.05559584 0.05559584 0.05559584 0.05559584 0.05559584\n",
      " 0.05559584 0.05559584 0.05559584 0.05559584 0.05559584 0.05559584\n",
      " 0.05559584 0.05559584 0.05559584 0.05559584 0.05559584 0.05559584\n",
      " 0.05559584 0.05559584 0.05559584 0.05559584 0.05559584 0.05559584\n",
      " 0.05559584 0.05559584 0.05559584 0.05559584 0.05559584 0.05559584\n",
      " 0.05559584 0.01426033 0.01519851 0.01501088 0.01426033 0.0140727\n",
      " 0.01463561 0.01632433 0.01463561 0.01426033 0.01463561 0.01482324\n",
      " 0.01594906 0.01519851 0.01444797 0.01482324 0.01501088 0.01576142\n",
      " 0.01501088 0.01576142 0.01576142 0.01501088 0.01651197 0.01519851\n",
      " 0.00168872 0.00225163 0.01482324 0.01557379 0.01463561 0.01632433\n",
      " 0.01519851 0.00187636 0.00187636 0.01482324 0.01538615 0.01557379\n",
      " 0.00168872 0.00168872 0.00168872 0.002064   0.00168872 0.00187636\n",
      " 0.00187636 0.00150109 0.002064   0.00168872 0.00225163 0.002064\n",
      " 0.00187636 0.00168872 0.00168872 0.00150109 0.002064   0.00168872\n",
      " 0.00225163 0.00187636 0.00168872 0.002064   0.00168872 0.002064\n",
      " 0.00168872 0.00243927 0.01482324 0.00187636 0.002064   0.002064\n",
      " 0.00168872 0.00168872 0.00187636 0.01501088 0.002064   0.00187636\n",
      " 0.01538615 0.01463561 0.01538615 0.01576142 0.00187636 0.00187636\n",
      " 0.01538615 0.00168872 0.00168872 0.00225163 0.00168872 0.00187636\n",
      " 0.002064   0.00187636 0.002064   0.00168872 0.002064   0.002064\n",
      " 0.002064   0.002064   0.002064   0.00168872 0.00187636 0.01519851\n",
      " 0.00187636 0.00243927 0.00150109 0.00168872 0.00187636 0.00168872\n",
      " 0.00225163 0.00150109 0.00225163 0.002064   0.00187636 0.00187636\n",
      " 0.00225163 0.00150109 0.00168872 0.002064  ]\n",
      "(160,)\n",
      "(244338,)\n",
      "64.18838\n"
     ]
    },
    {
     "data": {
      "image/png": "[encoded data removed]",
      "text/plain": [
       "<Figure size 432x288 with 1 Axes>"
      ]
     },
     "metadata": {
      "needs_background": "light"
     },
     "output_type": "display_data"
    }
   ],
   "source": [
    "tFix = 50\n",
    "massTab = np.zeros(3)\n",
    "\n",
    "snapDir = simDir + \"snapdir_{:03d}/\".format(tFix)\n",
    "path1 = snapDir + \"snapshot_{:03d}.0.hdf5\".format(tFix)\n",
    "fil = h5py.File(path1, 'r')\n",
    "\n",
    "fig = plt.figure()\n",
    "ptypeN = 3\n",
    "for pi in np.arange(0, ptypeN):\n",
    "    ptype = pi + 1\n",
    "    datGet = \"/PartType{:d}/Masses\".format(ptype)\n",
    "    masses = np.asarray(fil[datGet])\n",
    "    if pi == 1:\n",
    "        print(masses[np.nonzero(masses - masses[0])[0]])\n",
    "    print(np.nonzero(np.round(masses - masses[0], 2))[0].shape)\n",
    "    if pi == 2:\n",
    "        print(masses[0])\n",
    "        plt.hist(masses)"
   ]
  },
  {
   "cell_type": "code",
   "execution_count": 6,
   "metadata": {},
   "outputs": [],
   "source": [
    "def getRhoxHC(t, override=False):\n",
    "    dirSave = simDir + \"rhox_HaloCentered{}rhox_HC__LLR_{:03d}_{:03d}__bLR_{:04d}__LHR_{:03d}_{:03d}__bHR_{:04d}{}\".format(\n",
    "        Div, int(np.floor(LLowRes)), int(1e3 * np.mod(LLowRes, 1)), binsLowRes, int(np.floor(LHighRes)), int(1e3 * np.mod(LHighRes, 1)), binsHighRes, Div)\n",
    "    if not os.path.exists(dirSave):\n",
    "        os.makedirs(dirSave)\n",
    "    pathSave = dirSave + \"rhox_HC__LLR_{:03d}_{:03d}__bLR_{:04d}__LHR_{:03d}_{:03d}__bHR_{:04d}__t_{:03d}.npz\".format(\n",
    "        int(np.floor(LLowRes)), int(1e3 * np.mod(LLowRes, 1)), binsLowRes, int(np.floor(LHighRes)), int(1e3 * np.mod(LHighRes, 1)), binsHighRes, t)\n",
    "    \n",
    "    if os.path.exists(pathSave) and not override:\n",
    "        rhoxLoad = np.load(pathSave)\n",
    "        rhoxLowRes, rhoxHighRes, rhoxTotal = [rhoxLoad[rhoStr] for rhoStr in rhoxLoad.files]\n",
    "        return [rhoxLowRes, rhoxHighRes, rhoxTotal]\n",
    "    \n",
    "    xC = getHaloC(t)\n",
    "    ptypeN = 3\n",
    "    massArr = getMass()\n",
    "\n",
    "    rhoxLowRes = np.zeros((binsLowRes, binsLowRes, binsLowRes))\n",
    "    rhoxHighRes = np.zeros((binsHighRes, binsHighRes, binsHighRes))\n",
    "    coords = getCoords(t)\n",
    "    for pi in np.arange(0, ptypeN):\n",
    "        ptype = pi + 1\n",
    "        mi = massArr[pi]\n",
    "\n",
    "        for ci, coord in enumerate(coords[pi]):\n",
    "            try:\n",
    "                if False in (np.abs(coord - xC) < LLowRes/2):\n",
    "                    continue\n",
    "                elif False in (np.abs(coord - xC) < LHighRes/2):\n",
    "                    iLR, jLR, kLR = [int(np.floor((coord[i] - (xC[i] - LLowRes/2) + dxLowRes) / dxLowRes)) for i in range(3)]\n",
    "                    rhoxLowRes[iLR, jLR, kLR] += mi / (dxLowRes ** 3)\n",
    "                else:\n",
    "                    iHR, jHR, kHR = [int(np.floor((coord[i] - (xC[i] - LHighRes/2)) / dxHighRes)) for i in range(3)]\n",
    "                    rhoxHighRes[iHR, jHR, kHR] += mi / (dxHighRes ** 3)\n",
    "            except IndexError:\n",
    "                pass\n",
    "\n",
    "    rhoxTotal = rhoxLowRes.copy()\n",
    "    rhoxHighResAvg = np.asarray([rhoxHighRes[i, j, k] for i in range(binsHighRes) for j in range(binsHighRes) for k in range(binsHighRes)]).sum() / binsHighRes**3\n",
    "    rhoxTotal[int((binsLowRes - 1) / 2), int((binsLowRes - 1) / 2), int((binsLowRes - 1) / 2)] = rhoxHighResAvg\n",
    "    \n",
    "    rhoxLowRes *= rhoScale * 1e10\n",
    "    rhoxHighRes *= rhoScale * 1e10\n",
    "    rhoxTotal *= rhoScale * 1e10\n",
    "    np.savez(pathSave, rhoxLowRes, rhoxHighRes, rhoxTotal)\n",
    "    \n",
    "    return([rhoxLowRes, rhoxHighRes, rhoxTotal])\n",
    "\n",
    "def rhoxHCInstantiate():\n",
    "    print(\"Instantiating Density Matrices:\")\n",
    "\n",
    "    T0 = time.time()\n",
    "    for t in range(tmax):\n",
    "        if np.mod(t, 10) == 0:\n",
    "            print(\"   Processing: {:03d} / {:03d} (Time Elapsed: {}, Time Estimated Remaining: {})\".format(t, tmax, toMS(time.time() - T0), toMS((tmax / (t + 1)) * (time.time() - T0))))\n",
    "        catch1 = getRhoxHC(t, override=True)\n",
    "    print(\"Finished! Took {} total\".format(toMS(time.time() - T0)), end=\"\\n\\n\")"
   ]
  },
  {
   "cell_type": "code",
   "execution_count": 7,
   "metadata": {},
   "outputs": [],
   "source": [
    "def getkArr(L, bins, override=False):\n",
    "    kArrDir = simDir + \"kArrs/\"\n",
    "    if not os.path.exists(kArrDir):\n",
    "        os.makedirs(kArrDir)\n",
    "    kArrPath = kArrDir + \"kArr__L_{:03d}__bins_{:03d}.npy\".format(L, bins)\n",
    "    if os.path.exists(kArrPath) and not override:\n",
    "        kArr = np.load(kArrPath)\n",
    "        return(kArr)\n",
    "\n",
    "    kArr = np.zeros((bins, bins, bins), dtype=float)\n",
    "    halfBins = int(bins / 2)\n",
    "    for i in range(bins):\n",
    "        for j in range(bins):\n",
    "            for k in range(bins):\n",
    "                lx = - (4 * bins**2 / L**2) * np.sin((np.pi / bins) * (i - halfBins))**2\n",
    "                ly = - (4 * bins**2 / L**2) * np.sin((np.pi / bins) * (j - halfBins))**2\n",
    "                lz = - (4 * bins**2 / L**2) * np.sin((np.pi / bins) * (k - halfBins))**2\n",
    "                if i == halfBins and j == halfBins and k == halfBins:\n",
    "                    kArr[i, j, k] = 1\n",
    "                else:\n",
    "                    kArr[i, j, k] = lx + ly + lz\n",
    "    \n",
    "    np.save(kArrPath, kArr)\n",
    "    return kArr\n",
    "\n",
    "def getRhokLambda(t, res):\n",
    "    rhoxLowRes, rhoxHighRes, rhoxTotal = getRhoxHC(t, override=False)\n",
    "    if not 'kArrLowRes' in globals():\n",
    "        global kArrLowRes\n",
    "        kArrLowRes = getkArr(LLowRes, binsLowRes)\n",
    "    if not 'kArrHighRes' in globals():\n",
    "        global kArrHighRes\n",
    "        kArrHighRes = getkArr(LHighRes, binsHighRes)\n",
    "    \n",
    "    if res == \"Low\":\n",
    "        kArr = kArrLowRes\n",
    "        dxi = dxLowRes\n",
    "        halfBins = int(binsLowRes / 2)\n",
    "        rhox = rhoxLowRes\n",
    "\n",
    "        rhokLowRes = fft.ifftn(rhoxLowRes)\n",
    "        rhokL = np.divide(rhokLowRes, kArrLowRes)\n",
    "    elif res == \"High\":\n",
    "        kArr = kArrHighRes\n",
    "        dxi = dxHighRes\n",
    "        halfBins = int(binsHighRes / 2)\n",
    "        rhox = rhoxHighRes\n",
    "\n",
    "        rhokHighRes = fft.ifftn(rhoxHighRes)\n",
    "        rhokL = np.divide(rhokHighRes, kArrHighRes)\n",
    "    elif res == \"Total\":\n",
    "        kArr = kArrLowRes\n",
    "        dxi = dxLowRes\n",
    "        halfBins = int(binsLowRes / 2)\n",
    "        rhox = rhoxTotal\n",
    "\n",
    "        rhokTotal = fft.ifftn(rhoxTotal)\n",
    "        rhokL = np.divide(rhokTotal, kArrLowRes)\n",
    "    else:\n",
    "        print(\"ERROR! You are trying to get a kArr for a resolution which doesn't exist\")\n",
    "        quit()\n",
    "    \n",
    "    rhokL[halfBins, halfBins, halfBins] = 0\n",
    "    return(rhokL)"
   ]
  },
  {
   "cell_type": "code",
   "execution_count": 8,
   "metadata": {},
   "outputs": [],
   "source": [
    "def getFg(t, pos, rhokLOverride=False):\n",
    "    xC = np.asarray([Lbox / 2 for i in range(3)])\n",
    "\n",
    "    if (not 'rhokLLowRes' in globals()) or rhokLOverride:\n",
    "        global rhokLLowRes\n",
    "        rhokLLowRes = getRhokLambda(t, \"Low\")\n",
    "    if (not 'rhokLHighRes' in globals()) or rhokLOverride:\n",
    "        global rhokLHighRes\n",
    "        rhokLHighRes = getRhokLambda(t, \"High\")\n",
    "    if (not 'rhokLTotal' in globals()) or rhokLOverride:\n",
    "        global rhokLTotal\n",
    "        rhokLTotal = getRhokLambda(t, \"Total\")\n",
    "\n",
    "    if False in (np.abs(pos - xC) < LLowRes/2):\n",
    "        return np.zeros(3)\n",
    "    elif False in (np.abs(pos - xC) < LHighRes/2):\n",
    "        iTot, jTot, kTot = [int(np.floor((pos[i] - (xC[i] - LLowRes/2) + dxLowRes) / dxLowRes)) for i in range(3)]\n",
    "        phixTot = fft.fftn(rhokLTotal).real\n",
    "        try:\n",
    "            FgTot = (4 * np.pi / (2 * dxLowRes)) * np.asarray(\n",
    "                [phixTot[iTot + 1, jTot, kTot] - phixTot[iTot - 1, jTot, kTot], phixTot[iTot, jTot + 1, kTot] - phixTot[iTot, jTot - 1, kTot], phixTot[iTot, jTot, kTot + 1] - phixTot[iTot, jTot, kTot - 1]])\n",
    "        except IndexError:\n",
    "            FgTot = np.zeros(3)\n",
    "        Fg = FgTot\n",
    "    else:\n",
    "        iLR, jLR, kLR = [int(np.floor((pos[i] - (xC[i] - LLowRes/2) + dxLowRes) / dxLowRes)) for i in range(3)]\n",
    "        iHR, jHR, kHR = [int(np.floor((pos[i] - (xC[i] - LHighRes/2)) / dxHighRes)) for i in range(3)]\n",
    "        phixLowRes = fft.fftn(rhokLLowRes).real\n",
    "        phixHighRes = fft.fftn(rhokLHighRes).real\n",
    "\n",
    "        try:\n",
    "            FgLowRes = (4 * np.pi / (2 * dxLowRes)) * np.asarray(\n",
    "                [phixLowRes[iLR + 1, jLR, kLR] - phixLowRes[iLR - 1, jLR, kLR], phixLowRes[iLR, jLR + 1, kLR] - phixLowRes[iLR, jLR - 1, kLR], phixLowRes[iLR, jLR, kLR + 1] - phixLowRes[iLR, jLR, kLR - 1]])\n",
    "        except IndexError:\n",
    "            FgLowRes = np.zeros(3)\n",
    "        try:\n",
    "            FgHighRes = (4 * np.pi / (2 * dxHighRes)) * np.asarray(\n",
    "                [phixHighRes[iLR + 1, jLR, kLR] - phixHighRes[iLR - 1, jLR, kLR], phixHighRes[iLR, jLR + 1, kLR] - phixHighRes[iLR, jLR - 1, kLR], phixHighRes[iLR, jLR, kLR + 1] - phixHighRes[iLR, jLR, kLR - 1]])\n",
    "        except IndexError:\n",
    "            FgHighRes = np.zeros(3)\n",
    "        Fg = FgLowRes + FgHighRes\n",
    "    \n",
    "    return(Fg)"
   ]
  },
  {
   "cell_type": "code",
   "execution_count": 9,
   "metadata": {},
   "outputs": [],
   "source": [
    "def toMS(t):\n",
    "    s = np.floor(np.mod(t, 60))\n",
    "    m = np.floor(np.mod(t, 3600) / 60)\n",
    "    h = np.floor(t / 3600)\n",
    "\n",
    "    if t < 1:\n",
    "        tstr = \"{:f} s\".format(t)\n",
    "    elif t < 3600:\n",
    "        tstr = \"{:02d}m {:02d}s\".format(int(m), int(s))\n",
    "    else:\n",
    "        tstr = \"{}h {:02d}m {:02d}s\".format(int(h), int(m), int(s))\n",
    "    return tstr"
   ]
  },
  {
   "cell_type": "code",
   "execution_count": null,
   "metadata": {},
   "outputs": [],
   "source": [
    "t0G = time.time()\n",
    "print(\"Hello! Now Beginning Halo Centered Rocket Evolution\")\n",
    "print(\"This run has Global Parameters: xi = {}, {} Rockets, Gmu = {}, GammaFrac = {}, vf = {}\".format(xi, nRockets, Gmu, GammaFrac, vf), end=\"\\n\\n\")\n",
    "\n",
    "print(\"Now Beginning Instantiation of rho matrices. Here I will calculate binned density matrices from the raw simulation data and save it to a file.\")\n",
    "rhoxHCInstantiate()"
   ]
  },
  {
   "cell_type": "code",
   "execution_count": null,
   "metadata": {},
   "outputs": [],
   "source": [
    "print(\"\\nNow Processing Rocket Evolution!:\")\n",
    "\n",
    "rocketSaveDir = simDir + \"RocketTrajs_HC{}\".format(Div)\n",
    "if not os.path.exists(rocketSaveDir):\n",
    "    os.makedirs(rocketSaveDir)\n",
    "rocketSavePath = rocketSaveDir + \"RT_HC__Run4__N_{:06d}__xi_{:03d}.npy\".format(nRockets, xi)\n",
    "\n",
    "xArr = np.zeros((nRockets, 3, tmax))\n",
    "vArr = np.zeros((nRockets, 3, tmax))\n",
    "FRocketArr = np.zeros((nRockets, 3))\n",
    "\n",
    "xC = np.asarray([Lbox / 2 for i in range(3)])\n",
    "xArr[:, :, 0] = np.asarray([xC + 0.5 * LHighRes * (2*np.random.rand(3)-1) for i in range(0, nRockets)])\n",
    "vArr[:, :, 0] = 2.6 * (1 + zi) * np.sqrt(xi * Gmu) * vf * np.asarray([v / np.linalg.norm(v) for v in (2*np.random.rand(nRockets, 3)-1)])\n",
    "FRocketArr = (H0 * GammaFrac / xi) * np.asarray([v / np.linalg.norm(v) for v in (2*np.random.rand(nRockets, 3)-1)])\n",
    "\n",
    "tArr, aArr, HArr = getHubbleEvol()\n",
    "dtArr = np.diff(tArr)\n",
    "kArrLowRes = getkArr(LLowRes, binsLowRes, override=True)\n",
    "kArrHighRes = getkArr(LHighRes, binsHighRes, override=True)\n",
    "\n",
    "t0 = time.time()\n",
    "for ti in np.arange(0, tmax - 1):\n",
    "    t = tArr[ti]\n",
    "    dti = dtArr[ti]\n",
    "    ai = aArr[ti]\n",
    "    Hi = HArr[ti]\n",
    "    \n",
    "    rhokLLowRes = getRhokLambda(ti, \"Low\")\n",
    "    rhokLHighRes = getRhokLambda(ti, \"High\")\n",
    "    rhokLTotal = getRhokLambda(ti, \"Total\")\n",
    "\n",
    "    for ri in range(nRockets):\n",
    "        FRocketi = FRocketArr[ri, :]\n",
    "        Fgi = getFg(ti, xArr[ri, :, ti])\n",
    "        vArr[ri, :, ti + 1] = vArr[ri, :, ti] + dti * ((Fgi + FRocketi) / ai - 2 * Hi * vArr[ri, :, ti] + 0.5 * Hi**2 * xArr[ri, :, ti])\n",
    "        xArr[ri, :, ti + 1] = xArr[ri, :, ti] + dti * vArr[ri, :, ti]\n",
    "    if np.mod(ti + 1, 10) == 0:\n",
    "        print(\"   Processing t = {}/{} (Time Elapsed: {}, Estimated Time Remaining: {})\".format(ti + 1, tmax, toMS(time.time() - t0), toMS((tmax / (ti + 1) - 1) * (time.time() - t0))))\n",
    "\n",
    "print(\"Finished Processing Rocket Evolution! Time Taken: {}\\n\".format(toMS(time.time() - t0)))\n",
    "\n",
    "np.save(rocketSavePath, np.asarray([xArr, vArr]))\n",
    "print(\"Rocket Trajectories Successfully Exported. \\nWe are now done, thank you! Total Time Taken: {}\\n\".format(toMS(time.time() - t0G)))"
   ]
  },
  {
   "cell_type": "code",
   "execution_count": 21,
   "metadata": {},
   "outputs": [],
   "source": [
    "rhoxLowRes, rhoxHighRes, rhoxTotal = getRhoxHC(0)"
   ]
  },
  {
   "cell_type": "code",
   "execution_count": 28,
   "metadata": {},
   "outputs": [
    {
     "name": "stdout",
     "output_type": "stream",
     "text": [
      "(1030301,)\n"
     ]
    }
   ],
   "source": []
  },
  {
   "cell_type": "code",
   "execution_count": 43,
   "metadata": {},
   "outputs": [
    {
     "name": "stdout",
     "output_type": "stream",
     "text": [
      "0.2336856561978272\n",
      "0.0065184675339205606\n"
     ]
    },
    {
     "data": {
      "text/plain": [
       "(0.0, 100.0)"
      ]
     },
     "execution_count": 43,
     "metadata": {},
     "output_type": "execute_result"
    },
    {
     "data": {
      "image/png": "[encoded data removed]",
      "text/plain": [
       "<Figure size 600x600 with 1 Axes>"
      ]
     },
     "metadata": {
      "needs_background": "light"
     },
     "output_type": "display_data"
    }
   ],
   "source": [
    "tArr, aArr, HArr = getHubbleEvol()\n",
    "print(HArr[0])\n",
    "rhoCrit = (3 / (8 * np.pi)) * (HArr[0]**2)\n",
    "rhoxLowResFlat = np.asarray([rhoxLowRes[i, j, k] / (aArr[0]**3 * rhoCrit) for i in range(rhoxLowRes.shape[0]) for j in range(rhoxLowRes.shape[1]) for k in range(rhoxLowRes.shape[2])])\n",
    "print(rhoCrit)\n",
    "\n",
    "fig = plt.figure(figsize=(6, 6), dpi=100)\n",
    "histPlt = plt.hist(rhoxLowResFlat, bins=100)\n",
    "plt.ylim([0, 100])"
   ]
  },
  {
   "cell_type": "code",
   "execution_count": null,
   "metadata": {},
   "outputs": [],
   "source": [
    "ptypeN = 3\n",
    "coords = getCoords(0)\n",
    "massArr = getMass()\n",
    "massTotal = np.asarray([massArr[i] * coords[i].shape[0] for i in range(ptypeN)]).sum()\n",
    "\n",
    "print()"
   ]
  },
  {
   "cell_type": "code",
   "execution_count": 56,
   "metadata": {},
   "outputs": [
    {
     "name": "stdout",
     "output_type": "stream",
     "text": [
      "15914481.157424927\n",
      "[4.31825294e+01 2.11499882e+01 2.03632650e+06]\n",
      "0.0020413568892396895\n",
      "0.3131651540207805\n"
     ]
    }
   ],
   "source": [
    "tFix = 50\n",
    "massTab = np.zeros(3)\n",
    "\n",
    "snapDir = simDir + \"snapdir_{:03d}/\".format(tFix)\n",
    "path1 = snapDir + \"snapshot_{:03d}.0.hdf5\".format(tFix)\n",
    "fil = h5py.File(path1, 'r')\n",
    "\n",
    "totMasses = np.zeros(3)\n",
    "ptypeN = 3\n",
    "for pi in np.arange(0, ptypeN):\n",
    "    ptype = pi + 1\n",
    "    datGet = \"/PartType{:d}/Masses\".format(ptype)\n",
    "    masses = np.asarray(fil[datGet])\n",
    "    totMasses[pi] = masses.sum()\n",
    "    if pi == 2:\n",
    "        print(masses[0] * masses.size)\n",
    "\n",
    "totMass = totMasses.sum()\n",
    "print(totMasses)\n",
    "rhoTest = totMass / (100**3 * aArr[0]**3) * 1e10 * rhoScale\n",
    "print(rhoTest)\n",
    "print(rhoTest / rhoCrit)"
   ]
  }
 ],
 "metadata": {
  "kernelspec": {
   "display_name": "Python 3.9.12 ('base')",
   "language": "python",
   "name": "python3"
  },
  "language_info": {
   "codemirror_mode": {
    "name": "ipython",
    "version": 3
   },
   "file_extension": ".py",
   "mimetype": "text/x-python",
   "name": "python",
   "nbconvert_exporter": "python",
   "pygments_lexer": "ipython3",
   "version": "3.9.12"
  },
  "orig_nbformat": 4,
  "vscode": {
   "interpreter": {
    "hash": "525e0fc8d74ed98e4f82ece826367f444ea809cdd0eeba4ad9ed78a0d86d0dbd"
   }
  }
 },
 "nbformat": 4,
 "nbformat_minor": 2
}
