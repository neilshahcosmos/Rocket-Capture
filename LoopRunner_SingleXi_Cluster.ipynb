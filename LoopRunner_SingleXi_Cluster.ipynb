{
 "cells": [
  {
   "cell_type": "code",
   "execution_count": 2,
   "metadata": {},
   "outputs": [],
   "source": [
    "import numpy as np\n",
    "import scipy as sp\n",
    "from scipy import integrate, interpolate\n",
    "import scipy.fft as fft\n",
    "import matplotlib as mpl\n",
    "import matplotlib.pyplot as plt\n",
    "import datetime\n",
    "\n",
    "import h5py\n",
    "import os\n",
    "import time"
   ]
  },
  {
   "cell_type": "markdown",
   "metadata": {},
   "source": [
    "Global Parameters"
   ]
  },
  {
   "cell_type": "code",
   "execution_count": null,
   "metadata": {},
   "outputs": [],
   "source": [
    "# Global Rocket Parameters\n",
    "xi = 50\n",
    "Gmu = 1e-12\n",
    "GammaFrac = 0.1\n",
    "vf = 0.3\n",
    "nRockets = 1000\n",
    "\n",
    "# Global Simulation Parameters\n",
    "tmax = 100\n",
    "L = 100\n",
    "binS = 100\n",
    "zi = 127\n",
    "dx = L / binS\n",
    "h = 0.7\n",
    "rhoScale = 4.78e-20 # Mpc / Msun\n",
    "\n",
    "# Global Physical Parameters\n",
    "t0 = 4213 / h # Mpc / h\n",
    "H0 = 0.0003333"
   ]
  },
  {
   "cell_type": "code",
   "execution_count": null,
   "metadata": {},
   "outputs": [],
   "source": [
    "# Cluster dirs\n",
    "homeDir = \"/cluster/tufts/hertzberglab/nshah14/\"\n",
    "sharedDir = \"/cluster/tufts/hertzberglab/shared/Rockets/\"\n",
    "simName = \"Sim_100v\"\n",
    "simDir = sharedDir + simName + \"/\""
   ]
  },
  {
   "cell_type": "markdown",
   "metadata": {},
   "source": [
    "Utility Functions"
   ]
  },
  {
   "cell_type": "code",
   "execution_count": 73,
   "metadata": {},
   "outputs": [],
   "source": [
    "def getHubbleEvol():\n",
    "    OMatter = 0.25\n",
    "    OLambda = 0.75\n",
    "\n",
    "    da_dt = lambda a, t: a * H0 * np.sqrt(OMatter / a**3 + OLambda)\n",
    "\n",
    "    a0 = 1 / (1 + zi)\n",
    "    tInt = np.linspace(0, 1.1 / H0, 1000)\n",
    "    af = interpolate.InterpolatedUnivariateSpline(tInt, integrate.odeint(da_dt, y0=a0, t=tInt)[:, 0])\n",
    "    aDotf = af.derivative(n=1)\n",
    "    tEnd = sp.optimize.fsolve(lambda t: af(t) - 1.0, x0=(1.0 / H0))[0]\n",
    "\n",
    "    tArr = np.asarray([(tEnd + t)**(t / tmax) - 1 for t in range(tmax)])\n",
    "    aArr = np.asarray([af(t) for t in tArr])\n",
    "    HArr = np.asarray([aDotf(t) / af(t) for t in tArr])\n",
    "\n",
    "    return tArr, aArr, HArr"
   ]
  },
  {
   "cell_type": "code",
   "execution_count": 83,
   "metadata": {},
   "outputs": [],
   "source": [
    "def getFg(t, pos, rhokL):\n",
    "    x, y, z = list(map(int, np.floor(pos)))\n",
    "    if x <= 0 or y <= 0 or z <= 0 or x >= binS-1 or y >= binS-1 or z >= binS-1:\n",
    "        return np.zeros(3) \n",
    "    else:\n",
    "        kArr = getkArr()\n",
    "        phix = fft.fftn(rhokL).real\n",
    "\n",
    "        try:\n",
    "            Fg = (4*np.pi / (2*dx)) * np.asarray([phix[x + 1, y, z] - phix[x - 1, y, z], phix[x, y + 1, z] - phix[x, y - 1, z], phix[x, y, z + 1] - phix[x, y, z - 1]])\n",
    "        except IndexError:\n",
    "            Fg = np.zeros(3)\n",
    "        return(Fg)"
   ]
  },
  {
   "cell_type": "code",
   "execution_count": 29,
   "metadata": {},
   "outputs": [],
   "source": [
    "def getkArr(override=False):\n",
    "    kArrPath = simDir + \"kArr__bins_{:03d}.npy\".format(binS)\n",
    "    if os.path.exists(kArrPath) and not override:\n",
    "        kArr = np.load(kArrPath)\n",
    "        return(kArr)\n",
    "\n",
    "    kArr = np.zeros((binS, binS, binS), dtype=float)\n",
    "    halfBins = int(binS / 2)\n",
    "    for i in range(binS):\n",
    "        for j in range(binS):\n",
    "            for k in range(binS):\n",
    "                lx = - (4 * binS**2 / L**2) * np.sin((np.pi / binS) * (i - halfBins))**2\n",
    "                ly = - (4 * binS**2 / L**2) * np.sin((np.pi / binS) * (j - halfBins))**2\n",
    "                lz = - (4 * binS**2 / L**2) * np.sin((np.pi / binS) * (k - halfBins))**2\n",
    "                if i == halfBins and j == halfBins and k == halfBins:\n",
    "                    kArr[i, j, k] = 1\n",
    "                else:\n",
    "                    kArr[i, j, k] = lx + ly + lz\n",
    "    \n",
    "    np.save(kArrPath, kArr)\n",
    "    return kArr\n",
    "\n",
    "def getRhokLambda(t, kArr):\n",
    "    rhox = getRhox(t)\n",
    "    rhok = fft.ifftn(rhox)\n",
    "\n",
    "    halfBins = int(binS / 2)\n",
    "    rhokL = np.divide(rhok, kArr)\n",
    "    rhokL[halfBins, halfBins, halfBins] = 0\n",
    "    \n",
    "    return(rhokL)"
   ]
  },
  {
   "cell_type": "code",
   "execution_count": 84,
   "metadata": {},
   "outputs": [],
   "source": [
    "def getRhox(t, override=False):\n",
    "    snapDir = simDir + \"snapdir_{:03d}/\".format(t)\n",
    "    pathArr = np.asarray(os.listdir(snapDir))\n",
    "    \n",
    "    saveDir = simDir + simName + \"_rhoX/\"\n",
    "    if not os.path.exists(saveDir):\n",
    "        os.makedirs(saveDir)\n",
    "    savePath = saveDir + \"rhoX_test_{:d}.npy\".format(t)\n",
    "\n",
    "    if os.path.exists(savePath) and not override:\n",
    "        rhox = np.load(savePath)\n",
    "        return(rhox)\n",
    "    else:\n",
    "        ptypeN = 3\n",
    "        massArr = getMass()\n",
    "        rhox = np.zeros((binS, binS, binS))\n",
    "        for pi in np.arange(0, ptypeN):\n",
    "            ptype = pi + 1\n",
    "            mi = massArr[pi]\n",
    "            \n",
    "            for pathi in np.arange(0, pathArr.size):\n",
    "                datGet = \"/PartType{:d}/Coordinates\".format(ptype)\n",
    "                try:\n",
    "                    coords = np.asarray(h5py.File(snapDir + pathArr[pathi], 'r')[datGet])\n",
    "                except KeyError:\n",
    "                    # print(\"   (Warning! Could not find ptype {:d} for snapshot t = {:d})\".format(ptype, t))\n",
    "                    pass\n",
    "\n",
    "                for ci, coord in enumerate(coords):\n",
    "                    i, j, k = list(map(lambda x: x - 1 if x == binS else x, map(int, np.floor(coord))))\n",
    "                    rhox[i, j, k] += mi\n",
    "        \n",
    "        rhox *= rhoScale * 1e10\n",
    "        np.save(savePath, rhox)\n",
    "        return(rhox)\n",
    "\n",
    "def rhoInstantiate(redo=[]):\n",
    "    t0 = time.time()\n",
    "    override = False\n",
    "    for t in range(0, tmax):\n",
    "        catch = getRhox(t, override=False)\n",
    "        if np.mod(t, 10) == 0:\n",
    "            print(\"   Processing t = {}/{} (Time Elapsed: {}, Estimated Time Remaining: {})\".format(t + 1, tmax, toMS(time.time() - t0), toMS((tmax / (t + 1) - 1) * (time.time() - t0))))\n",
    "    \n",
    "    print(\"Finished Instantiating Density Matrices! Took: {}\\n\".format(toMS(time.time() - t0)))"
   ]
  },
  {
   "cell_type": "code",
   "execution_count": 36,
   "metadata": {},
   "outputs": [],
   "source": [
    "def getMass():\n",
    "    tFix = 50\n",
    "    massTab = np.zeros(3)\n",
    "\n",
    "    snapDir = simDir + \"snapdir_{:03d}/\".format(tFix)\n",
    "    path1 = snapDir + \"snapshot_{:03d}.0.hdf5\".format(tFix)\n",
    "    fil = h5py.File(path1, 'r')\n",
    "\n",
    "    ptypeN = 3\n",
    "    for pi in np.arange(0, ptypeN):\n",
    "        ptype = pi + 1\n",
    "        datGet = \"/PartType{:d}/Masses\".format(ptype)\n",
    "        massTab[pi] = np.asarray(fil[datGet])[0]\n",
    "\n",
    "    return massTab"
   ]
  },
  {
   "cell_type": "code",
   "execution_count": 26,
   "metadata": {},
   "outputs": [],
   "source": [
    "def toMS(t):\n",
    "    s = np.floor(np.mod(t, 60))\n",
    "    m = np.floor(np.mod(t, 3600) / 60)\n",
    "    h = np.floor(t / 3600)\n",
    "\n",
    "    if t < 1:\n",
    "        tstr = \"{:f} s\".format(t)\n",
    "    elif t < 3600:\n",
    "        tstr = \"{:02d}m {:02d}s\".format(int(m), int(s))\n",
    "    else:\n",
    "        tstr = \"{}h {:02d}m {:02d}s\".format(int(h), int(m), int(s))\n",
    "    return tstr"
   ]
  },
  {
   "cell_type": "code",
   "execution_count": null,
   "metadata": {},
   "outputs": [],
   "source": [
    "def getHaloC(t):\n",
    "    haloFinalDir = simDir + \"snapdir_{:03d}/\".format(t)\n",
    "    pathArr = np.asarray(os.listdir(haloFinalDir))\n",
    "    haloFinalCoords = np.empty((0, 3))\n",
    "\n",
    "    for pathi in np.arange(0, pathArr.size):\n",
    "        datGet = \"/PartType1/Coordinates\"\n",
    "        try:\n",
    "            coords = np.asarray(h5py.File(haloFinalDir + pathArr[pathi], 'r')[datGet])\n",
    "        except KeyError:\n",
    "            continue\n",
    "        haloFinalCoords = np.concatenate([haloFinalCoords, coords], axis=0)\n",
    "\n",
    "    haloC = np.asarray([np.mean(haloFinalCoords[:, i]) for i in range(3)])\n",
    "    return(haloC)"
   ]
  },
  {
   "cell_type": "markdown",
   "metadata": {},
   "source": [
    "Rocket Evolution"
   ]
  },
  {
   "cell_type": "code",
   "execution_count": null,
   "metadata": {},
   "outputs": [],
   "source": [
    "t0G = time.time()\n",
    "print(\"Hello! Now Beginning Rocket Evolution\")\n",
    "print(\"This run has Global Parameters: xi = {}, Gmu = {}, GammaFrac = {}, vf = {}\\n\".format(xi, Gmu, GammaFrac, vf))\n",
    "\n",
    "print(\"Now Beginning Instantiation of rho matrices. Here I will calculate binned density matrices from the raw simulation data and save it to a file.\")\n",
    "rhoInstantiate()\n",
    "\n",
    "# Get Hubble Evolution\n",
    "tArr, aArr, HArr = getHubbleEvol()\n",
    "dtArr = np.diff(tArr)"
   ]
  },
  {
   "cell_type": "code",
   "execution_count": null,
   "metadata": {},
   "outputs": [],
   "source": [
    "print(\"\\nNow Processing Rocket Evolution!:\")\n",
    "rocketSavePath = simDir + \"loopEvol__num_{:d}__xi_{:d}.npy\".format(nRockets, xi)\n",
    "\n",
    "xArr = np.zeros((nRockets, 3, tmax))\n",
    "vArr = np.zeros((nRockets, 3, tmax))\n",
    "FRocketArr = np.zeros((nRockets, 3))\n",
    "\n",
    "xArr[:, :, 0] = np.asarray([L * np.random.rand(3) for i in range(0, nRockets)])\n",
    "vArr[:, :, 0] = 2.6 * (1 + zi) * np.sqrt(xi * Gmu) * vf * np.asarray([v / np.linalg.norm(v) for v in (2*np.random.rand(nRockets, 3)-1)])\n",
    "FRocketArr = (H0 * GammaFrac / xi) * np.asarray([v / np.linalg.norm(v) for v in (2*np.random.rand(nRockets, 3)-1)])\n",
    "\n",
    "kArr = getkArr()\n",
    "t0 = time.time()\n",
    "for ti in np.arange(0, tmax - 1):\n",
    "    t = tArr[ti]\n",
    "    dti = dtArr[ti]\n",
    "    ai = aArr[ti]\n",
    "    Hi = HArr[ti]\n",
    "    rhokLi = getRhokLambda(ti, kArr)\n",
    "    for ri in range(nRockets):\n",
    "        FRocketi = FRocketArr[ri, :]\n",
    "        Fgi = getFg(ti, xArr[ri, :, ti], rhokLi)\n",
    "        vArr[ri, :, ti + 1] = vArr[ri, :, ti] - 2 * Hi * vArr[ri, :, ti] * dti + (dti / ai) * (Fgi + FRocketi)\n",
    "        xArr[ri, :, ti + 1] = xArr[ri, :, ti] + dti * vArr[ri, :, ti]\n",
    "    if np.mod(ti, 10) == 0:\n",
    "        print(\"   Processing t = {}/{} (Time Elapsed: {}, Estimated Time Remaining: {})\".format(ti + 1, tmax, toMS(time.time() - t0), toMS((tmax / (ti + 1) - 1) * (time.time() - t0))))\n",
    "\n",
    "print(\"Finished Processing Rocket Evolution! Time Taken: {}\\n\".format(toMS(time.time() - t0)))\n",
    "\n",
    "np.save(rocketSavePath, np.asarray([xArr, vArr]))\n",
    "print(\"Rocket Trajectories Successfully Exported. \\nWe are now done, thank you! Total Time Taken: {}\\n\".format(toMS(time.time() - t0G)))"
   ]
  }
 ],
 "metadata": {
  "kernelspec": {
   "display_name": "Python 3.8.5 ('base')",
   "language": "python",
   "name": "python3"
  },
  "language_info": {
   "codemirror_mode": {
    "name": "ipython",
    "version": 3
   },
   "file_extension": ".py",
   "mimetype": "text/x-python",
   "name": "python",
   "nbconvert_exporter": "python",
   "pygments_lexer": "ipython3",
   "version": "3.8.5"
  },
  "orig_nbformat": 4,
  "vscode": {
   "interpreter": {
    "hash": "2bf40accb7e9f78ce3ef5eb39a536e85ee79f4dae9e32f4b9fcd93ba1ec84f31"
   }
  }
 },
 "nbformat": 4,
 "nbformat_minor": 2
}
