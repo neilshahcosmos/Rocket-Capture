{
 "cells": [
  {
   "cell_type": "code",
   "execution_count": 1,
   "metadata": {},
   "outputs": [],
   "source": [
    "import os\n",
    "import matplotlib.pyplot as plt\n",
    "import matplotlib\n",
    "import csv\n",
    "import numpy as np\n",
    "import h5py\n",
    "#I use this command to get the current working directory (cwd) so that I can easily refer to this path when writing file paths\n",
    "cwd = os.getcwd()+'/'\n",
    "\n",
    "#to add the getrho module, we need to tell python to look in that directory. the folder should be cwd+getrho/\n",
    "import sys\n",
    "getrhodir=cwd+'getrho/'\n",
    "if getrhodir not in sys.path:\n",
    "    sys.path.append(getrhodir)\n",
    "import get_rho_p as grp\n",
    "import get_rho_c as grc\n",
    "import datetime\n",
    "\n",
    "from scipy.fft import fftn, ifftn"
   ]
  },
  {
   "cell_type": "code",
   "execution_count": 2,
   "metadata": {},
   "outputs": [],
   "source": [
    "def rhokoverkm2(rhok):\n",
    "    nx=rhok.shape[0]\n",
    "    ny=rhok.shape[1]\n",
    "    nz=rhok.shape[2]\n",
    "    rhokk2=np.copy(rhok)\n",
    "    k2s=np.zeros((nx,ny,nz))\n",
    "    for i in range(nx):\n",
    "        for j in range(ny):\n",
    "            for k in range(nz):\n",
    "                if i<nx/2:\n",
    "                    ni=i\n",
    "                else:\n",
    "                    ni=i-nx\n",
    "                if j<ny/2:\n",
    "                    nj=j\n",
    "                else:\n",
    "                    nj=j-nz\n",
    "                if k<nz/2:\n",
    "                    nk=k\n",
    "                else:\n",
    "                    nk=k-nz\n",
    "                k2 = 4*(np.pi)**2 *((ni/nx)**2+(nj/ny)**2+(nk/nz)**2)\n",
    "                k2s[i,j,k]=k2\n",
    "                if i==0 and j==0 and k==0:\n",
    "                    rhokk2[i,j,k] = 0\n",
    "                else:\n",
    "                    rhokk2[i,j,k]= rhok[i,j,k]/(-k2)\n",
    "    return rhokk2\n",
    "\n",
    "def rhokoverlambda(rhok,dx,dy,dz):\n",
    "    nx=rhok.shape[0]\n",
    "    ny=rhok.shape[1]\n",
    "    nz=rhok.shape[2]\n",
    "    Lx = dx*nx\n",
    "    Ly = dy*ny\n",
    "    Lz = dz*nz\n",
    "    rhokl=np.copy(rhok)\n",
    "    k2s=np.zeros((nx,ny,nz))\n",
    "    for i in range(nx):\n",
    "        for j in range(ny):\n",
    "            for k in range(nz):\n",
    "                if i<nx/2:\n",
    "                    ni=i\n",
    "                else:\n",
    "                    ni=i-nx\n",
    "                if j<ny/2:\n",
    "                    nj=j\n",
    "                else:\n",
    "                    nj=j-nz\n",
    "                if k<nz/2:\n",
    "                    nk=k\n",
    "                else:\n",
    "                    nk=k-nz\n",
    "                lambdax = - 4* nx**2 / (Lx**2) * (np.sin(np.pi*ni/nx))**2\n",
    "                lambday = - 4* ny**2 / (Ly**2) * (np.sin(np.pi*nj/ny))**2\n",
    "                lambdaz = - 4* nz**2 / (Lz**2) * (np.sin(np.pi*nk/nz))**2\n",
    "                if i==0 and j==0 and k==0:\n",
    "                    rhokl[i,j,k] = 0\n",
    "                else:\n",
    "                    rhokl[i,j,k]= rhok[i,j,k]/(lambdax+lambday+lambdaz)\n",
    "    return rhokl\n",
    "\n",
    "def Fgk2(rho,redz,posx,posy,posz,dx,dy,dz):\n",
    "    rhok = ifftn(rho*4.78e-10*(1+redz)**3)\n",
    "    phix = fftn(rhokoverkm2(rhok))\n",
    "    dphidx = 4*np.pi*(phix[posx+1,posy,posz]-phix[posx-1,posy,posz])/(2*dx)\n",
    "    dphidy = 4*np.pi*(phix[posx,posy+1,posz]-phix[posx,posy-1,posz])/(2*dy)\n",
    "    dphidz = 4*np.pi*(phix[posx,posy,posz+1]-phix[posx,posy,posz-1])/(2*dz)\n",
    "    return np.asarray([-dphidx,-dphidy,-dphidz])\n",
    "\n",
    "def Fg(rho,redz,posx,posy,posz,dx,dy,dz):\n",
    "    rhok = ifftn(rho*4.78e-10*(1+redz)**3)\n",
    "    phix = fftn(rhokoverlambda(rhok,dx,dy,dz))\n",
    "    dphidx = 4*np.pi*(phix[posx+1,posy,posz]-phix[posx-1,posy,posz])/(2*dx)\n",
    "    dphidy = 4*np.pi*(phix[posx,posy+1,posz]-phix[posx,posy-1,posz])/(2*dy)\n",
    "    dphidz = 4*np.pi*(phix[posx,posy,posz+1]-phix[posx,posy,posz-1])/(2*dz)\n",
    "    return np.asarray([-dphidx,-dphidy,-dphidz])\n",
    "\n",
    "def rhok_of_rho(rho,redz):\n",
    "    return ifftn(rho*4.78e-10*(1+redz)**3)\n",
    "\n",
    "def Fg_of_rhok(rhok,posx,posy,posz,dx,dy,dz):\n",
    "    phix = fftn(rhokoverlambda(rhok,dx,dy,dz))\n",
    "    dphidx = 4*np.pi*(phix[posx+1,posy,posz]-phix[posx-1,posy,posz])/(2*dx)\n",
    "    dphidy = 4*np.pi*(phix[posx,posy+1,posz]-phix[posx,posy-1,posz])/(2*dy)\n",
    "    dphidz = 4*np.pi*(phix[posx,posy,posz+1]-phix[posx,posy,posz-1])/(2*dz)\n",
    "    return np.asarray([-dphidx,-dphidy,-dphidz])\n",
    "\n",
    "def timestep(dt,pos,vel,redz,H,fnet):\n",
    "    a=1/(1+redz)\n",
    "    vel2 = vel - 2*H*vel*dt + dt/a*fnet\n",
    "    pos2 = pos + dt*vel\n",
    "    return pos2,vel2\n",
    "\n",
    "def posind(pos,pmin,pmax,bins):\n",
    "    brange=(pmax-pmin)/bins\n",
    "    pind=int(np.floor((pos-pmin)/brange))\n",
    "    return pind"
   ]
  },
  {
   "cell_type": "code",
   "execution_count": 3,
   "metadata": {},
   "outputs": [],
   "source": [
    "import scipy.integrate as integrate\n",
    "from scipy import interpolate\n",
    "from scipy.optimize import fsolve\n",
    "\n",
    "\n",
    "def time_Hubble_of_a(a_eval):\n",
    "    def fried(y,t,H0,Om,OL):\n",
    "        a = y\n",
    "        dadt = a*H0*np.sqrt(Om/a**3+OL)\n",
    "        return dadt\n",
    "    a0=0.0078125\n",
    "    H0=0.0003333\n",
    "    Om=0.25\n",
    "    OL=0.75\n",
    "    t=np.linspace(0,1.1*H0**(-1),1000)\n",
    "    sol = integrate.odeint(fried, a0, t, args=(H0,Om,OL))\n",
    "    f = interpolate.interp1d(t, sol[:,0])\n",
    "    func = lambda tau : f(tau)-a_eval\n",
    "    t_eval=fsolve(func,H0**(-1)*a_eval)[0]\n",
    "    H_eval=(f(t_eval+0.001)-f(t_eval))/(0.001)/a_eval\n",
    "    return t_eval, H_eval\n",
    "\n",
    "def a_Hubble_of_t(t_eval):\n",
    "    def fried(y,t,H0,Om,OL):\n",
    "        a = y\n",
    "        dadt = a*H0*np.sqrt(Om/a**3+OL)\n",
    "        return dadt\n",
    "    a0=0.0078125\n",
    "    H0=0.0003333\n",
    "    Om=0.25\n",
    "    OL=0.75\n",
    "    t=np.linspace(0,1.1*H0**(-1),1000)\n",
    "    sol = integrate.odeint(fried, a0, t, args=(H0,Om,OL))\n",
    "    f = interpolate.interp1d(t, sol[:,0])\n",
    "    a_eval = float(f(t_eval))\n",
    "    H_eval=(f(t_eval+0.001)-f(t_eval))/(0.001)/a_eval\n",
    "    return a_eval,H_eval\n",
    "    "
   ]
  },
  {
   "cell_type": "code",
   "execution_count": 4,
   "metadata": {},
   "outputs": [
    {
     "name": "stdout",
     "output_type": "stream",
     "text": [
      "Setting up took 0.22378 seconds.\n"
     ]
    },
    {
     "name": "stderr",
     "output_type": "stream",
     "text": [
      "/usr/lib/python3/dist-packages/ipykernel_launcher.py:71: ComplexWarning: Casting complex values to real discards the imaginary part\n"
     ]
    },
    {
     "name": "stdout",
     "output_type": "stream",
     "text": [
      "Loop element 0 took 46.50069 seconds.\n",
      "Loop element 1 took 40.605585 seconds.\n",
      "Loop element 2 took 38.773788 seconds.\n",
      "Loop element 3 took 35.270375 seconds.\n",
      "Loop element 4 took 31.394 seconds.\n",
      "Loop element 5 took 30.665914 seconds.\n",
      "Loop element 6 took 32.792825 seconds.\n",
      "Loop element 7 took 33.476154 seconds.\n",
      "Loop element 8 took 34.236233 seconds.\n",
      "Loop element 9 took 35.335331 seconds.\n",
      "Loop element 10 took 35.757115 seconds.\n",
      "Loop element 11 took 34.914065 seconds.\n",
      "Loop element 12 took 35.838221 seconds.\n",
      "Loop element 13 took 34.309722 seconds.\n",
      "Loop element 14 took 32.82997 seconds.\n",
      "Loop element 15 took 31.815133 seconds.\n",
      "Loop element 16 took 34.622019 seconds.\n",
      "Loop element 17 took 33.800143 seconds.\n",
      "Loop element 18 took 39.422779 seconds.\n",
      "Loop element 19 took 43.136242 seconds.\n",
      "Loop element 20 took 33.443458 seconds.\n",
      "Loop element 21 took 35.232824 seconds.\n",
      "Loop element 22 took 35.940271 seconds.\n",
      "Loop element 23 took 34.270039 seconds.\n",
      "Loop element 24 took 33.655659 seconds.\n",
      "Loop element 25 took 35.502196 seconds.\n",
      "Loop element 26 took 42.612152 seconds.\n",
      "Loop element 27 took 37.351015 seconds.\n",
      "Loop element 28 took 39.359022 seconds.\n",
      "Loop element 29 took 35.635791 seconds.\n",
      "Loop element 30 took 33.65711 seconds.\n",
      "Loop element 31 took 35.784797 seconds.\n",
      "Loop element 32 took 34.016758 seconds.\n",
      "Loop element 33 took 37.458978 seconds.\n",
      "Loop element 34 took 36.473394 seconds.\n",
      "Loop element 35 took 35.460225 seconds.\n",
      "Loop element 36 took 34.445588 seconds.\n",
      "Loop element 37 took 34.410027 seconds.\n",
      "Loop element 38 took 34.248323 seconds.\n",
      "Loop element 39 took 38.246177 seconds.\n",
      "Loop element 40 took 55.431284 seconds.\n",
      "Loop element 41 took 41.00906 seconds.\n",
      "Loop element 42 took 35.495749 seconds.\n",
      "Loop element 43 took 34.741206 seconds.\n",
      "Loop element 44 took 35.930464 seconds.\n",
      "Loop element 45 took 35.461153 seconds.\n",
      "Loop element 46 took 33.73061 seconds.\n",
      "Loop element 47 took 34.929591 seconds.\n",
      "Loop element 48 took 36.438621 seconds.\n",
      "Loop element 49 took 38.780059 seconds.\n",
      "Loop element 50 took 35.239509 seconds.\n",
      "Loop element 51 took 34.597525 seconds.\n",
      "Loop element 52 took 40.424909 seconds.\n",
      "Loop element 53 took 35.510312 seconds.\n",
      "Loop element 54 took 34.709974 seconds.\n",
      "Loop element 55 took 33.378699 seconds.\n",
      "Loop element 56 took 32.804544 seconds.\n",
      "Loop element 57 took 34.042498 seconds.\n",
      "Loop element 58 took 33.55906 seconds.\n",
      "Loop element 59 took 35.86908 seconds.\n",
      "Loop element 60 took 37.424228 seconds.\n",
      "Loop element 61 took 35.443324 seconds.\n",
      "Loop element 62 took 33.584833 seconds.\n",
      "Loop element 63 took 32.94045 seconds.\n",
      "Loop element 64 took 30.332875 seconds.\n",
      "Loop element 65 took 29.832947 seconds.\n",
      "Loop element 66 took 30.92644 seconds.\n",
      "Loop element 67 took 29.525045 seconds.\n",
      "Loop element 68 took 30.940313 seconds.\n",
      "Loop element 69 took 31.241156 seconds.\n",
      "Loop element 70 took 31.495982 seconds.\n",
      "Loop element 71 took 32.26218 seconds.\n",
      "Loop element 72 took 32.431174 seconds.\n",
      "Loop element 73 took 33.516293 seconds.\n",
      "Loop element 74 took 31.349953 seconds.\n",
      "Loop element 75 took 30.233718 seconds.\n",
      "Loop element 76 took 31.630569 seconds.\n",
      "Loop element 77 took 31.082071 seconds.\n",
      "Loop element 78 took 46.287643 seconds.\n",
      "Loop element 79 took 50.048354 seconds.\n",
      "Loop element 80 took 44.028749 seconds.\n",
      "Loop element 81 took 45.507695 seconds.\n",
      "Loop element 82 took 34.776544 seconds.\n",
      "Loop element 83 took 35.555506 seconds.\n",
      "Loop element 84 took 37.761738 seconds.\n",
      "Loop element 85 took 31.069389 seconds.\n",
      "Loop element 86 took 31.283145 seconds.\n",
      "Loop element 87 took 30.700355 seconds.\n",
      "Loop element 88 took 30.936431 seconds.\n",
      "Loop element 89 took 30.376921 seconds.\n",
      "Loop element 90 took 30.318467 seconds.\n",
      "Loop element 91 took 30.736647 seconds.\n",
      "Loop element 92 took 31.296283 seconds.\n",
      "Loop element 93 took 30.634356 seconds.\n",
      "Loop element 94 took 31.349033 seconds.\n",
      "Loop element 95 took 30.696282 seconds.\n",
      "Loop element 96 took 30.351725 seconds.\n",
      "Loop element 97 took 30.020363 seconds.\n",
      "Loop element 98 took 30.964018 seconds.\n",
      "Loop element 99 took 30.907852 seconds.\n",
      "Whole loop took 58.2769688 minutes.\n",
      "Whole process took 58.28070756666667 minutes.\n"
     ]
    }
   ],
   "source": [
    "#typical? rocket force\n",
    "time1=datetime.datetime.now()\n",
    "#t, a, H array\n",
    "taH=np.zeros((101,3))\n",
    "tend,Hend=time_Hubble_of_a(1.0)\n",
    "N=100\n",
    "for i in range(101):\n",
    "    taH[i,0]=(tend+1)**(i/N)-1\n",
    "    taH[i,1],taH[i,2]=a_Hubble_of_t(taH[i,0])\n",
    "    \n",
    "#set up rocket force\n",
    "xi=80\n",
    "GpoG=0.1\n",
    "H0=0.00033333\n",
    "nrocket=np.asarray([1.,0.,0.])\n",
    "fRocket=H0/xi*GpoG*nrocket\n",
    "#fRocket = nrocket*5e-7\n",
    "\n",
    "#initial conditions\n",
    "a_ini = taH[0,1]\n",
    "t_ini = taH[0,0]\n",
    "pos_ini = np.asarray([[35.,35.,35.],[40.,40.,40.],[45.,45.,45.],[55.,55.,55.],[60.,60.,60.]])\n",
    "vel_ini = np.asarray([[1.,1.,1.],[1.,1.,1.],[1.,1.,1.],[1.,1.,1.],[1.,1.,1.]])/(np.sqrt(3))*2.6/a_ini*np.sqrt(xi*1e-11)*0.3\n",
    "#pos_ini = np.asarray([25.,25.,25.])\n",
    "#vel_ini = np.asarray([1.,1.,1.])*6e-4/a_ini\n",
    "\n",
    "#read info for simulation\n",
    "path=cwd+'Sim_100v/'\n",
    "snaps,slnums,sl=grp.get_snapshot_info(path)\n",
    "bchoice=100\n",
    "xmin=0\n",
    "xmax=100\n",
    "ymin=0\n",
    "ymax=100\n",
    "zmin=0\n",
    "zmax=100\n",
    "dx=(xmax-xmin)/bchoice\n",
    "dy=(ymax-ymin)/bchoice\n",
    "dz=(zmax-zmin)/bchoice\n",
    "\n",
    "#set up pos, vel arrays to be stored\n",
    "pos_arr3=np.zeros((len(pos_ini),len(taH),3))\n",
    "vel_arr3=np.zeros((len(pos_ini),len(taH),3))\n",
    "for i in range(len(pos_arr3)):\n",
    "    pos_arr3[i,0]=pos_ini[i]\n",
    "    vel_arr3[i,0]=vel_ini[i]\n",
    "\n",
    "time2=datetime.datetime.now()\n",
    "print('Setting up took '+str((time2-time1).total_seconds())+' seconds.')\n",
    "time3=datetime.datetime.now()\n",
    "#loop through time\n",
    "for i in range(len(taH)-1):\n",
    "#for i in range(1):\n",
    "    time4=datetime.datetime.now()\n",
    "    #get density, redshift from snapshot\n",
    "    rho,xc,yc,zc=grp.rho_of_snap_P1(path,slnums,snaps[i],xmin,xmax,ymin,ymax,zmin,zmax,bchoice)\n",
    "    redz,time=grp.get_z_t(path,snaps[i])\n",
    "    rhok = ifftn(rho*4.78e-10*(1+redz)**3)\n",
    "    for j in range(len(pos_arr3)):\n",
    "        posx=posind(pos_arr3[j,i,0],xmin,xmax,bchoice)\n",
    "        posy=posind(pos_arr3[j,i,1],ymin,ymax,bchoice)\n",
    "        posz=posind(pos_arr3[j,i,2],zmin,zmax,bchoice)\n",
    "        if posx<0 or posy<0 or posz<0 or posx>=bchoice or posy>=bchoice or posz>=bchoice:\n",
    "            print(\"rocket flew off the grid, ending computation at time index \"+str(i)+'. Corresponds to time='+str(taH[i,0])+', a='+str(taH[i,1])+'.')\n",
    "            print(\"position indices found to be\"+str((posx,posy,posz)))\n",
    "            break\n",
    "        fGrav=Fg_of_rhok(rhok,posx,posy,posz,dx,dy,dz)\n",
    "        fNet=fGrav+fRocket\n",
    "        dt=taH[i+1,0]-taH[i,0]\n",
    "        H=taH[i,2]\n",
    "        pos_arr3[j,i+1],vel_arr3[j,i+1]=timestep(dt,pos_arr3[j,i],vel_arr3[j,i],redz,H,fNet)\n",
    "    time5=datetime.datetime.now()\n",
    "    print('Loop element '+str(i)+' took '+str((time5-time4).total_seconds())+' seconds.')\n",
    "print('Whole loop took '+str((time5-time3).total_seconds()/60.)+' minutes.')\n",
    "print('Whole process took '+str((time5-time1).total_seconds()/60.)+' minutes.')"
   ]
  },
  {
   "cell_type": "code",
   "execution_count": 5,
   "metadata": {},
   "outputs": [
    {
     "data": {
      "text/plain": [
       "<matplotlib.legend.Legend at 0x7f682a2669e8>"
      ]
     },
     "execution_count": 5,
     "metadata": {},
     "output_type": "execute_result"
    },
    {
     "data": {
      "image/png": "[encoded data removed]",
      "text/plain": [
       "<Figure size 432x288 with 1 Axes>"
      ]
     },
     "metadata": {},
     "output_type": "display_data"
    }
   ],
   "source": [
    "plt.plot(pos_arr3[0,:,0],pos_arr3[0,:,1],'.',label='x_i = (35,35,35)')\n",
    "plt.plot(pos_arr3[1,:,0],pos_arr3[1,:,1],'.',label='x_i = (40,40,40)')\n",
    "plt.plot(pos_arr3[2,:,0],pos_arr3[2,:,1],'.',label='x_i = (45,45,45)')\n",
    "#plt.plot(pos_arr2[1,:,0],pos_arr2[1,:,1],'.',label='x_i = (50,50,50)')\n",
    "plt.plot(pos_arr3[3,:,0],pos_arr3[3,:,1],'.',label='x_i = (55,55,55)')\n",
    "plt.plot(pos_arr3[4,:,0],pos_arr3[4,:,1],'.',label='x_i = (60,60,60)')\n",
    "plt.legend()"
   ]
  },
  {
   "cell_type": "code",
   "execution_count": 4,
   "metadata": {},
   "outputs": [],
   "source": [
    "f=cwd+'Sim_100v/groups_100/fof_subhalo_tab_100.0.hdf5'\n",
    "file=h5py.File(f,'r')"
   ]
  },
  {
   "cell_type": "code",
   "execution_count": 27,
   "metadata": {},
   "outputs": [
    {
     "data": {
      "text/plain": [
       "127.0"
      ]
     },
     "execution_count": 27,
     "metadata": {},
     "output_type": "execute_result"
    }
   ],
   "source": [
    "file['Header'].attrs['Redshift']"
   ]
  },
  {
   "cell_type": "code",
   "execution_count": 29,
   "metadata": {},
   "outputs": [
    {
     "data": {
      "text/plain": [
       "124.59683073337136"
      ]
     },
     "execution_count": 29,
     "metadata": {},
     "output_type": "execute_result"
    }
   ],
   "source": [
    "file['Header'].attrs['Redshift']"
   ]
  },
  {
   "cell_type": "code",
   "execution_count": 31,
   "metadata": {},
   "outputs": [
    {
     "data": {
      "text/plain": [
       "121.6562180187796"
      ]
     },
     "execution_count": 31,
     "metadata": {},
     "output_type": "execute_result"
    }
   ],
   "source": [
    "file['Header'].attrs['Redshift']"
   ]
  },
  {
   "cell_type": "code",
   "execution_count": 38,
   "metadata": {},
   "outputs": [
    {
     "data": {
      "text/plain": [
       "11.438311518216711"
      ]
     },
     "execution_count": 38,
     "metadata": {},
     "output_type": "execute_result"
    }
   ],
   "source": [
    "file['Header'].attrs['Redshift']"
   ]
  },
  {
   "cell_type": "code",
   "execution_count": 37,
   "metadata": {},
   "outputs": [],
   "source": [
    "f=cwd+'Sim_100v/snapdir_056/snapshot_056.0.hdf5'\n",
    "file=h5py.File(f,'r')"
   ]
  },
  {
   "cell_type": "code",
   "execution_count": 12,
   "metadata": {},
   "outputs": [
    {
     "data": {
      "text/plain": [
       "<KeysViewHDF5 ['Config', 'Group', 'Header', 'IDs', 'Parameters', 'Subhalo']>"
      ]
     },
     "execution_count": 12,
     "metadata": {},
     "output_type": "execute_result"
    }
   ],
   "source": [
    "file.keys()"
   ]
  },
  {
   "cell_type": "code",
   "execution_count": 18,
   "metadata": {},
   "outputs": [
    {
     "data": {
      "text/plain": [
       "<KeysViewHDF5 ['GroupAscale', 'GroupFirstSub', 'GroupLen', 'GroupLenType', 'GroupMass', 'GroupMassType', 'GroupNsubs', 'GroupOffsetType', 'GroupPos', 'GroupVel', 'Group_M_Crit200', 'Group_M_Crit500', 'Group_M_Mean200', 'Group_M_TopHat200', 'Group_R_Crit200', 'Group_R_Crit500', 'Group_R_Mean200', 'Group_R_TopHat200']>"
      ]
     },
     "execution_count": 18,
     "metadata": {},
     "output_type": "execute_result"
    }
   ],
   "source": [
    "file['Group'].keys()"
   ]
  },
  {
   "cell_type": "code",
   "execution_count": 20,
   "metadata": {},
   "outputs": [
    {
     "data": {
      "text/plain": [
       "array([0.17783348], dtype=float32)"
      ]
     },
     "execution_count": 20,
     "metadata": {},
     "output_type": "execute_result"
    }
   ],
   "source": [
    "file['Group']['Group_R_Crit200'][:]"
   ]
  },
  {
   "cell_type": "code",
   "execution_count": 21,
   "metadata": {},
   "outputs": [
    {
     "data": {
      "text/plain": [
       "array([130.7333], dtype=float32)"
      ]
     },
     "execution_count": 21,
     "metadata": {},
     "output_type": "execute_result"
    }
   ],
   "source": [
    "file['Group']['Group_M_Crit200'][:]"
   ]
  },
  {
   "cell_type": "code",
   "execution_count": 22,
   "metadata": {},
   "outputs": [
    {
     "data": {
      "text/plain": [
       "array([[50.30435 , 50.334766, 50.52013 ]], dtype=float32)"
      ]
     },
     "execution_count": 22,
     "metadata": {},
     "output_type": "execute_result"
    }
   ],
   "source": [
    "file['Group']['GroupPos'][:]"
   ]
  },
  {
   "cell_type": "code",
   "execution_count": 11,
   "metadata": {},
   "outputs": [
    {
     "data": {
      "text/plain": [
       "<KeysViewHDF5 ['BoxSize', 'Git_commit', 'Git_date', 'Ngroups_ThisFile', 'Ngroups_Total', 'Nids_ThisFile', 'Nids_Total', 'Nsubhalos_ThisFile', 'Nsubhalos_Total', 'NumFiles', 'Redshift', 'Time']>"
      ]
     },
     "execution_count": 11,
     "metadata": {},
     "output_type": "execute_result"
    }
   ],
   "source": [
    "file['Header'].attrs.keys()"
   ]
  },
  {
   "cell_type": "code",
   "execution_count": 21,
   "metadata": {},
   "outputs": [
    {
     "data": {
      "text/plain": [
       "array([0., 1., 2., 3., 4., 5., 6., 7., 8., 9., 0., 0., 0., 0., 0.])"
      ]
     },
     "execution_count": 21,
     "metadata": {},
     "output_type": "execute_result"
    }
   ],
   "source": [
    "testarr=np.zeros(15)\n",
    "testarr[0:10]=[0,1,2,3,4,5,6,7,8,9]\n",
    "testarr"
   ]
  },
  {
   "cell_type": "code",
   "execution_count": 13,
   "metadata": {},
   "outputs": [
    {
     "data": {
      "text/plain": [
       "array([     0, 307859,  12529, 123124,      0,      0], dtype=uint32)"
      ]
     },
     "execution_count": 13,
     "metadata": {},
     "output_type": "execute_result"
    }
   ],
   "source": [
    "file['Header'].attrs['NumPart_ThisFile']"
   ]
  },
  {
   "cell_type": "code",
   "execution_count": 16,
   "metadata": {},
   "outputs": [
    {
     "data": {
      "text/plain": [
       "3055679"
      ]
     },
     "execution_count": 16,
     "metadata": {},
     "output_type": "execute_result"
    }
   ],
   "source": [
    "file['Header'].attrs['NumPart_Total'][1]"
   ]
  },
  {
   "cell_type": "code",
   "execution_count": 6,
   "metadata": {},
   "outputs": [],
   "source": [
    "path=cwd+'Sim_100v/'\n",
    "snaps,slnums,sl=grp.get_snapshot_info(path)"
   ]
  },
  {
   "cell_type": "code",
   "execution_count": 3,
   "metadata": {},
   "outputs": [
    {
     "name": "stdout",
     "output_type": "stream",
     "text": [
      "took 2.670383 seconds.\n"
     ]
    }
   ],
   "source": [
    "t1=datetime.datetime.now()\n",
    "p1,m1=grp.get_particles_type(path,slnums,snaps[0],ptypes=['PartType1'])\n",
    "t2=datetime.datetime.now()\n",
    "print('took '+str((t2-t1).total_seconds())+' seconds.')"
   ]
  },
  {
   "cell_type": "code",
   "execution_count": 7,
   "metadata": {},
   "outputs": [
    {
     "name": "stdout",
     "output_type": "stream",
     "text": [
      "took 0.301874 seconds.\n"
     ]
    }
   ],
   "source": [
    "t1=datetime.datetime.now()\n",
    "p2,m2=grp.get_particles_type2(path,slnums,snaps[0],ptypes=['PartType1'])\n",
    "t2=datetime.datetime.now()\n",
    "print('took '+str((t2-t1).total_seconds())+' seconds.')"
   ]
  },
  {
   "cell_type": "code",
   "execution_count": 9,
   "metadata": {},
   "outputs": [
    {
     "data": {
      "text/plain": [
       "{'mP1': array([0.00018764, 0.00018764, 0.00018764, ..., 0.00018764, 0.00018764,\n",
       "        0.00018764])}"
      ]
     },
     "execution_count": 9,
     "metadata": {},
     "output_type": "execute_result"
    }
   ],
   "source": [
    "m2"
   ]
  },
  {
   "cell_type": "code",
   "execution_count": 16,
   "metadata": {},
   "outputs": [
    {
     "name": "stdout",
     "output_type": "stream",
     "text": [
      "took 0.238787 seconds.\n"
     ]
    }
   ],
   "source": [
    "t1=datetime.datetime.now()\n",
    "rho,xc,yc,zc=grc.fastest_getrhoxyz_minmax(p2['xP1'],p2['yP1'],p2['zP1'],m2['mP1'],100,0,100,0,100,0,100)\n",
    "t2=datetime.datetime.now()\n",
    "print('took '+str((t2-t1).total_seconds())+' seconds.')"
   ]
  },
  {
   "cell_type": "code",
   "execution_count": 17,
   "metadata": {},
   "outputs": [
    {
     "name": "stdout",
     "output_type": "stream",
     "text": [
      "took 0.097119 seconds.\n"
     ]
    }
   ],
   "source": [
    "t1=datetime.datetime.now()\n",
    "rho2,xc2,yc2,zc2=grc.getrhoxyz_minmax_p_m(p2['xP1'],p2['yP1'],p2['zP1'],m2['mP1'],100,0,100,0,100,0,100)\n",
    "t2=datetime.datetime.now()\n",
    "print('took '+str((t2-t1).total_seconds())+' seconds.')"
   ]
  },
  {
   "cell_type": "code",
   "execution_count": 4,
   "metadata": {},
   "outputs": [
    {
     "data": {
      "text/plain": [
       "<KeysViewHDF5 ['Config', 'Header', 'Parameters', 'PartType1', 'PartType2', 'PartType3']>"
      ]
     },
     "execution_count": 4,
     "metadata": {},
     "output_type": "execute_result"
    }
   ],
   "source": [
    "file.keys()"
   ]
  },
  {
   "cell_type": "code",
   "execution_count": 14,
   "metadata": {},
   "outputs": [
    {
     "data": {
      "text/plain": [
       "(307859,)"
      ]
     },
     "execution_count": 14,
     "metadata": {},
     "output_type": "execute_result"
    }
   ],
   "source": [
    "file['PartType1']['Coordinates'][:,0]"
   ]
  },
  {
   "cell_type": "code",
   "execution_count": null,
   "metadata": {},
   "outputs": [],
   "source": [
    "2+2"
   ]
  },
  {
   "cell_type": "code",
   "execution_count": 13,
   "metadata": {},
   "outputs": [
    {
     "data": {
      "text/plain": [
       "array([1.08238158e-09-3.15533138e-25j, 3.30052663e-09-5.81766093e-25j,\n",
       "       2.08140959e-09+1.51184677e-25j])"
      ]
     },
     "execution_count": 13,
     "metadata": {},
     "output_type": "execute_result"
    }
   ],
   "source": [
    "fGrav"
   ]
  },
  {
   "cell_type": "code",
   "execution_count": 23,
   "metadata": {},
   "outputs": [
    {
     "name": "stdout",
     "output_type": "stream",
     "text": [
      "Setting up took 0.587072 seconds.\n"
     ]
    },
    {
     "name": "stderr",
     "output_type": "stream",
     "text": [
      "/usr/lib/python3/dist-packages/ipykernel_launcher.py:72: ComplexWarning: Casting complex values to real discards the imaginary part\n"
     ]
    },
    {
     "name": "stdout",
     "output_type": "stream",
     "text": [
      "Loop element 0 took 19.862604 seconds.\n",
      "Loop element 1 took 21.617053 seconds.\n",
      "Loop element 2 took 23.197088 seconds.\n",
      "Loop element 3 took 27.310045 seconds.\n",
      "Loop element 4 took 29.027238 seconds.\n",
      "Loop element 5 took 28.814915 seconds.\n",
      "Loop element 6 took 28.471176 seconds.\n",
      "Loop element 7 took 28.858568 seconds.\n",
      "Loop element 8 took 20.298548 seconds.\n",
      "Loop element 9 took 16.096899 seconds.\n",
      "Loop element 10 took 26.585728 seconds.\n",
      "Loop element 11 took 29.621243 seconds.\n",
      "Loop element 12 took 25.792167 seconds.\n",
      "Loop element 13 took 27.610913 seconds.\n",
      "Loop element 14 took 26.228641 seconds.\n",
      "Loop element 15 took 17.710345 seconds.\n",
      "Loop element 16 took 16.758545 seconds.\n",
      "Loop element 17 took 14.508844 seconds.\n",
      "Loop element 18 took 17.150744 seconds.\n",
      "Loop element 19 took 23.946129 seconds.\n",
      "Loop element 20 took 19.512791 seconds.\n",
      "Loop element 21 took 19.824981 seconds.\n",
      "Loop element 22 took 27.296769 seconds.\n",
      "Loop element 23 took 16.062935 seconds.\n",
      "Loop element 24 took 17.571652 seconds.\n",
      "Loop element 25 took 25.821998 seconds.\n",
      "Loop element 26 took 25.908091 seconds.\n",
      "Loop element 27 took 27.100987 seconds.\n",
      "Loop element 28 took 23.069573 seconds.\n",
      "Loop element 29 took 24.906956 seconds.\n",
      "Loop element 30 took 20.921183 seconds.\n",
      "Loop element 31 took 19.398565 seconds.\n",
      "Loop element 32 took 28.186351 seconds.\n",
      "Loop element 33 took 27.117431 seconds.\n",
      "Loop element 34 took 23.423999 seconds.\n",
      "Loop element 35 took 29.545999 seconds.\n",
      "Loop element 36 took 24.773385 seconds.\n",
      "Loop element 37 took 24.52965 seconds.\n",
      "Loop element 38 took 27.14688 seconds.\n",
      "Loop element 39 took 15.390643 seconds.\n",
      "Loop element 40 took 23.554928 seconds.\n",
      "Loop element 41 took 21.644423 seconds.\n",
      "Loop element 42 took 26.445518 seconds.\n",
      "Loop element 43 took 27.407945 seconds.\n",
      "Loop element 44 took 24.014342 seconds.\n",
      "Loop element 45 took 24.633186 seconds.\n",
      "Loop element 46 took 28.056023 seconds.\n",
      "Loop element 47 took 27.672197 seconds.\n",
      "Loop element 48 took 30.021906 seconds.\n",
      "Loop element 49 took 21.802122 seconds.\n",
      "Loop element 50 took 25.969533 seconds.\n",
      "Loop element 51 took 26.644518 seconds.\n",
      "Loop element 52 took 27.451044 seconds.\n",
      "Loop element 53 took 27.860011 seconds.\n",
      "Loop element 54 took 21.064977 seconds.\n",
      "Loop element 55 took 19.710284 seconds.\n",
      "Loop element 56 took 23.073666 seconds.\n"
     ]
    },
    {
     "ename": "KeyboardInterrupt",
     "evalue": "",
     "output_type": "error",
     "traceback": [
      "\u001b[0;31m---------------------------------------------------------------------------\u001b[0m",
      "\u001b[0;31mKeyboardInterrupt\u001b[0m                         Traceback (most recent call last)",
      "\u001b[0;32m<ipython-input-23-2012fc9c486f>\u001b[0m in \u001b[0;36m<module>\u001b[0;34m\u001b[0m\n\u001b[1;32m     66\u001b[0m             \u001b[0mprint\u001b[0m\u001b[0;34m(\u001b[0m\u001b[0;34m\"position indices found to be\"\u001b[0m\u001b[0;34m+\u001b[0m\u001b[0mstr\u001b[0m\u001b[0;34m(\u001b[0m\u001b[0;34m(\u001b[0m\u001b[0mposx\u001b[0m\u001b[0;34m,\u001b[0m\u001b[0mposy\u001b[0m\u001b[0;34m,\u001b[0m\u001b[0mposz\u001b[0m\u001b[0;34m)\u001b[0m\u001b[0;34m)\u001b[0m\u001b[0;34m)\u001b[0m\u001b[0;34m\u001b[0m\u001b[0;34m\u001b[0m\u001b[0m\n\u001b[1;32m     67\u001b[0m             \u001b[0;32mbreak\u001b[0m\u001b[0;34m\u001b[0m\u001b[0;34m\u001b[0m\u001b[0m\n\u001b[0;32m---> 68\u001b[0;31m         \u001b[0mfGrav\u001b[0m\u001b[0;34m=\u001b[0m\u001b[0mFg\u001b[0m\u001b[0;34m(\u001b[0m\u001b[0mrho\u001b[0m\u001b[0;34m,\u001b[0m\u001b[0mredz\u001b[0m\u001b[0;34m,\u001b[0m\u001b[0mposx\u001b[0m\u001b[0;34m,\u001b[0m\u001b[0mposy\u001b[0m\u001b[0;34m,\u001b[0m\u001b[0mposz\u001b[0m\u001b[0;34m,\u001b[0m\u001b[0mdx\u001b[0m\u001b[0;34m,\u001b[0m\u001b[0mdy\u001b[0m\u001b[0;34m,\u001b[0m\u001b[0mdz\u001b[0m\u001b[0;34m)\u001b[0m\u001b[0;34m\u001b[0m\u001b[0;34m\u001b[0m\u001b[0m\n\u001b[0m\u001b[1;32m     69\u001b[0m         \u001b[0mfNet\u001b[0m\u001b[0;34m=\u001b[0m\u001b[0mfGrav\u001b[0m\u001b[0;34m+\u001b[0m\u001b[0mfRocket\u001b[0m\u001b[0;34m\u001b[0m\u001b[0;34m\u001b[0m\u001b[0m\n\u001b[1;32m     70\u001b[0m         \u001b[0mdt\u001b[0m\u001b[0;34m=\u001b[0m\u001b[0mtaH\u001b[0m\u001b[0;34m[\u001b[0m\u001b[0mi\u001b[0m\u001b[0;34m+\u001b[0m\u001b[0;36m1\u001b[0m\u001b[0;34m,\u001b[0m\u001b[0;36m0\u001b[0m\u001b[0;34m]\u001b[0m\u001b[0;34m-\u001b[0m\u001b[0mtaH\u001b[0m\u001b[0;34m[\u001b[0m\u001b[0mi\u001b[0m\u001b[0;34m,\u001b[0m\u001b[0;36m0\u001b[0m\u001b[0;34m]\u001b[0m\u001b[0;34m\u001b[0m\u001b[0;34m\u001b[0m\u001b[0m\n",
      "\u001b[0;32m<ipython-input-2-9ab209b8a56c>\u001b[0m in \u001b[0;36mFg\u001b[0;34m(rho, redz, posx, posy, posz, dx, dy, dz)\u001b[0m\n\u001b[1;32m     71\u001b[0m \u001b[0;32mdef\u001b[0m \u001b[0mFg\u001b[0m\u001b[0;34m(\u001b[0m\u001b[0mrho\u001b[0m\u001b[0;34m,\u001b[0m\u001b[0mredz\u001b[0m\u001b[0;34m,\u001b[0m\u001b[0mposx\u001b[0m\u001b[0;34m,\u001b[0m\u001b[0mposy\u001b[0m\u001b[0;34m,\u001b[0m\u001b[0mposz\u001b[0m\u001b[0;34m,\u001b[0m\u001b[0mdx\u001b[0m\u001b[0;34m,\u001b[0m\u001b[0mdy\u001b[0m\u001b[0;34m,\u001b[0m\u001b[0mdz\u001b[0m\u001b[0;34m)\u001b[0m\u001b[0;34m:\u001b[0m\u001b[0;34m\u001b[0m\u001b[0;34m\u001b[0m\u001b[0m\n\u001b[1;32m     72\u001b[0m     \u001b[0mrhok\u001b[0m \u001b[0;34m=\u001b[0m \u001b[0mifftn\u001b[0m\u001b[0;34m(\u001b[0m\u001b[0mrho\u001b[0m\u001b[0;34m*\u001b[0m\u001b[0;36m4.78e-10\u001b[0m\u001b[0;34m*\u001b[0m\u001b[0;34m(\u001b[0m\u001b[0;36m1\u001b[0m\u001b[0;34m+\u001b[0m\u001b[0mredz\u001b[0m\u001b[0;34m)\u001b[0m\u001b[0;34m**\u001b[0m\u001b[0;36m3\u001b[0m\u001b[0;34m)\u001b[0m\u001b[0;34m\u001b[0m\u001b[0;34m\u001b[0m\u001b[0m\n\u001b[0;32m---> 73\u001b[0;31m     \u001b[0mphix\u001b[0m \u001b[0;34m=\u001b[0m \u001b[0mfftn\u001b[0m\u001b[0;34m(\u001b[0m\u001b[0mrhokoverlambda\u001b[0m\u001b[0;34m(\u001b[0m\u001b[0mrhok\u001b[0m\u001b[0;34m,\u001b[0m\u001b[0mdx\u001b[0m\u001b[0;34m,\u001b[0m\u001b[0mdy\u001b[0m\u001b[0;34m,\u001b[0m\u001b[0mdz\u001b[0m\u001b[0;34m)\u001b[0m\u001b[0;34m)\u001b[0m\u001b[0;34m\u001b[0m\u001b[0;34m\u001b[0m\u001b[0m\n\u001b[0m\u001b[1;32m     74\u001b[0m     \u001b[0mdphidx\u001b[0m \u001b[0;34m=\u001b[0m \u001b[0;36m4\u001b[0m\u001b[0;34m*\u001b[0m\u001b[0mnp\u001b[0m\u001b[0;34m.\u001b[0m\u001b[0mpi\u001b[0m\u001b[0;34m*\u001b[0m\u001b[0;34m(\u001b[0m\u001b[0mphix\u001b[0m\u001b[0;34m[\u001b[0m\u001b[0mposx\u001b[0m\u001b[0;34m+\u001b[0m\u001b[0;36m1\u001b[0m\u001b[0;34m,\u001b[0m\u001b[0mposy\u001b[0m\u001b[0;34m,\u001b[0m\u001b[0mposz\u001b[0m\u001b[0;34m]\u001b[0m\u001b[0;34m-\u001b[0m\u001b[0mphix\u001b[0m\u001b[0;34m[\u001b[0m\u001b[0mposx\u001b[0m\u001b[0;34m-\u001b[0m\u001b[0;36m1\u001b[0m\u001b[0;34m,\u001b[0m\u001b[0mposy\u001b[0m\u001b[0;34m,\u001b[0m\u001b[0mposz\u001b[0m\u001b[0;34m]\u001b[0m\u001b[0;34m)\u001b[0m\u001b[0;34m/\u001b[0m\u001b[0;34m(\u001b[0m\u001b[0;36m2\u001b[0m\u001b[0;34m*\u001b[0m\u001b[0mdx\u001b[0m\u001b[0;34m)\u001b[0m\u001b[0;34m\u001b[0m\u001b[0;34m\u001b[0m\u001b[0m\n\u001b[1;32m     75\u001b[0m     \u001b[0mdphidy\u001b[0m \u001b[0;34m=\u001b[0m \u001b[0;36m4\u001b[0m\u001b[0;34m*\u001b[0m\u001b[0mnp\u001b[0m\u001b[0;34m.\u001b[0m\u001b[0mpi\u001b[0m\u001b[0;34m*\u001b[0m\u001b[0;34m(\u001b[0m\u001b[0mphix\u001b[0m\u001b[0;34m[\u001b[0m\u001b[0mposx\u001b[0m\u001b[0;34m,\u001b[0m\u001b[0mposy\u001b[0m\u001b[0;34m+\u001b[0m\u001b[0;36m1\u001b[0m\u001b[0;34m,\u001b[0m\u001b[0mposz\u001b[0m\u001b[0;34m]\u001b[0m\u001b[0;34m-\u001b[0m\u001b[0mphix\u001b[0m\u001b[0;34m[\u001b[0m\u001b[0mposx\u001b[0m\u001b[0;34m,\u001b[0m\u001b[0mposy\u001b[0m\u001b[0;34m-\u001b[0m\u001b[0;36m1\u001b[0m\u001b[0;34m,\u001b[0m\u001b[0mposz\u001b[0m\u001b[0;34m]\u001b[0m\u001b[0;34m)\u001b[0m\u001b[0;34m/\u001b[0m\u001b[0;34m(\u001b[0m\u001b[0;36m2\u001b[0m\u001b[0;34m*\u001b[0m\u001b[0mdy\u001b[0m\u001b[0;34m)\u001b[0m\u001b[0;34m\u001b[0m\u001b[0;34m\u001b[0m\u001b[0m\n",
      "\u001b[0;32m<ipython-input-2-9ab209b8a56c>\u001b[0m in \u001b[0;36mrhokoverlambda\u001b[0;34m(rhok, dx, dy, dz)\u001b[0m\n\u001b[1;32m     54\u001b[0m                 \u001b[0mlambdax\u001b[0m \u001b[0;34m=\u001b[0m \u001b[0;34m-\u001b[0m \u001b[0;36m4\u001b[0m\u001b[0;34m*\u001b[0m \u001b[0mnx\u001b[0m\u001b[0;34m**\u001b[0m\u001b[0;36m2\u001b[0m \u001b[0;34m/\u001b[0m \u001b[0;34m(\u001b[0m\u001b[0mLx\u001b[0m\u001b[0;34m**\u001b[0m\u001b[0;36m2\u001b[0m\u001b[0;34m)\u001b[0m \u001b[0;34m*\u001b[0m \u001b[0;34m(\u001b[0m\u001b[0mnp\u001b[0m\u001b[0;34m.\u001b[0m\u001b[0msin\u001b[0m\u001b[0;34m(\u001b[0m\u001b[0mnp\u001b[0m\u001b[0;34m.\u001b[0m\u001b[0mpi\u001b[0m\u001b[0;34m*\u001b[0m\u001b[0mni\u001b[0m\u001b[0;34m/\u001b[0m\u001b[0mnx\u001b[0m\u001b[0;34m)\u001b[0m\u001b[0;34m)\u001b[0m\u001b[0;34m**\u001b[0m\u001b[0;36m2\u001b[0m\u001b[0;34m\u001b[0m\u001b[0;34m\u001b[0m\u001b[0m\n\u001b[1;32m     55\u001b[0m                 \u001b[0mlambday\u001b[0m \u001b[0;34m=\u001b[0m \u001b[0;34m-\u001b[0m \u001b[0;36m4\u001b[0m\u001b[0;34m*\u001b[0m \u001b[0mny\u001b[0m\u001b[0;34m**\u001b[0m\u001b[0;36m2\u001b[0m \u001b[0;34m/\u001b[0m \u001b[0;34m(\u001b[0m\u001b[0mLy\u001b[0m\u001b[0;34m**\u001b[0m\u001b[0;36m2\u001b[0m\u001b[0;34m)\u001b[0m \u001b[0;34m*\u001b[0m \u001b[0;34m(\u001b[0m\u001b[0mnp\u001b[0m\u001b[0;34m.\u001b[0m\u001b[0msin\u001b[0m\u001b[0;34m(\u001b[0m\u001b[0mnp\u001b[0m\u001b[0;34m.\u001b[0m\u001b[0mpi\u001b[0m\u001b[0;34m*\u001b[0m\u001b[0mnj\u001b[0m\u001b[0;34m/\u001b[0m\u001b[0mny\u001b[0m\u001b[0;34m)\u001b[0m\u001b[0;34m)\u001b[0m\u001b[0;34m**\u001b[0m\u001b[0;36m2\u001b[0m\u001b[0;34m\u001b[0m\u001b[0;34m\u001b[0m\u001b[0m\n\u001b[0;32m---> 56\u001b[0;31m                 \u001b[0mlambdaz\u001b[0m \u001b[0;34m=\u001b[0m \u001b[0;34m-\u001b[0m \u001b[0;36m4\u001b[0m\u001b[0;34m*\u001b[0m \u001b[0mnz\u001b[0m\u001b[0;34m**\u001b[0m\u001b[0;36m2\u001b[0m \u001b[0;34m/\u001b[0m \u001b[0;34m(\u001b[0m\u001b[0mLz\u001b[0m\u001b[0;34m**\u001b[0m\u001b[0;36m2\u001b[0m\u001b[0;34m)\u001b[0m \u001b[0;34m*\u001b[0m \u001b[0;34m(\u001b[0m\u001b[0mnp\u001b[0m\u001b[0;34m.\u001b[0m\u001b[0msin\u001b[0m\u001b[0;34m(\u001b[0m\u001b[0mnp\u001b[0m\u001b[0;34m.\u001b[0m\u001b[0mpi\u001b[0m\u001b[0;34m*\u001b[0m\u001b[0mnk\u001b[0m\u001b[0;34m/\u001b[0m\u001b[0mnz\u001b[0m\u001b[0;34m)\u001b[0m\u001b[0;34m)\u001b[0m\u001b[0;34m**\u001b[0m\u001b[0;36m2\u001b[0m\u001b[0;34m\u001b[0m\u001b[0;34m\u001b[0m\u001b[0m\n\u001b[0m\u001b[1;32m     57\u001b[0m                 \u001b[0;32mif\u001b[0m \u001b[0mi\u001b[0m\u001b[0;34m==\u001b[0m\u001b[0;36m0\u001b[0m \u001b[0;32mand\u001b[0m \u001b[0mj\u001b[0m\u001b[0;34m==\u001b[0m\u001b[0;36m0\u001b[0m \u001b[0;32mand\u001b[0m \u001b[0mk\u001b[0m\u001b[0;34m==\u001b[0m\u001b[0;36m0\u001b[0m\u001b[0;34m:\u001b[0m\u001b[0;34m\u001b[0m\u001b[0;34m\u001b[0m\u001b[0m\n\u001b[1;32m     58\u001b[0m                     \u001b[0mrhokl\u001b[0m\u001b[0;34m[\u001b[0m\u001b[0mi\u001b[0m\u001b[0;34m,\u001b[0m\u001b[0mj\u001b[0m\u001b[0;34m,\u001b[0m\u001b[0mk\u001b[0m\u001b[0;34m]\u001b[0m \u001b[0;34m=\u001b[0m \u001b[0;36m0\u001b[0m\u001b[0;34m\u001b[0m\u001b[0;34m\u001b[0m\u001b[0m\n",
      "\u001b[0;31mKeyboardInterrupt\u001b[0m: "
     ]
    }
   ],
   "source": [
    "#try one\n",
    "time1=datetime.datetime.now()\n",
    "#t, a, H array\n",
    "taH=np.zeros((101,3))\n",
    "tend,Hend=time_Hubble_of_a(1.0)\n",
    "N=100\n",
    "for i in range(101):\n",
    "    taH[i,0]=(tend+1)**(i/N)-1\n",
    "    taH[i,1],taH[i,2]=a_Hubble_of_t(taH[i,0])\n",
    "    \n",
    "#set up rocket force\n",
    "xi=50\n",
    "GpoG=0.1\n",
    "H0=0.00033333\n",
    "nrocket=np.asarray([1.,0.,0.])\n",
    "fRocket=H0/xi*GpoG*nrocket\n",
    "#fRocket = nrocket*5e-7\n",
    "\n",
    "Gmu=1e-11\n",
    "#initial conditions\n",
    "a_ini = taH[0,1]\n",
    "t_ini = taH[0,0]\n",
    "pos_ini = np.asarray([[45.,45.,45.]])\n",
    "vel_ini = np.asarray([[1.,1.,1.]])/(np.sqrt(3))*2.6/a_ini*np.sqrt(xi*1e-11)*0.3\n",
    "#vel_ini = np.asarray([[1.,1.,1.]])*6e-4/a_ini\n",
    "#pos_ini = np.asarray([25.,25.,25.])\n",
    "#vel_ini = np.asarray([1.,1.,1.])*6e-4/a_ini\n",
    "\n",
    "#read info for simulation\n",
    "path=cwd+'Sim_100v/'\n",
    "snaps,slnums,sl=grp.get_snapshot_info(path)\n",
    "bchoice=100\n",
    "xmin=0\n",
    "xmax=100\n",
    "ymin=0\n",
    "ymax=100\n",
    "zmin=0\n",
    "zmax=100\n",
    "dx=(xmax-xmin)/bchoice\n",
    "dy=(ymax-ymin)/bchoice\n",
    "dz=(zmax-zmin)/bchoice\n",
    "\n",
    "#set up pos, vel arrays to be stored\n",
    "pos_arr0=np.zeros((len(pos_ini),len(taH),3))\n",
    "vel_arr0=np.zeros((len(pos_ini),len(taH),3))\n",
    "for i in range(len(pos_arr0)):\n",
    "    pos_arr0[i,0]=pos_ini[i]\n",
    "    vel_arr0[i,0]=vel_ini[i]\n",
    "\n",
    "time2=datetime.datetime.now()\n",
    "print('Setting up took '+str((time2-time1).total_seconds())+' seconds.')\n",
    "time3=datetime.datetime.now()\n",
    "#loop through time\n",
    "for i in range(len(taH)-1):\n",
    "#for i in range(1):\n",
    "    time4=datetime.datetime.now()\n",
    "    #get density, redshift from snapshot\n",
    "    rho,xc,yc,zc=grp.rho_of_snap_P1(path,slnums,snaps[i],xmin,xmax,ymin,ymax,zmin,zmax,bchoice)\n",
    "    redz,time=grp.get_z_t(path,snaps[i])\n",
    "    for j in range(len(pos_arr0)):\n",
    "        posx=posind(pos_arr0[j,i,0],xmin,xmax,bchoice)\n",
    "        posy=posind(pos_arr0[j,i,1],ymin,ymax,bchoice)\n",
    "        posz=posind(pos_arr0[j,i,2],zmin,zmax,bchoice)\n",
    "        if posx<0 or posy<0 or posz<0 or posx>=bchoice or posy>=bchoice or posz>=bchoice:\n",
    "            print(\"rocket flew off the grid, ending computation at time index \"+str(i)+'. Corresponds to time='+str(taH[i,0])+', a='+str(taH[i,1])+'.')\n",
    "            print(\"position indices found to be\"+str((posx,posy,posz)))\n",
    "            break\n",
    "        fGrav=Fg(rho,redz,posx,posy,posz,dx,dy,dz)\n",
    "        fNet=fGrav+fRocket\n",
    "        dt=taH[i+1,0]-taH[i,0]\n",
    "        H=taH[i,2]\n",
    "        pos_arr0[j,i+1],vel_arr0[j,i+1]=timestep(dt,pos_arr0[j,i],vel_arr0[j,i],redz,H,fNet)\n",
    "    time5=datetime.datetime.now()\n",
    "    print('Loop element '+str(i)+' took '+str((time5-time4).total_seconds())+' seconds.')\n",
    "print('Whole loop took '+str((time5-time3).total_seconds()/60.)+' minutes.')\n",
    "print('Whole process took '+str((time5-time1).total_seconds()/60.)+' minutes.')"
   ]
  },
  {
   "cell_type": "code",
   "execution_count": 53,
   "metadata": {},
   "outputs": [
    {
     "data": {
      "text/plain": [
       "<matplotlib.legend.Legend at 0x7f0a30befe80>"
      ]
     },
     "execution_count": 53,
     "metadata": {},
     "output_type": "execute_result"
    },
    {
     "data": {
      "image/png": "[encoded data removed]",
      "text/plain": [
       "<Figure size 432x288 with 1 Axes>"
      ]
     },
     "metadata": {},
     "output_type": "display_data"
    }
   ],
   "source": [
    "plt.plot(pos_arr0[0,:39,0],pos_arr0[0,:39,1],'.',label='xi=50')\n",
    "plt.title('x_i = (45,45,45)')\n",
    "plt.legend()"
   ]
  },
  {
   "cell_type": "code",
   "execution_count": 52,
   "metadata": {},
   "outputs": [
    {
     "data": {
      "text/plain": [
       "28.821137520052076"
      ]
     },
     "execution_count": 52,
     "metadata": {},
     "output_type": "execute_result"
    }
   ],
   "source": [
    "taH[39,1]**(-1)-1"
   ]
  },
  {
   "cell_type": "code",
   "execution_count": 39,
   "metadata": {},
   "outputs": [
    {
     "data": {
      "text/plain": [
       "array([2.00061857e-06-4.31324794e-22j, 1.43035692e-05+3.60104266e-21j,\n",
       "       5.30713392e-06-2.09679745e-22j])"
      ]
     },
     "execution_count": 39,
     "metadata": {},
     "output_type": "execute_result"
    }
   ],
   "source": [
    "fGrav"
   ]
  },
  {
   "cell_type": "code",
   "execution_count": 54,
   "metadata": {},
   "outputs": [
    {
     "data": {
      "text/plain": [
       "array([6.6666e-07, 0.0000e+00, 0.0000e+00])"
      ]
     },
     "execution_count": 54,
     "metadata": {},
     "output_type": "execute_result"
    }
   ],
   "source": [
    "fRocket"
   ]
  },
  {
   "cell_type": "code",
   "execution_count": 5,
   "metadata": {},
   "outputs": [
    {
     "name": "stdout",
     "output_type": "stream",
     "text": [
      "Setting up took 0.193955 seconds.\n"
     ]
    },
    {
     "name": "stderr",
     "output_type": "stream",
     "text": [
      "/usr/lib/python3/dist-packages/ipykernel_launcher.py:70: ComplexWarning: Casting complex values to real discards the imaginary part\n"
     ]
    },
    {
     "name": "stdout",
     "output_type": "stream",
     "text": [
      "Loop element 0 took 6.643949 seconds.\n",
      "Loop element 1 took 6.342881 seconds.\n",
      "Loop element 2 took 6.169716 seconds.\n",
      "Loop element 3 took 6.560397 seconds.\n",
      "Loop element 4 took 6.593486 seconds.\n",
      "Loop element 5 took 6.691354 seconds.\n",
      "Loop element 6 took 6.51279 seconds.\n",
      "Loop element 7 took 6.53009 seconds.\n",
      "Loop element 8 took 6.725873 seconds.\n",
      "Loop element 9 took 6.349008 seconds.\n",
      "Loop element 10 took 6.415015 seconds.\n",
      "Loop element 11 took 6.302271 seconds.\n",
      "Loop element 12 took 6.777824 seconds.\n",
      "Loop element 13 took 9.593981 seconds.\n",
      "Loop element 14 took 15.104798 seconds.\n",
      "Loop element 15 took 16.897677 seconds.\n",
      "Loop element 16 took 14.754191 seconds.\n",
      "Loop element 17 took 19.124962 seconds.\n",
      "Loop element 18 took 28.314643 seconds.\n",
      "Loop element 19 took 22.282789 seconds.\n",
      "Loop element 20 took 24.936707 seconds.\n",
      "Loop element 21 took 20.794075 seconds.\n",
      "Loop element 22 took 19.816464 seconds.\n",
      "Loop element 23 took 26.62242 seconds.\n",
      "Loop element 24 took 31.78557 seconds.\n",
      "Loop element 25 took 29.311948 seconds.\n",
      "Loop element 26 took 24.457086 seconds.\n",
      "Loop element 27 took 12.629708 seconds.\n",
      "Loop element 28 took 15.306236 seconds.\n",
      "Loop element 29 took 18.023232 seconds.\n",
      "Loop element 30 took 18.412184 seconds.\n",
      "Loop element 31 took 23.735314 seconds.\n",
      "Loop element 32 took 20.442786 seconds.\n",
      "Loop element 33 took 22.165791 seconds.\n",
      "Loop element 34 took 18.564176 seconds.\n",
      "Loop element 35 took 17.822565 seconds.\n",
      "Loop element 36 took 21.124207 seconds.\n",
      "Loop element 37 took 18.890492 seconds.\n",
      "Loop element 38 took 18.871986 seconds.\n",
      "Loop element 39 took 17.768861 seconds.\n",
      "Loop element 40 took 21.45836 seconds.\n",
      "Loop element 41 took 18.694773 seconds.\n",
      "Loop element 42 took 19.086032 seconds.\n",
      "Loop element 43 took 18.857307 seconds.\n",
      "Loop element 44 took 18.995238 seconds.\n",
      "Loop element 45 took 19.613212 seconds.\n",
      "Loop element 46 took 19.096693 seconds.\n",
      "Loop element 47 took 20.554279 seconds.\n",
      "Loop element 48 took 18.321987 seconds.\n",
      "Loop element 49 took 17.838241 seconds.\n",
      "Loop element 50 took 19.677748 seconds.\n",
      "Loop element 51 took 17.279667 seconds.\n",
      "Loop element 52 took 19.327301 seconds.\n",
      "Loop element 53 took 19.70875 seconds.\n",
      "Loop element 54 took 20.231481 seconds.\n",
      "Loop element 55 took 17.467435 seconds.\n",
      "Loop element 56 took 18.102438 seconds.\n",
      "Loop element 57 took 18.911104 seconds.\n",
      "Loop element 58 took 18.680239 seconds.\n",
      "Loop element 59 took 21.207967 seconds.\n",
      "Loop element 60 took 23.074596 seconds.\n",
      "Loop element 61 took 19.675466 seconds.\n",
      "Loop element 62 took 21.851837 seconds.\n",
      "Loop element 63 took 21.652669 seconds.\n",
      "Loop element 64 took 18.90345 seconds.\n",
      "Loop element 65 took 19.30248 seconds.\n",
      "Loop element 66 took 17.491814 seconds.\n",
      "Loop element 67 took 20.433267 seconds.\n",
      "Loop element 68 took 22.313939 seconds.\n",
      "Loop element 69 took 18.220449 seconds.\n",
      "Loop element 70 took 17.411542 seconds.\n",
      "Loop element 71 took 17.34601 seconds.\n",
      "Loop element 72 took 17.104264 seconds.\n",
      "Loop element 73 took 19.976269 seconds.\n",
      "Loop element 74 took 17.244414 seconds.\n",
      "Loop element 75 took 18.216939 seconds.\n",
      "Loop element 76 took 21.327807 seconds.\n",
      "Loop element 77 took 26.149992 seconds.\n",
      "Loop element 78 took 20.120833 seconds.\n",
      "Loop element 79 took 18.772856 seconds.\n",
      "Loop element 80 took 24.961958 seconds.\n",
      "Loop element 81 took 23.700662 seconds.\n",
      "Loop element 82 took 26.039564 seconds.\n",
      "Loop element 83 took 25.999908 seconds.\n",
      "Loop element 84 took 22.506634 seconds.\n",
      "Loop element 85 took 25.627333 seconds.\n",
      "Loop element 86 took 21.897208 seconds.\n",
      "Loop element 87 took 16.319405 seconds.\n",
      "Loop element 88 took 20.003425 seconds.\n",
      "Loop element 89 took 18.571444 seconds.\n",
      "Loop element 90 took 20.441926 seconds.\n",
      "Loop element 91 took 21.038133 seconds.\n",
      "Loop element 92 took 22.307508 seconds.\n",
      "Loop element 93 took 24.787787 seconds.\n",
      "Loop element 94 took 24.924881 seconds.\n",
      "Loop element 95 took 21.827982 seconds.\n",
      "Loop element 96 took 19.421423 seconds.\n",
      "Loop element 97 took 18.298536 seconds.\n",
      "Loop element 98 took 22.255851 seconds.\n",
      "Loop element 99 took 21.58708 seconds.\n",
      "Whole loop took 30.90740836666667 minutes.\n",
      "Whole process took 30.91064353333333 minutes.\n"
     ]
    }
   ],
   "source": [
    "#try one\n",
    "time1=datetime.datetime.now()\n",
    "#t, a, H array\n",
    "taH=np.zeros((101,3))\n",
    "tend,Hend=time_Hubble_of_a(1.0)\n",
    "N=100\n",
    "for i in range(101):\n",
    "    taH[i,0]=(tend+1)**(i/N)-1\n",
    "    taH[i,1],taH[i,2]=a_Hubble_of_t(taH[i,0])\n",
    "    \n",
    "#set up rocket force\n",
    "xi=50\n",
    "GpoG=0.1\n",
    "H0=0.00033333\n",
    "nrocket=np.asarray([1.,0.,0.])\n",
    "fRocket=H0/xi*GpoG*nrocket\n",
    "#fRocket = nrocket*5e-7\n",
    "\n",
    "#initial conditions\n",
    "a_ini = taH[0,1]\n",
    "t_ini = taH[0,0]\n",
    "pos_ini = np.asarray([[45.,45.,45.]])\n",
    "vel_ini = np.asarray([[1.,1.,1.]])*6e-4/a_ini\n",
    "#pos_ini = np.asarray([25.,25.,25.])\n",
    "#vel_ini = np.asarray([1.,1.,1.])*6e-4/a_ini\n",
    "\n",
    "#read info for simulation\n",
    "path=cwd+'Sim_100v/'\n",
    "snaps,slnums,sl=grp.get_snapshot_info(path)\n",
    "bchoice=100\n",
    "xmin=0\n",
    "xmax=100\n",
    "ymin=0\n",
    "ymax=100\n",
    "zmin=0\n",
    "zmax=100\n",
    "dx=(xmax-xmin)/bchoice\n",
    "dy=(ymax-ymin)/bchoice\n",
    "dz=(zmax-zmin)/bchoice\n",
    "\n",
    "#set up pos, vel arrays to be stored\n",
    "pos_arr01=np.zeros((len(pos_ini),len(taH),3))\n",
    "vel_arr01=np.zeros((len(pos_ini),len(taH),3))\n",
    "for i in range(len(pos_arr01)):\n",
    "    pos_arr01[i,0]=pos_ini[i]\n",
    "    vel_arr01[i,0]=vel_ini[i]\n",
    "\n",
    "time2=datetime.datetime.now()\n",
    "print('Setting up took '+str((time2-time1).total_seconds())+' seconds.')\n",
    "time3=datetime.datetime.now()\n",
    "#loop through time\n",
    "for i in range(len(taH)-1):\n",
    "#for i in range(1):\n",
    "    time4=datetime.datetime.now()\n",
    "    #get density, redshift from snapshot\n",
    "    rho,xc,yc,zc=grp.rho_of_snap_P1(path,slnums,snaps[i],xmin,xmax,ymin,ymax,zmin,zmax,bchoice)\n",
    "    redz,time=grp.get_z_t(path,snaps[i])\n",
    "    #rhok=\n",
    "    for j in range(len(pos_arr01)):\n",
    "        posx=posind(pos_arr01[j,i,0],xmin,xmax,bchoice)\n",
    "        posy=posind(pos_arr01[j,i,1],ymin,ymax,bchoice)\n",
    "        posz=posind(pos_arr01[j,i,2],zmin,zmax,bchoice)\n",
    "        if posx<0 or posy<0 or posz<0 or posx>=bchoice or posy>=bchoice or posz>=bchoice:\n",
    "            print(\"rocket flew off the grid, ending computation at time index \"+str(i)+'. Corresponds to time='+str(taH[i,0])+', a='+str(taH[i,1])+'.')\n",
    "            print(\"position indices found to be\"+str((posx,posy,posz)))\n",
    "            break\n",
    "        fGrav=Fg(rho,redz,posx,posy,posz,dx,dy,dz)\n",
    "        fNet=fGrav+fRocket\n",
    "        dt=taH[i+1,0]-taH[i,0]\n",
    "        H=taH[i,2]\n",
    "        pos_arr01[j,i+1],vel_arr01[j,i+1]=timestep(dt,pos_arr01[j,i],vel_arr01[j,i],redz,H,fNet)\n",
    "    time5=datetime.datetime.now()\n",
    "    print('Loop element '+str(i)+' took '+str((time5-time4).total_seconds())+' seconds.')\n",
    "print('Whole loop took '+str((time5-time3).total_seconds()/60.)+' minutes.')\n",
    "print('Whole process took '+str((time5-time1).total_seconds()/60.)+' minutes.')"
   ]
  },
  {
   "cell_type": "code",
   "execution_count": 7,
   "metadata": {},
   "outputs": [
    {
     "data": {
      "text/plain": [
       "<matplotlib.legend.Legend at 0x7f0a38fb42e8>"
      ]
     },
     "execution_count": 7,
     "metadata": {},
     "output_type": "execute_result"
    },
    {
     "data": {
      "image/png": "[encoded data removed]",
      "text/plain": [
       "<Figure size 432x288 with 1 Axes>"
      ]
     },
     "metadata": {},
     "output_type": "display_data"
    }
   ],
   "source": [
    "plt.plot(pos_arr0[0,:,0],pos_arr0[0,:,1],'.',label='xi=5')\n",
    "plt.plot(pos_arr01[0,:,0],pos_arr01[0,:,1],'.',label='xi=10')\n",
    "plt.title('x_i = (45,45,45)')\n",
    "plt.legend()"
   ]
  },
  {
   "cell_type": "code",
   "execution_count": 4,
   "metadata": {},
   "outputs": [
    {
     "data": {
      "text/plain": [
       "array([6.6666e-06, 0.0000e+00, 0.0000e+00])"
      ]
     },
     "execution_count": 4,
     "metadata": {},
     "output_type": "execute_result"
    }
   ],
   "source": [
    "xi=5\n",
    "GpoG=0.1\n",
    "H0=0.00033333\n",
    "nrocket=np.asarray([1.,0.,0.])\n",
    "fRocket=H0/xi*GpoG*nrocket\n",
    "fRocket"
   ]
  },
  {
   "cell_type": "code",
   "execution_count": 6,
   "metadata": {},
   "outputs": [
    {
     "data": {
      "text/plain": [
       "array([[[0., 0., 0.],\n",
       "        [0., 0., 0.]],\n",
       "\n",
       "       [[0., 0., 0.],\n",
       "        [0., 0., 0.]],\n",
       "\n",
       "       [[0., 0., 0.],\n",
       "        [0., 0., 0.]]])"
      ]
     },
     "execution_count": 6,
     "metadata": {},
     "output_type": "execute_result"
    }
   ],
   "source": [
    "np.zeros((3,2,3))"
   ]
  },
  {
   "cell_type": "code",
   "execution_count": 5,
   "metadata": {},
   "outputs": [
    {
     "name": "stdout",
     "output_type": "stream",
     "text": [
      "Setting up took 0.205764 seconds.\n"
     ]
    },
    {
     "name": "stderr",
     "output_type": "stream",
     "text": [
      "/usr/lib/python3/dist-packages/ipykernel_launcher.py:70: ComplexWarning: Casting complex values to real discards the imaginary part\n"
     ]
    },
    {
     "name": "stdout",
     "output_type": "stream",
     "text": [
      "Loop element 0 took 19.602586 seconds.\n",
      "Loop element 1 took 18.80486 seconds.\n",
      "Loop element 2 took 20.806237 seconds.\n",
      "Loop element 3 took 23.016257 seconds.\n",
      "Loop element 4 took 20.966816 seconds.\n",
      "Loop element 5 took 19.138305 seconds.\n",
      "Loop element 6 took 18.347445 seconds.\n",
      "Loop element 7 took 18.56282 seconds.\n",
      "Loop element 8 took 18.250858 seconds.\n",
      "Loop element 9 took 19.686318 seconds.\n",
      "Loop element 10 took 19.198635 seconds.\n",
      "Loop element 11 took 18.316831 seconds.\n",
      "Loop element 12 took 18.960264 seconds.\n",
      "Loop element 13 took 18.63826 seconds.\n",
      "Loop element 14 took 18.98493 seconds.\n",
      "Loop element 15 took 18.324543 seconds.\n",
      "Loop element 16 took 18.343948 seconds.\n",
      "Loop element 17 took 18.552661 seconds.\n",
      "Loop element 18 took 18.826895 seconds.\n",
      "Loop element 19 took 18.50446 seconds.\n",
      "Loop element 20 took 18.987696 seconds.\n",
      "Loop element 21 took 18.814149 seconds.\n",
      "Loop element 22 took 18.627942 seconds.\n",
      "Loop element 23 took 18.525208 seconds.\n",
      "Loop element 24 took 18.258434 seconds.\n",
      "Loop element 25 took 18.334833 seconds.\n",
      "Loop element 26 took 18.797683 seconds.\n",
      "Loop element 27 took 19.416445 seconds.\n",
      "Loop element 28 took 20.259384 seconds.\n",
      "Loop element 29 took 19.617257 seconds.\n",
      "Loop element 30 took 19.306747 seconds.\n",
      "Loop element 31 took 18.924106 seconds.\n",
      "Loop element 32 took 19.116297 seconds.\n",
      "Loop element 33 took 18.935249 seconds.\n",
      "Loop element 34 took 18.826197 seconds.\n",
      "Loop element 35 took 18.988906 seconds.\n",
      "Loop element 36 took 18.731816 seconds.\n",
      "Loop element 37 took 18.931403 seconds.\n",
      "Loop element 38 took 19.347234 seconds.\n",
      "Loop element 39 took 19.031251 seconds.\n",
      "Loop element 40 took 19.145494 seconds.\n",
      "Loop element 41 took 19.762779 seconds.\n",
      "Loop element 42 took 18.896832 seconds.\n",
      "Loop element 43 took 19.232459 seconds.\n",
      "Loop element 44 took 19.207994 seconds.\n",
      "Loop element 45 took 18.80881 seconds.\n",
      "Loop element 46 took 19.603668 seconds.\n",
      "Loop element 47 took 18.873136 seconds.\n",
      "Loop element 48 took 19.072523 seconds.\n",
      "Loop element 49 took 18.738844 seconds.\n",
      "Loop element 50 took 19.241376 seconds.\n",
      "Loop element 51 took 19.397369 seconds.\n",
      "Loop element 52 took 19.193323 seconds.\n",
      "Loop element 53 took 19.534827 seconds.\n",
      "Loop element 54 took 19.427245 seconds.\n",
      "Loop element 55 took 19.721228 seconds.\n",
      "Loop element 56 took 19.795753 seconds.\n",
      "Loop element 57 took 18.936309 seconds.\n",
      "Loop element 58 took 19.13281 seconds.\n",
      "Loop element 59 took 19.143946 seconds.\n",
      "Loop element 60 took 19.03965 seconds.\n",
      "Loop element 61 took 19.240616 seconds.\n",
      "Loop element 62 took 19.366797 seconds.\n",
      "Loop element 63 took 19.46112 seconds.\n",
      "Loop element 64 took 18.890609 seconds.\n",
      "Loop element 65 took 19.592563 seconds.\n",
      "Loop element 66 took 19.496531 seconds.\n",
      "Loop element 67 took 19.669278 seconds.\n",
      "Loop element 68 took 19.268639 seconds.\n",
      "Loop element 69 took 19.108571 seconds.\n",
      "Loop element 70 took 19.001897 seconds.\n",
      "Loop element 71 took 19.046006 seconds.\n",
      "Loop element 72 took 19.047816 seconds.\n",
      "Loop element 73 took 19.204697 seconds.\n",
      "Loop element 74 took 19.050447 seconds.\n",
      "Loop element 75 took 19.070766 seconds.\n",
      "Loop element 76 took 19.204004 seconds.\n",
      "Loop element 77 took 19.214005 seconds.\n",
      "Loop element 78 took 18.647298 seconds.\n",
      "Loop element 79 took 18.592963 seconds.\n",
      "Loop element 80 took 19.848599 seconds.\n",
      "Loop element 81 took 18.926665 seconds.\n",
      "Loop element 82 took 18.978744 seconds.\n",
      "Loop element 83 took 19.418086 seconds.\n",
      "Loop element 84 took 19.143603 seconds.\n",
      "Loop element 85 took 19.475525 seconds.\n",
      "Loop element 86 took 19.044896 seconds.\n",
      "Loop element 87 took 18.937473 seconds.\n",
      "Loop element 88 took 19.811065 seconds.\n",
      "Loop element 89 took 19.108593 seconds.\n",
      "Loop element 90 took 19.200833 seconds.\n",
      "Loop element 91 took 19.17475 seconds.\n",
      "Loop element 92 took 18.525716 seconds.\n",
      "Loop element 93 took 19.181098 seconds.\n",
      "Loop element 94 took 19.087598 seconds.\n",
      "Loop element 95 took 19.220831 seconds.\n",
      "Loop element 96 took 19.236442 seconds.\n",
      "Loop element 97 took 18.990233 seconds.\n",
      "Loop element 98 took 19.262565 seconds.\n",
      "Loop element 99 took 19.316755 seconds.\n",
      "Whole loop took 31.926809600000002 minutes.\n",
      "Whole process took 31.930241883333334 minutes.\n"
     ]
    }
   ],
   "source": [
    "#turn off rocket, sanity check\n",
    "time1=datetime.datetime.now()\n",
    "#t, a, H array\n",
    "taH=np.zeros((101,3))\n",
    "tend,Hend=time_Hubble_of_a(1.0)\n",
    "N=100\n",
    "for i in range(101):\n",
    "    taH[i,0]=(tend+1)**(i/N)-1\n",
    "    taH[i,1],taH[i,2]=a_Hubble_of_t(taH[i,0])\n",
    "    \n",
    "#set up rocket force\n",
    "xi=5\n",
    "GpoG=0.1\n",
    "H0=0.00033333\n",
    "nrocket=np.asarray([1.,0.,0.])\n",
    "#fRocket=H0/xi*GpoG*nrocket\n",
    "fRocket = np.asarray([0.0,0.0,0.0])\n",
    "\n",
    "#initial conditions\n",
    "a_ini = taH[0,1]\n",
    "t_ini = taH[0,0]\n",
    "pos_ini = np.asarray([[25.,25.,25.],[50.,50.,50.],[75.,75.,75.]])\n",
    "vel_ini = np.asarray([[1.,1.,1.],[1.,1.,1.],[1.,1.,1.]])*6e-4/a_ini\n",
    "#pos_ini = np.asarray([25.,25.,25.])\n",
    "#vel_ini = np.asarray([1.,1.,1.])*6e-4/a_ini\n",
    "\n",
    "#read info for simulation\n",
    "path=cwd+'Sim_100v/'\n",
    "snaps,slnums,sl=grp.get_snapshot_info(path)\n",
    "bchoice=100\n",
    "xmin=0\n",
    "xmax=100\n",
    "ymin=0\n",
    "ymax=100\n",
    "zmin=0\n",
    "zmax=100\n",
    "dx=(xmax-xmin)/bchoice\n",
    "dy=(ymax-ymin)/bchoice\n",
    "dz=(zmax-zmin)/bchoice\n",
    "\n",
    "#set up pos, vel arrays to be stored\n",
    "pos_arr=np.zeros((3,len(taH),3))\n",
    "vel_arr=np.zeros((3,len(taH),3))\n",
    "for i in range(3):\n",
    "    pos_arr[i,0]=pos_ini[i]\n",
    "    vel_arr[i,0]=vel_ini[i]\n",
    "\n",
    "time2=datetime.datetime.now()\n",
    "print('Setting up took '+str((time2-time1).total_seconds())+' seconds.')\n",
    "time3=datetime.datetime.now()\n",
    "#loop through time\n",
    "for i in range(len(taH)-1):\n",
    "#for i in range(1):\n",
    "    time4=datetime.datetime.now()\n",
    "    #get density, redshift from snapshot\n",
    "    rho,xc,yc,zc=grp.rho_of_snap_P1(path,slnums,snaps[i],xmin,xmax,ymin,ymax,zmin,zmax,bchoice)\n",
    "    redz,time=grp.get_z_t(path,snaps[i])\n",
    "    for j in range(3):\n",
    "        posx=posind(pos_arr[j,i,0],xmin,xmax,bchoice)\n",
    "        posy=posind(pos_arr[j,i,1],ymin,ymax,bchoice)\n",
    "        posz=posind(pos_arr[j,i,2],zmin,zmax,bchoice)\n",
    "        if posx<0 or posy<0 or posz<0 or posx>=bchoice or posy>=bchoice or posz>=bchoice:\n",
    "            print(\"rocket flew off the grid, ending computation at time index \"+str(i)+'. Corresponds to time='+str(taH[i,0])+', a='+str(taH[i,1])+'.')\n",
    "            print(\"position indices found to be\"+str((posx,posy,posz)))\n",
    "            break\n",
    "        fGrav=Fg(rho,redz,posx,posy,posz,dx,dy,dz)\n",
    "        fNet=fGrav+fRocket\n",
    "        dt=taH[i+1,0]-taH[i,0]\n",
    "        H=taH[i,2]\n",
    "        pos_arr[j,i+1],vel_arr[j,i+1]=timestep(dt,pos_arr[j,i],vel_arr[j,i],redz,H,fNet)\n",
    "    time5=datetime.datetime.now()\n",
    "    print('Loop element '+str(i)+' took '+str((time5-time4).total_seconds())+' seconds.')\n",
    "print('Whole loop took '+str((time5-time3).total_seconds()/60.)+' minutes.')\n",
    "print('Whole process took '+str((time5-time1).total_seconds()/60.)+' minutes.')"
   ]
  },
  {
   "cell_type": "code",
   "execution_count": 7,
   "metadata": {},
   "outputs": [
    {
     "name": "stdout",
     "output_type": "stream",
     "text": [
      "Setting up took 0.213635 seconds.\n"
     ]
    },
    {
     "name": "stderr",
     "output_type": "stream",
     "text": [
      "/usr/lib/python3/dist-packages/ipykernel_launcher.py:70: ComplexWarning: Casting complex values to real discards the imaginary part\n"
     ]
    },
    {
     "name": "stdout",
     "output_type": "stream",
     "text": [
      "Loop element 0 took 19.007755 seconds.\n",
      "Loop element 1 took 19.417905 seconds.\n",
      "Loop element 2 took 19.962717 seconds.\n",
      "Loop element 3 took 20.607082 seconds.\n",
      "Loop element 4 took 18.985448 seconds.\n",
      "Loop element 5 took 20.141508 seconds.\n",
      "Loop element 6 took 19.542696 seconds.\n",
      "Loop element 7 took 20.051802 seconds.\n",
      "Loop element 8 took 20.119793 seconds.\n",
      "Loop element 9 took 19.396066 seconds.\n",
      "Loop element 10 took 20.612985 seconds.\n",
      "Loop element 11 took 19.975507 seconds.\n",
      "Loop element 12 took 19.524011 seconds.\n",
      "Loop element 13 took 19.020267 seconds.\n",
      "Loop element 14 took 19.565595 seconds.\n",
      "Loop element 15 took 19.459125 seconds.\n",
      "Loop element 16 took 19.689433 seconds.\n",
      "Loop element 17 took 19.561097 seconds.\n",
      "Loop element 18 took 19.157115 seconds.\n",
      "Loop element 19 took 19.400193 seconds.\n",
      "Loop element 20 took 19.066665 seconds.\n",
      "Loop element 21 took 19.897996 seconds.\n",
      "Loop element 22 took 19.510163 seconds.\n",
      "Loop element 23 took 20.083935 seconds.\n",
      "Loop element 24 took 19.331929 seconds.\n",
      "Loop element 25 took 20.56473 seconds.\n",
      "Loop element 26 took 20.084991 seconds.\n",
      "Loop element 27 took 19.646428 seconds.\n",
      "Loop element 28 took 19.414699 seconds.\n",
      "Loop element 29 took 19.722733 seconds.\n",
      "Loop element 30 took 19.578141 seconds.\n",
      "Loop element 31 took 20.249323 seconds.\n",
      "Loop element 32 took 19.778259 seconds.\n",
      "Loop element 33 took 20.538821 seconds.\n",
      "Loop element 34 took 19.110724 seconds.\n",
      "Loop element 35 took 20.220027 seconds.\n",
      "Loop element 36 took 19.280235 seconds.\n",
      "Loop element 37 took 19.379859 seconds.\n",
      "Loop element 38 took 18.772531 seconds.\n",
      "Loop element 39 took 19.058722 seconds.\n",
      "Loop element 40 took 19.111057 seconds.\n",
      "Loop element 41 took 18.816827 seconds.\n",
      "Loop element 42 took 18.694692 seconds.\n",
      "Loop element 43 took 18.768313 seconds.\n",
      "Loop element 44 took 18.729755 seconds.\n",
      "Loop element 45 took 19.319634 seconds.\n",
      "Loop element 46 took 18.695819 seconds.\n",
      "Loop element 47 took 18.988262 seconds.\n",
      "Loop element 48 took 18.568326 seconds.\n",
      "Loop element 49 took 18.788322 seconds.\n",
      "Loop element 50 took 18.675523 seconds.\n",
      "Loop element 51 took 19.55524 seconds.\n",
      "Loop element 52 took 19.115479 seconds.\n",
      "Loop element 53 took 19.834209 seconds.\n",
      "Loop element 54 took 19.460813 seconds.\n",
      "Loop element 55 took 19.13228 seconds.\n",
      "Loop element 56 took 19.462864 seconds.\n",
      "Loop element 57 took 19.388253 seconds.\n",
      "Loop element 58 took 18.89585 seconds.\n",
      "Loop element 59 took 19.060165 seconds.\n",
      "Loop element 60 took 19.27357 seconds.\n",
      "Loop element 61 took 19.616921 seconds.\n",
      "Loop element 62 took 19.950531 seconds.\n",
      "Loop element 63 took 19.415866 seconds.\n",
      "Loop element 64 took 19.840199 seconds.\n",
      "Loop element 65 took 19.477969 seconds.\n",
      "Loop element 66 took 18.987504 seconds.\n",
      "Loop element 67 took 20.160115 seconds.\n",
      "Loop element 68 took 19.227005 seconds.\n",
      "Loop element 69 took 19.091174 seconds.\n",
      "Loop element 70 took 18.719575 seconds.\n",
      "Loop element 71 took 19.479198 seconds.\n",
      "Loop element 72 took 19.457853 seconds.\n",
      "Loop element 73 took 19.816049 seconds.\n",
      "Loop element 74 took 19.424827 seconds.\n",
      "Loop element 75 took 18.569677 seconds.\n",
      "Loop element 76 took 22.575589 seconds.\n",
      "Loop element 77 took 22.93033 seconds.\n",
      "Loop element 78 took 21.11671 seconds.\n",
      "Loop element 79 took 20.486821 seconds.\n",
      "Loop element 80 took 19.170236 seconds.\n",
      "Loop element 81 took 19.559663 seconds.\n",
      "Loop element 82 took 19.091977 seconds.\n",
      "Loop element 83 took 19.455103 seconds.\n",
      "Loop element 84 took 19.508109 seconds.\n",
      "Loop element 85 took 20.063665 seconds.\n",
      "Loop element 86 took 19.19218 seconds.\n",
      "Loop element 87 took 19.485635 seconds.\n",
      "Loop element 88 took 19.150797 seconds.\n",
      "Loop element 89 took 19.394398 seconds.\n",
      "Loop element 90 took 19.311564 seconds.\n",
      "Loop element 91 took 19.792168 seconds.\n",
      "Loop element 92 took 19.0025 seconds.\n",
      "Loop element 93 took 18.520284 seconds.\n",
      "Loop element 94 took 19.19408 seconds.\n",
      "Loop element 95 took 18.623346 seconds.\n",
      "Loop element 96 took 19.095325 seconds.\n",
      "Loop element 97 took 19.062857 seconds.\n",
      "Loop element 98 took 18.140626 seconds.\n",
      "Loop element 99 took 19.093579 seconds.\n",
      "Whole loop took 32.48507121666667 minutes.\n",
      "Whole process took 32.488634966666666 minutes.\n"
     ]
    }
   ],
   "source": [
    "#small rocket force\n",
    "time1=datetime.datetime.now()\n",
    "#t, a, H array\n",
    "taH=np.zeros((101,3))\n",
    "tend,Hend=time_Hubble_of_a(1.0)\n",
    "N=100\n",
    "for i in range(101):\n",
    "    taH[i,0]=(tend+1)**(i/N)-1\n",
    "    taH[i,1],taH[i,2]=a_Hubble_of_t(taH[i,0])\n",
    "    \n",
    "#set up rocket force\n",
    "xi=5\n",
    "GpoG=0.1\n",
    "H0=0.00033333\n",
    "nrocket=np.asarray([1.,0.,0.])\n",
    "#fRocket=H0/xi*GpoG*nrocket\n",
    "fRocket = nrocket*5e-7\n",
    "\n",
    "#initial conditions\n",
    "a_ini = taH[0,1]\n",
    "t_ini = taH[0,0]\n",
    "pos_ini = np.asarray([[25.,25.,25.],[50.,50.,50.],[75.,75.,75.]])\n",
    "vel_ini = np.asarray([[1.,1.,1.],[1.,1.,1.],[1.,1.,1.]])*6e-4/a_ini\n",
    "#pos_ini = np.asarray([25.,25.,25.])\n",
    "#vel_ini = np.asarray([1.,1.,1.])*6e-4/a_ini\n",
    "\n",
    "#read info for simulation\n",
    "path=cwd+'Sim_100v/'\n",
    "snaps,slnums,sl=grp.get_snapshot_info(path)\n",
    "bchoice=100\n",
    "xmin=0\n",
    "xmax=100\n",
    "ymin=0\n",
    "ymax=100\n",
    "zmin=0\n",
    "zmax=100\n",
    "dx=(xmax-xmin)/bchoice\n",
    "dy=(ymax-ymin)/bchoice\n",
    "dz=(zmax-zmin)/bchoice\n",
    "\n",
    "#set up pos, vel arrays to be stored\n",
    "pos_arr2=np.zeros((3,len(taH),3))\n",
    "vel_arr2=np.zeros((3,len(taH),3))\n",
    "for i in range(3):\n",
    "    pos_arr2[i,0]=pos_ini[i]\n",
    "    vel_arr2[i,0]=vel_ini[i]\n",
    "\n",
    "time2=datetime.datetime.now()\n",
    "print('Setting up took '+str((time2-time1).total_seconds())+' seconds.')\n",
    "time3=datetime.datetime.now()\n",
    "#loop through time\n",
    "for i in range(len(taH)-1):\n",
    "#for i in range(1):\n",
    "    time4=datetime.datetime.now()\n",
    "    #get density, redshift from snapshot\n",
    "    rho,xc,yc,zc=grp.rho_of_snap_P1(path,slnums,snaps[i],xmin,xmax,ymin,ymax,zmin,zmax,bchoice)\n",
    "    redz,time=grp.get_z_t(path,snaps[i])\n",
    "    for j in range(3):\n",
    "        posx=posind(pos_arr2[j,i,0],xmin,xmax,bchoice)\n",
    "        posy=posind(pos_arr2[j,i,1],ymin,ymax,bchoice)\n",
    "        posz=posind(pos_arr2[j,i,2],zmin,zmax,bchoice)\n",
    "        if posx<0 or posy<0 or posz<0 or posx>=bchoice or posy>=bchoice or posz>=bchoice:\n",
    "            print(\"rocket flew off the grid, ending computation at time index \"+str(i)+'. Corresponds to time='+str(taH[i,0])+', a='+str(taH[i,1])+'.')\n",
    "            print(\"position indices found to be\"+str((posx,posy,posz)))\n",
    "            break\n",
    "        fGrav=Fg(rho,redz,posx,posy,posz,dx,dy,dz)\n",
    "        fNet=fGrav+fRocket\n",
    "        dt=taH[i+1,0]-taH[i,0]\n",
    "        H=taH[i,2]\n",
    "        pos_arr2[j,i+1],vel_arr2[j,i+1]=timestep(dt,pos_arr2[j,i],vel_arr2[j,i],redz,H,fNet)\n",
    "    time5=datetime.datetime.now()\n",
    "    print('Loop element '+str(i)+' took '+str((time5-time4).total_seconds())+' seconds.')\n",
    "print('Whole loop took '+str((time5-time3).total_seconds()/60.)+' minutes.')\n",
    "print('Whole process took '+str((time5-time1).total_seconds()/60.)+' minutes.')"
   ]
  },
  {
   "cell_type": "code",
   "execution_count": 10,
   "metadata": {},
   "outputs": [
    {
     "name": "stdout",
     "output_type": "stream",
     "text": [
      "Setting up took 0.22662 seconds.\n"
     ]
    },
    {
     "name": "stderr",
     "output_type": "stream",
     "text": [
      "/usr/lib/python3/dist-packages/ipykernel_launcher.py:70: ComplexWarning: Casting complex values to real discards the imaginary part\n"
     ]
    },
    {
     "name": "stdout",
     "output_type": "stream",
     "text": [
      "Loop element 0 took 33.065933 seconds.\n",
      "Loop element 1 took 32.090848 seconds.\n",
      "Loop element 2 took 32.984493 seconds.\n",
      "Loop element 3 took 33.689862 seconds.\n",
      "Loop element 4 took 32.129484 seconds.\n",
      "Loop element 5 took 33.253353 seconds.\n",
      "Loop element 6 took 33.281884 seconds.\n",
      "Loop element 7 took 32.471716 seconds.\n",
      "Loop element 8 took 31.851939 seconds.\n",
      "Loop element 9 took 31.757574 seconds.\n",
      "Loop element 10 took 32.154739 seconds.\n",
      "Loop element 11 took 32.062765 seconds.\n",
      "Loop element 12 took 32.222664 seconds.\n",
      "Loop element 13 took 32.81726 seconds.\n",
      "Loop element 14 took 33.261406 seconds.\n",
      "Loop element 15 took 31.735175 seconds.\n",
      "Loop element 16 took 33.693923 seconds.\n",
      "Loop element 17 took 32.512855 seconds.\n",
      "Loop element 18 took 32.489473 seconds.\n",
      "Loop element 19 took 32.108383 seconds.\n",
      "Loop element 20 took 33.276492 seconds.\n",
      "Loop element 21 took 32.284596 seconds.\n",
      "Loop element 22 took 33.273096 seconds.\n",
      "Loop element 23 took 32.602451 seconds.\n",
      "Loop element 24 took 32.790993 seconds.\n",
      "Loop element 25 took 31.58731 seconds.\n",
      "Loop element 26 took 31.817845 seconds.\n",
      "Loop element 27 took 32.110543 seconds.\n",
      "Loop element 28 took 32.989873 seconds.\n",
      "Loop element 29 took 34.689648 seconds.\n",
      "Loop element 30 took 35.52323 seconds.\n",
      "Loop element 31 took 35.892761 seconds.\n",
      "Loop element 32 took 35.98788 seconds.\n",
      "Loop element 33 took 36.167361 seconds.\n",
      "Loop element 34 took 34.480168 seconds.\n",
      "Loop element 35 took 31.98158 seconds.\n",
      "Loop element 36 took 31.471048 seconds.\n",
      "Loop element 37 took 31.469805 seconds.\n",
      "Loop element 38 took 31.517052 seconds.\n",
      "Loop element 39 took 32.709842 seconds.\n",
      "Loop element 40 took 31.983978 seconds.\n",
      "Loop element 41 took 31.8351 seconds.\n",
      "Loop element 42 took 31.949563 seconds.\n",
      "Loop element 43 took 32.737504 seconds.\n",
      "Loop element 44 took 32.211728 seconds.\n",
      "Loop element 45 took 31.700891 seconds.\n",
      "Loop element 46 took 31.68707 seconds.\n",
      "Loop element 47 took 31.931204 seconds.\n",
      "Loop element 48 took 32.508624 seconds.\n",
      "Loop element 49 took 32.075623 seconds.\n",
      "Loop element 50 took 32.07118 seconds.\n",
      "Loop element 51 took 31.846855 seconds.\n",
      "Loop element 52 took 32.246869 seconds.\n",
      "Loop element 53 took 32.537724 seconds.\n",
      "Loop element 54 took 31.742366 seconds.\n",
      "Loop element 55 took 31.484088 seconds.\n",
      "Loop element 56 took 31.778174 seconds.\n",
      "Loop element 57 took 30.645417 seconds.\n",
      "Loop element 58 took 32.466863 seconds.\n",
      "Loop element 59 took 32.030676 seconds.\n",
      "Loop element 60 took 31.986907 seconds.\n",
      "Loop element 61 took 32.599037 seconds.\n",
      "Loop element 62 took 31.264377 seconds.\n",
      "Loop element 63 took 32.319142 seconds.\n",
      "Loop element 64 took 31.579339 seconds.\n",
      "Loop element 65 took 31.460061 seconds.\n",
      "Loop element 66 took 31.133855 seconds.\n",
      "Loop element 67 took 31.977204 seconds.\n",
      "Loop element 68 took 31.295632 seconds.\n",
      "Loop element 69 took 32.361317 seconds.\n",
      "Loop element 70 took 31.981688 seconds.\n",
      "Loop element 71 took 32.280113 seconds.\n",
      "Loop element 72 took 31.422752 seconds.\n",
      "Loop element 73 took 32.755645 seconds.\n",
      "Loop element 74 took 32.17274 seconds.\n",
      "Loop element 75 took 32.217087 seconds.\n",
      "Loop element 76 took 31.837086 seconds.\n",
      "Loop element 77 took 31.869393 seconds.\n",
      "Loop element 78 took 33.748278 seconds.\n",
      "Loop element 79 took 31.619617 seconds.\n",
      "Loop element 80 took 31.656408 seconds.\n",
      "Loop element 81 took 31.816291 seconds.\n",
      "Loop element 82 took 31.076515 seconds.\n",
      "Loop element 83 took 32.093319 seconds.\n",
      "Loop element 84 took 32.517506 seconds.\n",
      "Loop element 85 took 29.972048 seconds.\n",
      "Loop element 86 took 35.695626 seconds.\n",
      "Loop element 87 took 36.309055 seconds.\n",
      "Loop element 88 took 31.867858 seconds.\n",
      "Loop element 89 took 31.819565 seconds.\n",
      "Loop element 90 took 31.423331 seconds.\n",
      "Loop element 91 took 31.249553 seconds.\n",
      "Loop element 92 took 31.207633 seconds.\n",
      "Loop element 93 took 31.820434 seconds.\n",
      "Loop element 94 took 31.046029 seconds.\n",
      "Loop element 95 took 31.51061 seconds.\n",
      "Loop element 96 took 32.053386 seconds.\n",
      "Loop element 97 took 31.645827 seconds.\n",
      "Loop element 98 took 31.810165 seconds.\n",
      "Loop element 99 took 30.857913 seconds.\n",
      "Whole loop took 53.91813128333333 minutes.\n",
      "Whole process took 53.921911300000005 minutes.\n"
     ]
    }
   ],
   "source": [
    "#small rocket force\n",
    "time1=datetime.datetime.now()\n",
    "#t, a, H array\n",
    "taH=np.zeros((101,3))\n",
    "tend,Hend=time_Hubble_of_a(1.0)\n",
    "N=100\n",
    "for i in range(101):\n",
    "    taH[i,0]=(tend+1)**(i/N)-1\n",
    "    taH[i,1],taH[i,2]=a_Hubble_of_t(taH[i,0])\n",
    "    \n",
    "#set up rocket force\n",
    "xi=5\n",
    "GpoG=0.1\n",
    "H0=0.00033333\n",
    "nrocket=np.asarray([1.,0.,0.])\n",
    "#fRocket=H0/xi*GpoG*nrocket\n",
    "fRocket = nrocket*5e-7\n",
    "\n",
    "#initial conditions\n",
    "a_ini = taH[0,1]\n",
    "t_ini = taH[0,0]\n",
    "pos_ini = np.asarray([[35.,35.,35.],[40.,40.,40.],[45.,45.,45.],[55.,55.,55.],[60.,60.,60.]])\n",
    "vel_ini = np.asarray([[1.,1.,1.],[1.,1.,1.],[1.,1.,1.],[1.,1.,1.],[1.,1.,1.]])*6e-4/a_ini\n",
    "#pos_ini = np.asarray([25.,25.,25.])\n",
    "#vel_ini = np.asarray([1.,1.,1.])*6e-4/a_ini\n",
    "\n",
    "#read info for simulation\n",
    "path=cwd+'Sim_100v/'\n",
    "snaps,slnums,sl=grp.get_snapshot_info(path)\n",
    "bchoice=100\n",
    "xmin=0\n",
    "xmax=100\n",
    "ymin=0\n",
    "ymax=100\n",
    "zmin=0\n",
    "zmax=100\n",
    "dx=(xmax-xmin)/bchoice\n",
    "dy=(ymax-ymin)/bchoice\n",
    "dz=(zmax-zmin)/bchoice\n",
    "\n",
    "#set up pos, vel arrays to be stored\n",
    "pos_arr3=np.zeros((len(pos_ini),len(taH),3))\n",
    "vel_arr3=np.zeros((len(pos_ini),len(taH),3))\n",
    "for i in range(len(pos_arr3)):\n",
    "    pos_arr3[i,0]=pos_ini[i]\n",
    "    vel_arr3[i,0]=vel_ini[i]\n",
    "\n",
    "time2=datetime.datetime.now()\n",
    "print('Setting up took '+str((time2-time1).total_seconds())+' seconds.')\n",
    "time3=datetime.datetime.now()\n",
    "#loop through time\n",
    "for i in range(len(taH)-1):\n",
    "#for i in range(1):\n",
    "    time4=datetime.datetime.now()\n",
    "    #get density, redshift from snapshot\n",
    "    rho,xc,yc,zc=grp.rho_of_snap_P1(path,slnums,snaps[i],xmin,xmax,ymin,ymax,zmin,zmax,bchoice)\n",
    "    redz,time=grp.get_z_t(path,snaps[i])\n",
    "    for j in range(len(pos_arr3)):\n",
    "        posx=posind(pos_arr3[j,i,0],xmin,xmax,bchoice)\n",
    "        posy=posind(pos_arr3[j,i,1],ymin,ymax,bchoice)\n",
    "        posz=posind(pos_arr3[j,i,2],zmin,zmax,bchoice)\n",
    "        if posx<0 or posy<0 or posz<0 or posx>=bchoice or posy>=bchoice or posz>=bchoice:\n",
    "            print(\"rocket flew off the grid, ending computation at time index \"+str(i)+'. Corresponds to time='+str(taH[i,0])+', a='+str(taH[i,1])+'.')\n",
    "            print(\"position indices found to be\"+str((posx,posy,posz)))\n",
    "            break\n",
    "        fGrav=Fg(rho,redz,posx,posy,posz,dx,dy,dz)\n",
    "        fNet=fGrav+fRocket\n",
    "        dt=taH[i+1,0]-taH[i,0]\n",
    "        H=taH[i,2]\n",
    "        pos_arr3[j,i+1],vel_arr3[j,i+1]=timestep(dt,pos_arr3[j,i],vel_arr3[j,i],redz,H,fNet)\n",
    "    time5=datetime.datetime.now()\n",
    "    print('Loop element '+str(i)+' took '+str((time5-time4).total_seconds())+' seconds.')\n",
    "print('Whole loop took '+str((time5-time3).total_seconds()/60.)+' minutes.')\n",
    "print('Whole process took '+str((time5-time1).total_seconds()/60.)+' minutes.')"
   ]
  },
  {
   "cell_type": "code",
   "execution_count": 6,
   "metadata": {},
   "outputs": [
    {
     "data": {
      "text/plain": [
       "[<matplotlib.lines.Line2D at 0x7fb549332320>]"
      ]
     },
     "execution_count": 6,
     "metadata": {},
     "output_type": "execute_result"
    },
    {
     "data": {
      "image/png": "[encoded data removed]",
      "text/plain": [
       "<Figure size 432x288 with 1 Axes>"
      ]
     },
     "metadata": {},
     "output_type": "display_data"
    }
   ],
   "source": [
    "plt.plot(pos_arr[0,:,0],pos_arr[0,:,1],'.')\n",
    "plt.plot(pos_arr[1,:,0],pos_arr[1,:,1],'.')\n",
    "plt.plot(pos_arr[2,:,0],pos_arr[2,:,1],'.')"
   ]
  },
  {
   "cell_type": "code",
   "execution_count": 8,
   "metadata": {},
   "outputs": [
    {
     "data": {
      "text/plain": [
       "[<matplotlib.lines.Line2D at 0x7fb549296390>]"
      ]
     },
     "execution_count": 8,
     "metadata": {},
     "output_type": "execute_result"
    },
    {
     "data": {
      "image/png": "[encoded data removed]",
      "text/plain": [
       "<Figure size 432x288 with 1 Axes>"
      ]
     },
     "metadata": {},
     "output_type": "display_data"
    }
   ],
   "source": [
    "plt.plot(pos_arr2[0,:,0],pos_arr2[0,:,1],'.')\n",
    "plt.plot(pos_arr2[1,:,0],pos_arr2[1,:,1],'.')\n",
    "plt.plot(pos_arr2[2,:,0],pos_arr2[2,:,1],'.')"
   ]
  },
  {
   "cell_type": "code",
   "execution_count": 16,
   "metadata": {},
   "outputs": [
    {
     "data": {
      "text/plain": [
       "<matplotlib.legend.Legend at 0x7fb548fb8710>"
      ]
     },
     "execution_count": 16,
     "metadata": {},
     "output_type": "execute_result"
    },
    {
     "data": {
      "image/png": "[encoded data removed]",
      "text/plain": [
       "<Figure size 432x288 with 1 Axes>"
      ]
     },
     "metadata": {},
     "output_type": "display_data"
    }
   ],
   "source": [
    "plt.plot(pos_arr3[0,:,0],pos_arr3[0,:,1],'.',label='x_i = (35,35,35)')\n",
    "plt.plot(pos_arr3[1,:,0],pos_arr3[1,:,1],'.',label='x_i = (40,40,40)')\n",
    "plt.plot(pos_arr3[2,:,0],pos_arr3[2,:,1],'.',label='x_i = (45,45,45)')\n",
    "plt.plot(pos_arr2[1,:,0],pos_arr2[1,:,1],'.',label='x_i = (50,50,50)')\n",
    "plt.plot(pos_arr3[3,:,0],pos_arr3[3,:,1],'.',label='x_i = (55,55,55)')\n",
    "plt.plot(pos_arr3[4,:,0],pos_arr3[4,:,1],'.',label='x_i = (60,60,60)')\n",
    "plt.legend()"
   ]
  },
  {
   "cell_type": "code",
   "execution_count": 17,
   "metadata": {},
   "outputs": [
    {
     "data": {
      "text/plain": [
       "<matplotlib.legend.Legend at 0x7fb548f30d68>"
      ]
     },
     "execution_count": 17,
     "metadata": {},
     "output_type": "execute_result"
    },
    {
     "data": {
      "image/png": "[encoded data removed]",
      "text/plain": [
       "<Figure size 432x288 with 1 Axes>"
      ]
     },
     "metadata": {},
     "output_type": "display_data"
    }
   ],
   "source": [
    "t=0\n",
    "plt.plot(pos_arr3[0,t,0],pos_arr3[0,t,1],'.',label='x_i = (35,35,35)')\n",
    "plt.plot(pos_arr3[1,t,0],pos_arr3[1,t,1],'.',label='x_i = (40,40,40)')\n",
    "plt.plot(pos_arr3[2,t,0],pos_arr3[2,t,1],'.',label='x_i = (45,45,45)')\n",
    "plt.plot(pos_arr2[1,t,0],pos_arr2[1,t,1],'.',label='x_i = (50,50,50)')\n",
    "plt.plot(pos_arr3[3,t,0],pos_arr3[3,t,1],'.',label='x_i = (55,55,55)')\n",
    "plt.plot(pos_arr3[4,t,0],pos_arr3[4,t,1],'.',label='x_i = (60,60,60)')\n",
    "plt.title('t='+str(t))\n",
    "plt.legend()"
   ]
  },
  {
   "cell_type": "code",
   "execution_count": 19,
   "metadata": {},
   "outputs": [
    {
     "data": {
      "text/plain": [
       "<matplotlib.legend.Legend at 0x7fb548ed1c18>"
      ]
     },
     "execution_count": 19,
     "metadata": {},
     "output_type": "execute_result"
    },
    {
     "data": {
      "image/png": "[encoded data removed]",
      "text/plain": [
       "<Figure size 432x288 with 1 Axes>"
      ]
     },
     "metadata": {},
     "output_type": "display_data"
    }
   ],
   "source": [
    "t=int(len(taH)/4)\n",
    "plt.plot(pos_arr3[0,t,0],pos_arr3[0,t,1],'.',label='x_i = (35,35,35)')\n",
    "plt.plot(pos_arr3[1,t,0],pos_arr3[1,t,1],'.',label='x_i = (40,40,40)')\n",
    "plt.plot(pos_arr3[2,t,0],pos_arr3[2,t,1],'.',label='x_i = (45,45,45)')\n",
    "plt.plot(pos_arr2[1,t,0],pos_arr2[1,t,1],'.',label='x_i = (50,50,50)')\n",
    "plt.plot(pos_arr3[3,t,0],pos_arr3[3,t,1],'.',label='x_i = (55,55,55)')\n",
    "plt.plot(pos_arr3[4,t,0],pos_arr3[4,t,1],'.',label='x_i = (60,60,60)')\n",
    "plt.title('t='+str(t))\n",
    "plt.legend()"
   ]
  },
  {
   "cell_type": "code",
   "execution_count": 20,
   "metadata": {},
   "outputs": [
    {
     "data": {
      "text/plain": [
       "<matplotlib.legend.Legend at 0x7fb548e632e8>"
      ]
     },
     "execution_count": 20,
     "metadata": {},
     "output_type": "execute_result"
    },
    {
     "data": {
      "image/png": "[encoded data removed]",
      "text/plain": [
       "<Figure size 432x288 with 1 Axes>"
      ]
     },
     "metadata": {},
     "output_type": "display_data"
    }
   ],
   "source": [
    "t=int(len(taH)/2)\n",
    "plt.plot(pos_arr3[0,t,0],pos_arr3[0,t,1],'.',label='x_i = (35,35,35)')\n",
    "plt.plot(pos_arr3[1,t,0],pos_arr3[1,t,1],'.',label='x_i = (40,40,40)')\n",
    "plt.plot(pos_arr3[2,t,0],pos_arr3[2,t,1],'.',label='x_i = (45,45,45)')\n",
    "plt.plot(pos_arr2[1,t,0],pos_arr2[1,t,1],'.',label='x_i = (50,50,50)')\n",
    "plt.plot(pos_arr3[3,t,0],pos_arr3[3,t,1],'.',label='x_i = (55,55,55)')\n",
    "plt.plot(pos_arr3[4,t,0],pos_arr3[4,t,1],'.',label='x_i = (60,60,60)')\n",
    "plt.title('t='+str(t))\n",
    "plt.legend()"
   ]
  },
  {
   "cell_type": "code",
   "execution_count": 21,
   "metadata": {},
   "outputs": [
    {
     "data": {
      "text/plain": [
       "<matplotlib.legend.Legend at 0x7fb548d74128>"
      ]
     },
     "execution_count": 21,
     "metadata": {},
     "output_type": "execute_result"
    },
    {
     "data": {
      "image/png": "[encoded data removed]",
      "text/plain": [
       "<Figure size 432x288 with 1 Axes>"
      ]
     },
     "metadata": {},
     "output_type": "display_data"
    }
   ],
   "source": [
    "t=int(3*len(taH)/4)\n",
    "plt.plot(pos_arr3[0,t,0],pos_arr3[0,t,1],'.',label='x_i = (35,35,35)')\n",
    "plt.plot(pos_arr3[1,t,0],pos_arr3[1,t,1],'.',label='x_i = (40,40,40)')\n",
    "plt.plot(pos_arr3[2,t,0],pos_arr3[2,t,1],'.',label='x_i = (45,45,45)')\n",
    "plt.plot(pos_arr2[1,t,0],pos_arr2[1,t,1],'.',label='x_i = (50,50,50)')\n",
    "plt.plot(pos_arr3[3,t,0],pos_arr3[3,t,1],'.',label='x_i = (55,55,55)')\n",
    "plt.plot(pos_arr3[4,t,0],pos_arr3[4,t,1],'.',label='x_i = (60,60,60)')\n",
    "plt.title('t='+str(t))\n",
    "plt.legend()"
   ]
  },
  {
   "cell_type": "code",
   "execution_count": 23,
   "metadata": {},
   "outputs": [
    {
     "data": {
      "text/plain": [
       "<matplotlib.legend.Legend at 0x7fb548d13390>"
      ]
     },
     "execution_count": 23,
     "metadata": {},
     "output_type": "execute_result"
    },
    {
     "data": {
      "image/png": "[encoded data removed]",
      "text/plain": [
       "<Figure size 432x288 with 1 Axes>"
      ]
     },
     "metadata": {},
     "output_type": "display_data"
    }
   ],
   "source": [
    "t=int(len(taH))-1\n",
    "plt.plot(pos_arr3[0,t,0],pos_arr3[0,t,1],'.',label='x_i = (35,35,35)')\n",
    "plt.plot(pos_arr3[1,t,0],pos_arr3[1,t,1],'.',label='x_i = (40,40,40)')\n",
    "plt.plot(pos_arr3[2,t,0],pos_arr3[2,t,1],'.',label='x_i = (45,45,45)')\n",
    "plt.plot(pos_arr2[1,t,0],pos_arr2[1,t,1],'.',label='x_i = (50,50,50)')\n",
    "plt.plot(pos_arr3[3,t,0],pos_arr3[3,t,1],'.',label='x_i = (55,55,55)')\n",
    "plt.plot(pos_arr3[4,t,0],pos_arr3[4,t,1],'.',label='x_i = (60,60,60)')\n",
    "plt.title('t='+str(t))\n",
    "plt.legend()"
   ]
  },
  {
   "cell_type": "code",
   "execution_count": 88,
   "metadata": {},
   "outputs": [
    {
     "name": "stdout",
     "output_type": "stream",
     "text": [
      "Setting up took 0.237661 seconds.\n"
     ]
    },
    {
     "name": "stderr",
     "output_type": "stream",
     "text": [
      "/usr/lib/python3/dist-packages/ipykernel_launcher.py:64: ComplexWarning: Casting complex values to real discards the imaginary part\n"
     ]
    },
    {
     "name": "stdout",
     "output_type": "stream",
     "text": [
      "Loop element 0 took 11.176671 seconds.\n",
      "Loop element 1 took 10.402956 seconds.\n",
      "Loop element 2 took 10.298583 seconds.\n",
      "Loop element 3 took 10.276382 seconds.\n",
      "Loop element 4 took 10.821665 seconds.\n",
      "Loop element 5 took 10.479962 seconds.\n",
      "Loop element 6 took 10.49163 seconds.\n",
      "Loop element 7 took 10.649435 seconds.\n",
      "Loop element 8 took 10.772778 seconds.\n",
      "Loop element 9 took 10.053254 seconds.\n",
      "Loop element 10 took 10.689389 seconds.\n",
      "Loop element 11 took 10.298921 seconds.\n",
      "Loop element 12 took 10.327567 seconds.\n",
      "Loop element 13 took 10.63262 seconds.\n",
      "Loop element 14 took 11.043209 seconds.\n",
      "Loop element 15 took 10.956586 seconds.\n",
      "Loop element 16 took 10.533206 seconds.\n",
      "Loop element 17 took 10.561871 seconds.\n",
      "Loop element 18 took 10.7396 seconds.\n",
      "Loop element 19 took 11.216377 seconds.\n",
      "Loop element 20 took 10.654897 seconds.\n",
      "Loop element 21 took 10.317727 seconds.\n",
      "Loop element 22 took 10.95723 seconds.\n",
      "Loop element 23 took 10.367332 seconds.\n",
      "Loop element 24 took 10.534706 seconds.\n",
      "Loop element 25 took 10.268425 seconds.\n",
      "Loop element 26 took 10.860154 seconds.\n",
      "Loop element 27 took 10.092276 seconds.\n",
      "Loop element 28 took 10.391061 seconds.\n",
      "Loop element 29 took 10.101161 seconds.\n",
      "Loop element 30 took 9.993931 seconds.\n",
      "Loop element 31 took 10.408853 seconds.\n",
      "Loop element 32 took 10.23908 seconds.\n",
      "Loop element 33 took 9.69775 seconds.\n",
      "Loop element 34 took 10.786829 seconds.\n",
      "Loop element 35 took 10.4174 seconds.\n",
      "Loop element 36 took 10.403543 seconds.\n",
      "Loop element 37 took 12.787535 seconds.\n",
      "Loop element 38 took 13.499589 seconds.\n",
      "Loop element 39 took 13.329379 seconds.\n",
      "Loop element 40 took 12.932453 seconds.\n",
      "Loop element 41 took 12.131618 seconds.\n",
      "Loop element 42 took 11.636616 seconds.\n",
      "Loop element 43 took 11.825397 seconds.\n",
      "Loop element 44 took 11.857526 seconds.\n",
      "Loop element 45 took 11.47626 seconds.\n",
      "Loop element 46 took 11.187054 seconds.\n",
      "Loop element 47 took 10.952836 seconds.\n",
      "Loop element 48 took 10.021151 seconds.\n",
      "Loop element 49 took 10.076171 seconds.\n",
      "Loop element 50 took 11.123158 seconds.\n",
      "Loop element 51 took 11.289719 seconds.\n",
      "Loop element 52 took 11.534413 seconds.\n",
      "Loop element 53 took 11.02538 seconds.\n",
      "Loop element 54 took 10.94993 seconds.\n",
      "Loop element 55 took 11.145854 seconds.\n",
      "Loop element 56 took 10.894382 seconds.\n",
      "Loop element 57 took 10.43776 seconds.\n",
      "Loop element 58 took 11.808643 seconds.\n",
      "Loop element 59 took 10.219983 seconds.\n",
      "Loop element 60 took 9.936979 seconds.\n",
      "Loop element 61 took 10.31825 seconds.\n",
      "Loop element 62 took 10.241795 seconds.\n",
      "Loop element 63 took 10.707927 seconds.\n",
      "Loop element 64 took 10.482263 seconds.\n",
      "Loop element 65 took 9.950042 seconds.\n",
      "Loop element 66 took 10.200792 seconds.\n",
      "Loop element 67 took 9.901854 seconds.\n",
      "Loop element 68 took 10.109553 seconds.\n",
      "Loop element 69 took 10.088183 seconds.\n",
      "Loop element 70 took 9.993008 seconds.\n",
      "Loop element 71 took 10.263001 seconds.\n",
      "Loop element 72 took 10.164488 seconds.\n",
      "Loop element 73 took 10.266188 seconds.\n",
      "Loop element 74 took 10.21194 seconds.\n",
      "Loop element 75 took 10.146785 seconds.\n",
      "Loop element 76 took 10.262743 seconds.\n",
      "Loop element 77 took 10.339203 seconds.\n",
      "Loop element 78 took 10.465779 seconds.\n",
      "Loop element 79 took 10.617265 seconds.\n",
      "Loop element 80 took 10.24595 seconds.\n",
      "Loop element 81 took 9.833104 seconds.\n",
      "Loop element 82 took 10.10507 seconds.\n",
      "Loop element 83 took 10.16925 seconds.\n",
      "Loop element 84 took 10.724611 seconds.\n",
      "Loop element 85 took 10.727392 seconds.\n",
      "Loop element 86 took 10.309574 seconds.\n",
      "Loop element 87 took 10.416274 seconds.\n",
      "Loop element 88 took 10.395706 seconds.\n",
      "Loop element 89 took 10.007523 seconds.\n",
      "Loop element 90 took 10.194032 seconds.\n",
      "Loop element 91 took 10.412239 seconds.\n",
      "Loop element 92 took 10.349017 seconds.\n",
      "Loop element 93 took 10.146865 seconds.\n",
      "Loop element 94 took 10.523159 seconds.\n",
      "Loop element 95 took 10.33918 seconds.\n",
      "Loop element 96 took 10.499051 seconds.\n",
      "Loop element 97 took 10.421587 seconds.\n",
      "Loop element 98 took 9.909506 seconds.\n",
      "Loop element 99 took 10.379666 seconds.\n",
      "Whole loop took 17.730928249999998 minutes.\n",
      "Whole process took 17.734898183333332 minutes.\n"
     ]
    }
   ],
   "source": [
    "time1=datetime.datetime.now()\n",
    "#t, a, H array\n",
    "taH=np.zeros((101,3))\n",
    "tend,Hend=time_Hubble_of_a(1.0)\n",
    "N=100\n",
    "for i in range(101):\n",
    "    taH[i,0]=(tend+1)**(i/N)-1\n",
    "    taH[i,1],taH[i,2]=a_Hubble_of_t(taH[i,0])\n",
    "    \n",
    "#set up rocket force\n",
    "xi=5\n",
    "GpoG=0.1\n",
    "H0=0.00033333\n",
    "nrocket=np.asarray([1.,0.,0.])\n",
    "fRocket=H0/xi*GpoG*nrocket\n",
    "\n",
    "#initial conditions\n",
    "a_ini = taH[0,1]\n",
    "t_ini = taH[0,0]\n",
    "pos_ini = np.asarray([25.,25.,25.])\n",
    "vel_ini = np.asarray([1.,1.,1.])*6e-4/a_ini\n",
    "\n",
    "#read info for simulation\n",
    "path=cwd+'Sim_100v/'\n",
    "snaps,slnums,sl=grp.get_snapshot_info(path)\n",
    "bchoice=100\n",
    "xmin=0\n",
    "xmax=100\n",
    "ymin=0\n",
    "ymax=100\n",
    "zmin=0\n",
    "zmax=100\n",
    "dx=(xmax-xmin)/bchoice\n",
    "dy=(ymax-ymin)/bchoice\n",
    "dz=(zmax-zmin)/bchoice\n",
    "\n",
    "#set up pos, vel arrays to be stored\n",
    "pos_arr=np.zeros((len(taH),3))\n",
    "vel_arr=np.zeros((len(taH),3))\n",
    "pos_arr[0]=pos_ini\n",
    "vel_arr[0]=vel_ini\n",
    "\n",
    "time2=datetime.datetime.now()\n",
    "print('Setting up took '+str((time2-time1).total_seconds())+' seconds.')\n",
    "time3=datetime.datetime.now()\n",
    "#loop through time\n",
    "for i in range(len(taH)-1):\n",
    "#for i in range(1):\n",
    "    time4=datetime.datetime.now()\n",
    "    #get density, redshift from snapshot\n",
    "    rho,xc,yc,zc=grp.rho_of_snap_P1(path,slnums,snaps[i],xmin,xmax,ymin,ymax,zmin,zmax,bchoice)\n",
    "    redz,time=grp.get_z_t(path,snaps[i])\n",
    "    posx=posind(pos_arr[i,0],xmin,xmax,bchoice)\n",
    "    posy=posind(pos_arr[i,1],ymin,ymax,bchoice)\n",
    "    posz=posind(pos_arr[i,2],zmin,zmax,bchoice)\n",
    "    if posx<0 or posy<0 or posz<0 or posx>=bchoice or posy>=bchoice or posz>=bchoice:\n",
    "        print(\"rocket flew off the grid, ending computation at time index \"+str(i)+'. Corresponds to time='+str(taH[i,0])+', a='+str(taH[i,1])+'.')\n",
    "        print(\"position indices found to be\"+str((posx,posy,posz)))\n",
    "        break\n",
    "    fGrav=Fg(rho,redz,posx,posy,posz,dx,dy,dz)\n",
    "    fNet=fGrav+fRocket\n",
    "    dt=taH[i+1,0]-taH[i,0]\n",
    "    H=taH[i,2]\n",
    "    pos_arr[i+1],vel_arr[i+1]=timestep(dt,pos_arr[i],vel_arr[i],redz,H,fNet)\n",
    "    time5=datetime.datetime.now()\n",
    "    print('Loop element '+str(i)+' took '+str((time5-time4).total_seconds())+' seconds.')\n",
    "print('Whole loop took '+str((time5-time3).total_seconds()/60.)+' minutes.')\n",
    "print('Whole process took '+str((time5-time1).total_seconds()/60.)+' minutes.')"
   ]
  },
  {
   "cell_type": "code",
   "execution_count": 89,
   "metadata": {},
   "outputs": [
    {
     "data": {
      "text/plain": [
       "[<matplotlib.lines.Line2D at 0x7f68559b61d0>]"
      ]
     },
     "execution_count": 89,
     "metadata": {},
     "output_type": "execute_result"
    },
    {
     "data": {
      "image/png": "[encoded data removed]",
      "text/plain": [
       "<Figure size 432x288 with 1 Axes>"
      ]
     },
     "metadata": {},
     "output_type": "display_data"
    }
   ],
   "source": [
    "plt.plot(pos_arr[:,0],pos_arr[:,1],'.')"
   ]
  },
  {
   "cell_type": "code",
   "execution_count": 87,
   "metadata": {},
   "outputs": [
    {
     "data": {
      "text/plain": [
       "[<matplotlib.lines.Line2D at 0x7f685de200b8>]"
      ]
     },
     "execution_count": 87,
     "metadata": {},
     "output_type": "execute_result"
    },
    {
     "data": {
      "image/png": "[encoded data removed]",
      "text/plain": [
       "<Figure size 432x288 with 1 Axes>"
      ]
     },
     "metadata": {},
     "output_type": "display_data"
    }
   ],
   "source": [
    "plt.plot(pos_arr[:,0],pos_arr[:,1],'.')"
   ]
  },
  {
   "cell_type": "code",
   "execution_count": 24,
   "metadata": {},
   "outputs": [],
   "source": [
    "import scipy.integrate as integrate\n",
    "\n",
    "def fried(y,t,H0,Om,OL):\n",
    "    a = y\n",
    "    dadt = a*H0*np.sqrt(Om/a**3+OL)\n",
    "    return dadt\n",
    "\n",
    "a0=0.0078125\n",
    "H0=0.0003333\n",
    "Om=0.25\n",
    "OL=0.75\n",
    "t=np.linspace(0,1.1*H0**(-1),1000)\n",
    "sol = integrate.odeint(fried, a0, t, args=(H0,Om,OL))"
   ]
  },
  {
   "cell_type": "code",
   "execution_count": 29,
   "metadata": {},
   "outputs": [],
   "source": [
    "from scipy import interpolate\n",
    "\n",
    "f = interpolate.interp1d(t, sol[:,0])"
   ]
  },
  {
   "cell_type": "code",
   "execution_count": 44,
   "metadata": {},
   "outputs": [
    {
     "data": {
      "text/plain": [
       "(1000.0000000000001, 0.0007061692205929987)"
      ]
     },
     "execution_count": 44,
     "metadata": {},
     "output_type": "execute_result"
    }
   ],
   "source": [
    "time_Hubble_of_a(0.4059156900428647)"
   ]
  },
  {
   "cell_type": "code",
   "execution_count": 49,
   "metadata": {},
   "outputs": [
    {
     "data": {
      "text/plain": [
       "(0.4059156900428647, 0.0007061692205929987)"
      ]
     },
     "execution_count": 49,
     "metadata": {},
     "output_type": "execute_result"
    }
   ],
   "source": [
    "a_Hubble_of_t(1000)"
   ]
  },
  {
   "cell_type": "code",
   "execution_count": 33,
   "metadata": {},
   "outputs": [
    {
     "data": {
      "text/plain": [
       "array(1.00369523)"
      ]
     },
     "execution_count": 33,
     "metadata": {},
     "output_type": "execute_result"
    }
   ],
   "source": [
    "f(3050)"
   ]
  },
  {
   "cell_type": "code",
   "execution_count": 34,
   "metadata": {},
   "outputs": [],
   "source": [
    "func = lambda tau : f(tau)-1.0\n",
    "from scipy.optimize import fsolve\n",
    "soln=fsolve(func,H0**(-1))"
   ]
  },
  {
   "cell_type": "code",
   "execution_count": 35,
   "metadata": {},
   "outputs": [
    {
     "data": {
      "text/plain": [
       "array([3038.92608609])"
      ]
     },
     "execution_count": 35,
     "metadata": {},
     "output_type": "execute_result"
    }
   ],
   "source": [
    "soln"
   ]
  },
  {
   "cell_type": "code",
   "execution_count": 37,
   "metadata": {},
   "outputs": [
    {
     "name": "stdout",
     "output_type": "stream",
     "text": [
      "1000 0.4059156900428647 0.0007061692205929987\n"
     ]
    }
   ],
   "source": [
    "t1=1000\n",
    "a1=f(t1)\n",
    "H1=(f(t1+0.001)-f(t1-0.001))/(0.002)/a1\n",
    "print(t1,a1,H1)"
   ]
  },
  {
   "cell_type": "code",
   "execution_count": 25,
   "metadata": {},
   "outputs": [
    {
     "data": {
      "image/png": "[encoded data removed]",
      "text/plain": [
       "<Figure size 432x288 with 1 Axes>"
      ]
     },
     "metadata": {},
     "output_type": "display_data"
    }
   ],
   "source": [
    "import matplotlib.pyplot as plt\n",
    "plt.plot(t, sol[:, 0], 'b', label='a(t)')\n",
    "plt.legend(loc='best')\n",
    "plt.xlabel('t')\n",
    "plt.grid()\n",
    "plt.show()"
   ]
  },
  {
   "cell_type": "code",
   "execution_count": 3,
   "metadata": {},
   "outputs": [],
   "source": [
    "#for particle type 1 (high resolution) only\n",
    "path=cwd+'Sim_50/'\n",
    "snaps,slnums,sl=grp.get_snapshot_info(path)\n",
    "bchoice=100\n",
    "xmin=0\n",
    "xmax=100\n",
    "ymin=0\n",
    "ymax=100\n",
    "zmin=0\n",
    "zmax=100\n",
    "\n",
    "si=4\n",
    "rho,xc,yc,zc=grp.rho_of_snap_P1(path,slnums,snaps[si],xmin,xmax,ymin,ymax,zmin,zmax,bchoice)\n",
    "redz,time=grp.get_z_t(path,snaps[si])"
   ]
  },
  {
   "cell_type": "code",
   "execution_count": 4,
   "metadata": {},
   "outputs": [
    {
     "data": {
      "text/plain": [
       "5.407171022730776"
      ]
     },
     "execution_count": 4,
     "metadata": {},
     "output_type": "execute_result"
    }
   ],
   "source": [
    "redz"
   ]
  },
  {
   "cell_type": "code",
   "execution_count": 18,
   "metadata": {},
   "outputs": [
    {
     "data": {
      "text/plain": [
       "0.15607512214865052"
      ]
     },
     "execution_count": 18,
     "metadata": {},
     "output_type": "execute_result"
    }
   ],
   "source": [
    "time"
   ]
  },
  {
   "cell_type": "code",
   "execution_count": 19,
   "metadata": {},
   "outputs": [
    {
     "data": {
      "text/plain": [
       "5.407171022730776"
      ]
     },
     "execution_count": 19,
     "metadata": {},
     "output_type": "execute_result"
    }
   ],
   "source": [
    "time**(-1)-1"
   ]
  },
  {
   "cell_type": "code",
   "execution_count": 10,
   "metadata": {},
   "outputs": [
    {
     "data": {
      "text/plain": [
       "(-1.8916984778438436e-06+2.7064065825613713e-22j)"
      ]
     },
     "execution_count": 10,
     "metadata": {},
     "output_type": "execute_result"
    }
   ],
   "source": [
    "rhok = ifftn(rho*4.78e-10*(1+redz)**3)\n",
    "phix = fftn(rhokoverkm2(rhok))\n",
    "dx=1\n",
    "posx,posy,posz=46,46,46\n",
    "-1/dx*(4*np.pi*(phix[posx+1,posy,posz]-phix[posx,posy,posz]))"
   ]
  },
  {
   "cell_type": "code",
   "execution_count": 12,
   "metadata": {},
   "outputs": [
    {
     "data": {
      "text/plain": [
       "array([-1.70356243e-06, -3.29714639e-06, -1.24291544e-06])"
      ]
     },
     "execution_count": 12,
     "metadata": {},
     "output_type": "execute_result"
    }
   ],
   "source": [
    "np.real(Fg(rho,redz,46,46,46,1,1,1))"
   ]
  },
  {
   "cell_type": "code",
   "execution_count": 15,
   "metadata": {},
   "outputs": [
    {
     "data": {
      "text/plain": [
       "array([-1.70356243e-06, -3.29714639e-06, -1.24291544e-06])"
      ]
     },
     "execution_count": 15,
     "metadata": {},
     "output_type": "execute_result"
    }
   ],
   "source": [
    "np.real(Fgk2(rho,redz,46,46,46,1,1,1))"
   ]
  },
  {
   "cell_type": "code",
   "execution_count": 16,
   "metadata": {},
   "outputs": [
    {
     "data": {
      "text/plain": [
       "array([-1.73856330e-06, -3.25735343e-06, -1.26307085e-06])"
      ]
     },
     "execution_count": 16,
     "metadata": {},
     "output_type": "execute_result"
    }
   ],
   "source": [
    "np.real(Fg(rho,redz,46,46,46,1,1,1))"
   ]
  },
  {
   "cell_type": "code",
   "execution_count": null,
   "metadata": {},
   "outputs": [],
   "source": [
    "v=np.asarray([0.00006,0.00006,0.00006])*(1+redz)\n",
    "p=np.asarray([xc[46],yc[46],zc[46]])\n",
    "timestep()"
   ]
  },
  {
   "cell_type": "code",
   "execution_count": 107,
   "metadata": {},
   "outputs": [
    {
     "name": "stderr",
     "output_type": "stream",
     "text": [
      "/usr/lib/python3/dist-packages/ipykernel_launcher.py:25: RuntimeWarning: divide by zero encountered in cdouble_scalars\n"
     ]
    }
   ],
   "source": [
    "rrkm2=rhokoverkm2(f)"
   ]
  },
  {
   "cell_type": "code",
   "execution_count": 109,
   "metadata": {},
   "outputs": [
    {
     "data": {
      "text/plain": [
       "(0.005090702238112257+0.04789129701431525j)"
      ]
     },
     "execution_count": 109,
     "metadata": {},
     "output_type": "execute_result"
    }
   ],
   "source": [
    "rrkm2[99,99,99]"
   ]
  },
  {
   "cell_type": "code",
   "execution_count": 79,
   "metadata": {},
   "outputs": [],
   "source": [
    "f=ifftn(rho)"
   ]
  },
  {
   "cell_type": "code",
   "execution_count": 90,
   "metadata": {},
   "outputs": [
    {
     "data": {
      "text/plain": [
       "(-0.0005490278110105579-0.00011816274611515891j)"
      ]
     },
     "execution_count": 90,
     "metadata": {},
     "output_type": "execute_result"
    }
   ],
   "source": [
    "f[2,2,2]"
   ]
  },
  {
   "cell_type": "code",
   "execution_count": 42,
   "metadata": {},
   "outputs": [],
   "source": [
    "rrkm2"
   ]
  },
  {
   "cell_type": "code",
   "execution_count": null,
   "metadata": {},
   "outputs": [],
   "source": []
  },
  {
   "cell_type": "code",
   "execution_count": 13,
   "metadata": {},
   "outputs": [
    {
     "data": {
      "text/plain": [
       "'000'"
      ]
     },
     "execution_count": 13,
     "metadata": {},
     "output_type": "execute_result"
    }
   ],
   "source": [
    "snaps[0]"
   ]
  },
  {
   "cell_type": "code",
   "execution_count": 68,
   "metadata": {},
   "outputs": [
    {
     "data": {
      "text/plain": [
       "4.5588036419358104"
      ]
     },
     "execution_count": 68,
     "metadata": {},
     "output_type": "execute_result"
    }
   ],
   "source": [
    "rho[44,38,45]"
   ]
  },
  {
   "cell_type": "code",
   "execution_count": 21,
   "metadata": {},
   "outputs": [],
   "source": [
    "f=fftn(rho)"
   ]
  },
  {
   "cell_type": "code",
   "execution_count": 69,
   "metadata": {},
   "outputs": [
    {
     "data": {
      "text/plain": [
       "(-6.095620424464798+6.631200844247721j)"
      ]
     },
     "execution_count": 69,
     "metadata": {},
     "output_type": "execute_result"
    }
   ],
   "source": [
    "f[44,38,45]"
   ]
  },
  {
   "cell_type": "code",
   "execution_count": 20,
   "metadata": {},
   "outputs": [
    {
     "data": {
      "text/plain": [
       "(4.5588036419358104+1.482043346169039e-16j)"
      ]
     },
     "execution_count": 20,
     "metadata": {},
     "output_type": "execute_result"
    }
   ],
   "source": [
    "ifftn(f)[44,38,45]"
   ]
  },
  {
   "cell_type": "code",
   "execution_count": 4,
   "metadata": {},
   "outputs": [
    {
     "name": "stdout",
     "output_type": "stream",
     "text": [
      "getting particles for snapshot 000.\n",
      "took 4.892401 seconds.\n",
      "getting rho for 000.\n",
      "took 0.154675 seconds.\n",
      "storing rho to file called \"rho_100b_100vsn_0100/rhoP1_100_000.txt\"\n",
      "took 0.551288 seconds.\n",
      "getting particles for snapshot 001.\n",
      "took 5.254925 seconds.\n",
      "getting rho for 001.\n",
      "took 0.147768 seconds.\n",
      "storing rho to file called \"rho_100b_100vsn_0100/rhoP1_100_001.txt\"\n",
      "took 0.589717 seconds.\n",
      "getting particles for snapshot 002.\n",
      "took 4.466956 seconds.\n",
      "getting rho for 002.\n",
      "took 0.13841 seconds.\n",
      "storing rho to file called \"rho_100b_100vsn_0100/rhoP1_100_002.txt\"\n",
      "took 0.566714 seconds.\n",
      "getting particles for snapshot 003.\n",
      "took 4.322358 seconds.\n",
      "getting rho for 003.\n",
      "took 0.153711 seconds.\n",
      "storing rho to file called \"rho_100b_100vsn_0100/rhoP1_100_003.txt\"\n",
      "took 0.570251 seconds.\n",
      "getting particles for snapshot 004.\n",
      "took 3.953316 seconds.\n",
      "getting rho for 004.\n",
      "took 0.147856 seconds.\n",
      "storing rho to file called \"rho_100b_100vsn_0100/rhoP1_100_004.txt\"\n",
      "took 0.570319 seconds.\n",
      "getting particles for snapshot 005.\n",
      "took 3.931934 seconds.\n",
      "getting rho for 005.\n",
      "took 0.22824 seconds.\n",
      "storing rho to file called \"rho_100b_100vsn_0100/rhoP1_100_005.txt\"\n",
      "took 0.582889 seconds.\n",
      "getting particles for snapshot 006.\n",
      "took 4.069854 seconds.\n",
      "getting rho for 006.\n",
      "took 0.155739 seconds.\n",
      "storing rho to file called \"rho_100b_100vsn_0100/rhoP1_100_006.txt\"\n",
      "took 0.590617 seconds.\n",
      "getting particles for snapshot 007.\n",
      "took 4.371207 seconds.\n",
      "getting rho for 007.\n",
      "took 0.170623 seconds.\n",
      "storing rho to file called \"rho_100b_100vsn_0100/rhoP1_100_007.txt\"\n",
      "took 0.659251 seconds.\n",
      "getting particles for snapshot 008.\n",
      "took 4.152087 seconds.\n",
      "getting rho for 008.\n",
      "took 0.154501 seconds.\n",
      "storing rho to file called \"rho_100b_100vsn_0100/rhoP1_100_008.txt\"\n",
      "took 0.625014 seconds.\n",
      "getting particles for snapshot 009.\n",
      "took 3.929779 seconds.\n",
      "getting rho for 009.\n",
      "took 0.14602 seconds.\n",
      "storing rho to file called \"rho_100b_100vsn_0100/rhoP1_100_009.txt\"\n",
      "took 0.569149 seconds.\n",
      "getting particles for snapshot 010.\n",
      "took 4.064438 seconds.\n",
      "getting rho for 010.\n",
      "took 0.155701 seconds.\n",
      "storing rho to file called \"rho_100b_100vsn_0100/rhoP1_100_010.txt\"\n",
      "took 0.584712 seconds.\n",
      "getting particles for snapshot 011.\n",
      "took 4.525778 seconds.\n",
      "getting rho for 011.\n",
      "took 0.1738 seconds.\n",
      "storing rho to file called \"rho_100b_100vsn_0100/rhoP1_100_011.txt\"\n",
      "took 0.636335 seconds.\n",
      "getting particles for snapshot 012.\n",
      "took 4.862475 seconds.\n",
      "getting rho for 012.\n",
      "took 0.180167 seconds.\n",
      "storing rho to file called \"rho_100b_100vsn_0100/rhoP1_100_012.txt\"\n",
      "took 0.687664 seconds.\n",
      "getting particles for snapshot 013.\n",
      "took 4.327255 seconds.\n",
      "getting rho for 013.\n",
      "took 0.160376 seconds.\n",
      "storing rho to file called \"rho_100b_100vsn_0100/rhoP1_100_013.txt\"\n",
      "took 0.565019 seconds.\n",
      "getting particles for snapshot 014.\n",
      "took 4.092601 seconds.\n",
      "getting rho for 014.\n",
      "took 0.164755 seconds.\n",
      "storing rho to file called \"rho_100b_100vsn_0100/rhoP1_100_014.txt\"\n",
      "took 0.618332 seconds.\n",
      "getting particles for snapshot 015.\n",
      "took 4.006303 seconds.\n",
      "getting rho for 015.\n",
      "took 0.14117 seconds.\n",
      "storing rho to file called \"rho_100b_100vsn_0100/rhoP1_100_015.txt\"\n",
      "took 0.616417 seconds.\n",
      "getting particles for snapshot 016.\n",
      "took 4.026353 seconds.\n",
      "getting rho for 016.\n",
      "took 0.15535 seconds.\n",
      "storing rho to file called \"rho_100b_100vsn_0100/rhoP1_100_016.txt\"\n",
      "took 0.600336 seconds.\n",
      "getting particles for snapshot 017.\n",
      "took 4.319288 seconds.\n",
      "getting rho for 017.\n",
      "took 0.170596 seconds.\n",
      "storing rho to file called \"rho_100b_100vsn_0100/rhoP1_100_017.txt\"\n",
      "took 0.589571 seconds.\n",
      "getting particles for snapshot 018.\n",
      "took 4.033178 seconds.\n",
      "getting rho for 018.\n",
      "took 0.153951 seconds.\n",
      "storing rho to file called \"rho_100b_100vsn_0100/rhoP1_100_018.txt\"\n",
      "took 0.60635 seconds.\n",
      "getting particles for snapshot 019.\n",
      "took 4.097137 seconds.\n",
      "getting rho for 019.\n",
      "took 0.15772 seconds.\n",
      "storing rho to file called \"rho_100b_100vsn_0100/rhoP1_100_019.txt\"\n",
      "took 0.609633 seconds.\n",
      "getting particles for snapshot 020.\n",
      "took 4.104183 seconds.\n",
      "getting rho for 020.\n",
      "took 0.153118 seconds.\n",
      "storing rho to file called \"rho_100b_100vsn_0100/rhoP1_100_020.txt\"\n",
      "took 0.562504 seconds.\n",
      "getting particles for snapshot 021.\n",
      "took 4.103311 seconds.\n",
      "getting rho for 021.\n",
      "took 0.162187 seconds.\n",
      "storing rho to file called \"rho_100b_100vsn_0100/rhoP1_100_021.txt\"\n",
      "took 0.558117 seconds.\n",
      "getting particles for snapshot 022.\n",
      "took 4.125038 seconds.\n",
      "getting rho for 022.\n",
      "took 0.149199 seconds.\n",
      "storing rho to file called \"rho_100b_100vsn_0100/rhoP1_100_022.txt\"\n",
      "took 0.732983 seconds.\n",
      "getting particles for snapshot 023.\n",
      "took 4.875081 seconds.\n",
      "getting rho for 023.\n",
      "took 0.153713 seconds.\n",
      "storing rho to file called \"rho_100b_100vsn_0100/rhoP1_100_023.txt\"\n",
      "took 0.60296 seconds.\n",
      "getting particles for snapshot 024.\n",
      "took 4.484186 seconds.\n",
      "getting rho for 024.\n",
      "took 0.178829 seconds.\n",
      "storing rho to file called \"rho_100b_100vsn_0100/rhoP1_100_024.txt\"\n",
      "took 0.669561 seconds.\n",
      "getting particles for snapshot 025.\n",
      "took 4.765879 seconds.\n",
      "getting rho for 025.\n",
      "took 0.222635 seconds.\n",
      "storing rho to file called \"rho_100b_100vsn_0100/rhoP1_100_025.txt\"\n",
      "took 0.649595 seconds.\n",
      "getting particles for snapshot 026.\n",
      "took 4.773208 seconds.\n",
      "getting rho for 026.\n",
      "took 0.150541 seconds.\n",
      "storing rho to file called \"rho_100b_100vsn_0100/rhoP1_100_026.txt\"\n",
      "took 0.640415 seconds.\n",
      "getting particles for snapshot 027.\n",
      "took 4.62331 seconds.\n",
      "getting rho for 027.\n",
      "took 0.149629 seconds.\n",
      "storing rho to file called \"rho_100b_100vsn_0100/rhoP1_100_027.txt\"\n",
      "took 0.712354 seconds.\n",
      "getting particles for snapshot 028.\n",
      "took 4.828802 seconds.\n",
      "getting rho for 028.\n",
      "took 0.145641 seconds.\n",
      "storing rho to file called \"rho_100b_100vsn_0100/rhoP1_100_028.txt\"\n",
      "took 0.594166 seconds.\n",
      "getting particles for snapshot 029.\n",
      "took 4.588074 seconds.\n",
      "getting rho for 029.\n",
      "took 0.151844 seconds.\n",
      "storing rho to file called \"rho_100b_100vsn_0100/rhoP1_100_029.txt\"\n",
      "took 0.621147 seconds.\n",
      "getting particles for snapshot 030.\n",
      "took 4.448551 seconds.\n",
      "getting rho for 030.\n",
      "took 0.14393 seconds.\n",
      "storing rho to file called \"rho_100b_100vsn_0100/rhoP1_100_030.txt\"\n",
      "took 0.600018 seconds.\n",
      "getting particles for snapshot 031.\n",
      "took 4.114209 seconds.\n",
      "getting rho for 031.\n",
      "took 0.151854 seconds.\n",
      "storing rho to file called \"rho_100b_100vsn_0100/rhoP1_100_031.txt\"\n",
      "took 0.657648 seconds.\n",
      "getting particles for snapshot 032.\n",
      "took 4.305221 seconds.\n",
      "getting rho for 032.\n",
      "took 0.172502 seconds.\n",
      "storing rho to file called \"rho_100b_100vsn_0100/rhoP1_100_032.txt\"\n",
      "took 0.643156 seconds.\n",
      "getting particles for snapshot 033.\n",
      "took 3.992773 seconds.\n",
      "getting rho for 033.\n",
      "took 0.153178 seconds.\n",
      "storing rho to file called \"rho_100b_100vsn_0100/rhoP1_100_033.txt\"\n",
      "took 0.591234 seconds.\n",
      "getting particles for snapshot 034.\n",
      "took 4.124888 seconds.\n",
      "getting rho for 034.\n",
      "took 0.14572 seconds.\n",
      "storing rho to file called \"rho_100b_100vsn_0100/rhoP1_100_034.txt\"\n",
      "took 0.626939 seconds.\n",
      "getting particles for snapshot 035.\n",
      "took 4.110385 seconds.\n",
      "getting rho for 035.\n",
      "took 0.160669 seconds.\n",
      "storing rho to file called \"rho_100b_100vsn_0100/rhoP1_100_035.txt\"\n",
      "took 0.642048 seconds.\n",
      "getting particles for snapshot 036.\n",
      "took 4.422383 seconds.\n",
      "getting rho for 036.\n",
      "took 0.207609 seconds.\n",
      "storing rho to file called \"rho_100b_100vsn_0100/rhoP1_100_036.txt\"\n",
      "took 0.7783 seconds.\n",
      "getting particles for snapshot 037.\n",
      "took 4.943607 seconds.\n",
      "getting rho for 037.\n",
      "took 0.215737 seconds.\n",
      "storing rho to file called \"rho_100b_100vsn_0100/rhoP1_100_037.txt\"\n",
      "took 0.911403 seconds.\n",
      "getting particles for snapshot 038.\n",
      "took 4.325505 seconds.\n",
      "getting rho for 038.\n",
      "took 0.19495 seconds.\n",
      "storing rho to file called \"rho_100b_100vsn_0100/rhoP1_100_038.txt\"\n",
      "took 0.564839 seconds.\n",
      "getting particles for snapshot 039.\n",
      "took 4.23246 seconds.\n",
      "getting rho for 039.\n",
      "took 0.16173 seconds.\n",
      "storing rho to file called \"rho_100b_100vsn_0100/rhoP1_100_039.txt\"\n",
      "took 0.638192 seconds.\n",
      "getting particles for snapshot 040.\n",
      "took 4.562884 seconds.\n",
      "getting rho for 040.\n",
      "took 0.184114 seconds.\n",
      "storing rho to file called \"rho_100b_100vsn_0100/rhoP1_100_040.txt\"\n",
      "took 0.783369 seconds.\n",
      "getting particles for snapshot 041.\n",
      "took 4.697987 seconds.\n",
      "getting rho for 041.\n",
      "took 0.17231 seconds.\n",
      "storing rho to file called \"rho_100b_100vsn_0100/rhoP1_100_041.txt\"\n",
      "took 0.60305 seconds.\n",
      "getting particles for snapshot 042.\n",
      "took 4.309977 seconds.\n",
      "getting rho for 042.\n",
      "took 0.163246 seconds.\n",
      "storing rho to file called \"rho_100b_100vsn_0100/rhoP1_100_042.txt\"\n"
     ]
    },
    {
     "name": "stdout",
     "output_type": "stream",
     "text": [
      "took 0.786724 seconds.\n",
      "getting particles for snapshot 043.\n",
      "took 4.47052 seconds.\n",
      "getting rho for 043.\n",
      "took 0.159219 seconds.\n",
      "storing rho to file called \"rho_100b_100vsn_0100/rhoP1_100_043.txt\"\n",
      "took 0.85639 seconds.\n",
      "getting particles for snapshot 044.\n",
      "took 4.944117 seconds.\n",
      "getting rho for 044.\n",
      "took 0.223344 seconds.\n",
      "storing rho to file called \"rho_100b_100vsn_0100/rhoP1_100_044.txt\"\n",
      "took 0.714345 seconds.\n",
      "getting particles for snapshot 045.\n",
      "took 4.773221 seconds.\n",
      "getting rho for 045.\n",
      "took 0.19702 seconds.\n",
      "storing rho to file called \"rho_100b_100vsn_0100/rhoP1_100_045.txt\"\n",
      "took 0.615821 seconds.\n",
      "getting particles for snapshot 046.\n",
      "took 4.789366 seconds.\n",
      "getting rho for 046.\n",
      "took 0.150854 seconds.\n",
      "storing rho to file called \"rho_100b_100vsn_0100/rhoP1_100_046.txt\"\n",
      "took 0.644342 seconds.\n",
      "getting particles for snapshot 047.\n",
      "took 4.809283 seconds.\n",
      "getting rho for 047.\n",
      "took 0.160406 seconds.\n",
      "storing rho to file called \"rho_100b_100vsn_0100/rhoP1_100_047.txt\"\n",
      "took 0.624229 seconds.\n",
      "getting particles for snapshot 048.\n",
      "took 4.186499 seconds.\n",
      "getting rho for 048.\n",
      "took 0.145882 seconds.\n",
      "storing rho to file called \"rho_100b_100vsn_0100/rhoP1_100_048.txt\"\n",
      "took 0.593762 seconds.\n",
      "getting particles for snapshot 049.\n",
      "took 4.510737 seconds.\n",
      "getting rho for 049.\n",
      "took 0.148867 seconds.\n",
      "storing rho to file called \"rho_100b_100vsn_0100/rhoP1_100_049.txt\"\n",
      "took 0.604649 seconds.\n",
      "getting particles for snapshot 050.\n",
      "took 4.697258 seconds.\n",
      "getting rho for 050.\n",
      "took 0.186569 seconds.\n",
      "storing rho to file called \"rho_100b_100vsn_0100/rhoP1_100_050.txt\"\n",
      "took 0.587576 seconds.\n",
      "getting particles for snapshot 051.\n",
      "took 4.946117 seconds.\n",
      "getting rho for 051.\n",
      "took 0.186868 seconds.\n",
      "storing rho to file called \"rho_100b_100vsn_0100/rhoP1_100_051.txt\"\n",
      "took 0.854522 seconds.\n",
      "getting particles for snapshot 052.\n",
      "took 4.733203 seconds.\n",
      "getting rho for 052.\n",
      "took 0.18443 seconds.\n",
      "storing rho to file called \"rho_100b_100vsn_0100/rhoP1_100_052.txt\"\n",
      "took 0.825038 seconds.\n",
      "getting particles for snapshot 053.\n",
      "took 4.413378 seconds.\n",
      "getting rho for 053.\n",
      "took 0.320597 seconds.\n",
      "storing rho to file called \"rho_100b_100vsn_0100/rhoP1_100_053.txt\"\n",
      "took 0.615259 seconds.\n",
      "getting particles for snapshot 054.\n",
      "took 4.566682 seconds.\n",
      "getting rho for 054.\n",
      "took 0.16528 seconds.\n",
      "storing rho to file called \"rho_100b_100vsn_0100/rhoP1_100_054.txt\"\n",
      "took 0.863589 seconds.\n",
      "getting particles for snapshot 055.\n",
      "took 4.244196 seconds.\n",
      "getting rho for 055.\n",
      "took 0.2428 seconds.\n",
      "storing rho to file called \"rho_100b_100vsn_0100/rhoP1_100_055.txt\"\n",
      "took 0.617304 seconds.\n",
      "getting particles for snapshot 056.\n",
      "took 5.140269 seconds.\n",
      "getting rho for 056.\n",
      "took 0.256513 seconds.\n",
      "storing rho to file called \"rho_100b_100vsn_0100/rhoP1_100_056.txt\"\n",
      "took 0.597708 seconds.\n",
      "getting particles for snapshot 057.\n",
      "took 5.170669 seconds.\n",
      "getting rho for 057.\n",
      "took 0.163498 seconds.\n",
      "storing rho to file called \"rho_100b_100vsn_0100/rhoP1_100_057.txt\"\n",
      "took 0.747968 seconds.\n",
      "getting particles for snapshot 058.\n",
      "took 4.010948 seconds.\n",
      "getting rho for 058.\n",
      "took 0.192876 seconds.\n",
      "storing rho to file called \"rho_100b_100vsn_0100/rhoP1_100_058.txt\"\n",
      "took 0.814203 seconds.\n",
      "getting particles for snapshot 059.\n",
      "took 4.564274 seconds.\n",
      "getting rho for 059.\n",
      "took 0.193675 seconds.\n",
      "storing rho to file called \"rho_100b_100vsn_0100/rhoP1_100_059.txt\"\n",
      "took 0.650461 seconds.\n",
      "getting particles for snapshot 060.\n",
      "took 4.451588 seconds.\n",
      "getting rho for 060.\n",
      "took 0.157631 seconds.\n",
      "storing rho to file called \"rho_100b_100vsn_0100/rhoP1_100_060.txt\"\n",
      "took 0.69449 seconds.\n",
      "getting particles for snapshot 061.\n",
      "took 4.166036 seconds.\n",
      "getting rho for 061.\n",
      "took 0.145497 seconds.\n",
      "storing rho to file called \"rho_100b_100vsn_0100/rhoP1_100_061.txt\"\n",
      "took 0.543592 seconds.\n",
      "getting particles for snapshot 062.\n",
      "took 4.238081 seconds.\n",
      "getting rho for 062.\n",
      "took 0.153998 seconds.\n",
      "storing rho to file called \"rho_100b_100vsn_0100/rhoP1_100_062.txt\"\n",
      "took 0.751692 seconds.\n",
      "getting particles for snapshot 063.\n",
      "took 4.438264 seconds.\n",
      "getting rho for 063.\n",
      "took 0.208268 seconds.\n",
      "storing rho to file called \"rho_100b_100vsn_0100/rhoP1_100_063.txt\"\n",
      "took 0.599277 seconds.\n",
      "getting particles for snapshot 064.\n",
      "took 4.105281 seconds.\n",
      "getting rho for 064.\n",
      "took 0.140235 seconds.\n",
      "storing rho to file called \"rho_100b_100vsn_0100/rhoP1_100_064.txt\"\n",
      "took 0.594798 seconds.\n",
      "getting particles for snapshot 065.\n",
      "took 4.153789 seconds.\n",
      "getting rho for 065.\n",
      "took 0.171966 seconds.\n",
      "storing rho to file called \"rho_100b_100vsn_0100/rhoP1_100_065.txt\"\n",
      "took 1.0227 seconds.\n",
      "getting particles for snapshot 066.\n",
      "took 4.808468 seconds.\n",
      "getting rho for 066.\n",
      "took 0.197586 seconds.\n",
      "storing rho to file called \"rho_100b_100vsn_0100/rhoP1_100_066.txt\"\n",
      "took 0.617164 seconds.\n",
      "getting particles for snapshot 067.\n",
      "took 4.147676 seconds.\n",
      "getting rho for 067.\n",
      "took 0.178212 seconds.\n",
      "storing rho to file called \"rho_100b_100vsn_0100/rhoP1_100_067.txt\"\n",
      "took 0.674106 seconds.\n",
      "getting particles for snapshot 068.\n",
      "took 4.270766 seconds.\n",
      "getting rho for 068.\n",
      "took 0.189114 seconds.\n",
      "storing rho to file called \"rho_100b_100vsn_0100/rhoP1_100_068.txt\"\n",
      "took 0.725329 seconds.\n",
      "getting particles for snapshot 069.\n",
      "took 4.569839 seconds.\n",
      "getting rho for 069.\n",
      "took 0.263768 seconds.\n",
      "storing rho to file called \"rho_100b_100vsn_0100/rhoP1_100_069.txt\"\n",
      "took 0.653676 seconds.\n",
      "getting particles for snapshot 070.\n",
      "took 3.90852 seconds.\n",
      "getting rho for 070.\n",
      "took 0.190879 seconds.\n",
      "storing rho to file called \"rho_100b_100vsn_0100/rhoP1_100_070.txt\"\n",
      "took 0.758493 seconds.\n",
      "getting particles for snapshot 071.\n",
      "took 5.186668 seconds.\n",
      "getting rho for 071.\n",
      "took 0.185024 seconds.\n",
      "storing rho to file called \"rho_100b_100vsn_0100/rhoP1_100_071.txt\"\n",
      "took 0.582354 seconds.\n",
      "getting particles for snapshot 072.\n",
      "took 4.397238 seconds.\n",
      "getting rho for 072.\n",
      "took 0.211612 seconds.\n",
      "storing rho to file called \"rho_100b_100vsn_0100/rhoP1_100_072.txt\"\n",
      "took 0.854508 seconds.\n",
      "getting particles for snapshot 073.\n",
      "took 4.740439 seconds.\n",
      "getting rho for 073.\n",
      "took 0.227187 seconds.\n",
      "storing rho to file called \"rho_100b_100vsn_0100/rhoP1_100_073.txt\"\n",
      "took 0.56695 seconds.\n",
      "getting particles for snapshot 074.\n",
      "took 4.209192 seconds.\n",
      "getting rho for 074.\n",
      "took 0.180243 seconds.\n",
      "storing rho to file called \"rho_100b_100vsn_0100/rhoP1_100_074.txt\"\n",
      "took 0.822627 seconds.\n",
      "getting particles for snapshot 075.\n",
      "took 4.511214 seconds.\n",
      "getting rho for 075.\n",
      "took 0.221169 seconds.\n",
      "storing rho to file called \"rho_100b_100vsn_0100/rhoP1_100_075.txt\"\n",
      "took 0.692472 seconds.\n",
      "getting particles for snapshot 076.\n",
      "took 4.561335 seconds.\n",
      "getting rho for 076.\n",
      "took 0.217712 seconds.\n",
      "storing rho to file called \"rho_100b_100vsn_0100/rhoP1_100_076.txt\"\n",
      "took 0.771911 seconds.\n",
      "getting particles for snapshot 077.\n",
      "took 4.603396 seconds.\n",
      "getting rho for 077.\n",
      "took 0.169296 seconds.\n",
      "storing rho to file called \"rho_100b_100vsn_0100/rhoP1_100_077.txt\"\n",
      "took 0.641285 seconds.\n",
      "getting particles for snapshot 078.\n",
      "took 4.801604 seconds.\n",
      "getting rho for 078.\n",
      "took 0.245007 seconds.\n",
      "storing rho to file called \"rho_100b_100vsn_0100/rhoP1_100_078.txt\"\n",
      "took 0.672651 seconds.\n",
      "getting particles for snapshot 079.\n",
      "took 4.545218 seconds.\n",
      "getting rho for 079.\n",
      "took 0.148822 seconds.\n",
      "storing rho to file called \"rho_100b_100vsn_0100/rhoP1_100_079.txt\"\n",
      "took 0.710583 seconds.\n",
      "getting particles for snapshot 080.\n",
      "took 4.987085 seconds.\n",
      "getting rho for 080.\n",
      "took 0.169662 seconds.\n",
      "storing rho to file called \"rho_100b_100vsn_0100/rhoP1_100_080.txt\"\n",
      "took 0.601599 seconds.\n",
      "getting particles for snapshot 081.\n",
      "took 5.078219 seconds.\n",
      "getting rho for 081.\n",
      "took 0.210395 seconds.\n",
      "storing rho to file called \"rho_100b_100vsn_0100/rhoP1_100_081.txt\"\n",
      "took 0.690142 seconds.\n",
      "getting particles for snapshot 082.\n",
      "took 4.270699 seconds.\n",
      "getting rho for 082.\n",
      "took 0.16692 seconds.\n",
      "storing rho to file called \"rho_100b_100vsn_0100/rhoP1_100_082.txt\"\n",
      "took 0.833856 seconds.\n",
      "getting particles for snapshot 083.\n",
      "took 4.848077 seconds.\n",
      "getting rho for 083.\n",
      "took 0.273009 seconds.\n",
      "storing rho to file called \"rho_100b_100vsn_0100/rhoP1_100_083.txt\"\n",
      "took 0.61403 seconds.\n",
      "getting particles for snapshot 084.\n",
      "took 4.941035 seconds.\n",
      "getting rho for 084.\n",
      "took 0.198182 seconds.\n",
      "storing rho to file called \"rho_100b_100vsn_0100/rhoP1_100_084.txt\"\n",
      "took 0.679338 seconds.\n",
      "getting particles for snapshot 085.\n"
     ]
    },
    {
     "name": "stdout",
     "output_type": "stream",
     "text": [
      "took 4.712918 seconds.\n",
      "getting rho for 085.\n",
      "took 0.167607 seconds.\n",
      "storing rho to file called \"rho_100b_100vsn_0100/rhoP1_100_085.txt\"\n",
      "took 0.649452 seconds.\n",
      "getting particles for snapshot 086.\n",
      "took 4.355362 seconds.\n",
      "getting rho for 086.\n",
      "took 0.156223 seconds.\n",
      "storing rho to file called \"rho_100b_100vsn_0100/rhoP1_100_086.txt\"\n",
      "took 0.585019 seconds.\n",
      "getting particles for snapshot 087.\n",
      "took 3.994294 seconds.\n",
      "getting rho for 087.\n",
      "took 0.172044 seconds.\n",
      "storing rho to file called \"rho_100b_100vsn_0100/rhoP1_100_087.txt\"\n",
      "took 0.617718 seconds.\n",
      "getting particles for snapshot 088.\n",
      "took 4.626675 seconds.\n",
      "getting rho for 088.\n",
      "took 0.146769 seconds.\n",
      "storing rho to file called \"rho_100b_100vsn_0100/rhoP1_100_088.txt\"\n",
      "took 0.601757 seconds.\n",
      "getting particles for snapshot 089.\n",
      "took 5.163409 seconds.\n",
      "getting rho for 089.\n",
      "took 0.151116 seconds.\n",
      "storing rho to file called \"rho_100b_100vsn_0100/rhoP1_100_089.txt\"\n",
      "took 0.60589 seconds.\n",
      "getting particles for snapshot 090.\n",
      "took 4.089779 seconds.\n",
      "getting rho for 090.\n",
      "took 0.241121 seconds.\n",
      "storing rho to file called \"rho_100b_100vsn_0100/rhoP1_100_090.txt\"\n",
      "took 0.742424 seconds.\n",
      "getting particles for snapshot 091.\n",
      "took 4.508272 seconds.\n",
      "getting rho for 091.\n",
      "took 0.151492 seconds.\n",
      "storing rho to file called \"rho_100b_100vsn_0100/rhoP1_100_091.txt\"\n",
      "took 0.55459 seconds.\n",
      "getting particles for snapshot 092.\n",
      "took 4.573698 seconds.\n",
      "getting rho for 092.\n",
      "took 0.182783 seconds.\n",
      "storing rho to file called \"rho_100b_100vsn_0100/rhoP1_100_092.txt\"\n",
      "took 0.61641 seconds.\n",
      "getting particles for snapshot 093.\n",
      "took 5.172913 seconds.\n",
      "getting rho for 093.\n",
      "took 0.342824 seconds.\n",
      "storing rho to file called \"rho_100b_100vsn_0100/rhoP1_100_093.txt\"\n",
      "took 0.614071 seconds.\n",
      "getting particles for snapshot 094.\n",
      "took 4.55031 seconds.\n",
      "getting rho for 094.\n",
      "took 0.145101 seconds.\n",
      "storing rho to file called \"rho_100b_100vsn_0100/rhoP1_100_094.txt\"\n",
      "took 0.621221 seconds.\n",
      "getting particles for snapshot 095.\n",
      "took 4.60609 seconds.\n",
      "getting rho for 095.\n",
      "took 0.147981 seconds.\n",
      "storing rho to file called \"rho_100b_100vsn_0100/rhoP1_100_095.txt\"\n",
      "took 0.590879 seconds.\n",
      "getting particles for snapshot 096.\n",
      "took 4.605768 seconds.\n",
      "getting rho for 096.\n",
      "took 0.171006 seconds.\n",
      "storing rho to file called \"rho_100b_100vsn_0100/rhoP1_100_096.txt\"\n",
      "took 0.699437 seconds.\n",
      "getting particles for snapshot 097.\n",
      "took 4.824564 seconds.\n",
      "getting rho for 097.\n",
      "took 0.147215 seconds.\n",
      "storing rho to file called \"rho_100b_100vsn_0100/rhoP1_100_097.txt\"\n",
      "took 0.681422 seconds.\n",
      "getting particles for snapshot 098.\n",
      "took 4.626809 seconds.\n",
      "getting rho for 098.\n",
      "took 0.162442 seconds.\n",
      "storing rho to file called \"rho_100b_100vsn_0100/rhoP1_100_098.txt\"\n",
      "took 0.615104 seconds.\n",
      "getting particles for snapshot 099.\n",
      "took 4.493091 seconds.\n",
      "getting rho for 099.\n",
      "took 0.13939 seconds.\n",
      "storing rho to file called \"rho_100b_100vsn_0100/rhoP1_100_099.txt\"\n",
      "took 0.755347 seconds.\n",
      "getting particles for snapshot 100.\n",
      "took 4.349613 seconds.\n",
      "getting rho for 100.\n",
      "took 0.185666 seconds.\n",
      "storing rho to file called \"rho_100b_100vsn_0100/rhoP1_100_100.txt\"\n",
      "took 0.654697 seconds.\n",
      "Full process took 8.959266549999999 minutes.\n"
     ]
    }
   ],
   "source": [
    "#for particle type 1 (high resolution) only\n",
    "path=cwd+'Sim_100v/'\n",
    "snaps,slnums,sl=grp.get_snapshot_info(path)\n",
    "bchoice=100\n",
    "xmin=0\n",
    "xmax=100\n",
    "ymin=0\n",
    "ymax=100\n",
    "zmin=0\n",
    "zmax=100\n",
    "#s=100.0\n",
    "\n",
    "for i in range(len(snaps)):\n",
    "    print('getting particles for snapshot '+snaps[i]+'.')\n",
    "    t1=datetime.datetime.now()\n",
    "    if i==0:\n",
    "        t0=t1\n",
    "    p,m=grp.get_particles_type(path,slnums,snaps[i],ptypes=['PartType1'])\n",
    "#    m=np.asarray(m,dtype=np.float64)\n",
    "    m=grp.lists_in_dict_to_array(m)\n",
    "    p=grp.lists_in_dict_to_array(p)\n",
    "    p={'x':p['xP1'],'y':p['yP1'],'z':p['zP1']}\n",
    "    m=m['mP1']\n",
    "    redz,time=grp.get_z_t(path,snaps[i])\n",
    "    t2=datetime.datetime.now()\n",
    "    print('took '+str((t2-t1).total_seconds())+' seconds.')\n",
    "    x3,y3,z3,m3=p['x'],p['y'],p['z'],m\n",
    "    print('getting rho for '+snaps[i]+'.')\n",
    "    t1=datetime.datetime.now()\n",
    "    rho,xc,yc,zc=grc.fastest_getrhoxyz_minmax(x3,y3,z3,m3,bchoice,xmin,xmax,ymin,ymax,zmin,zmax)\n",
    "    t2=datetime.datetime.now()\n",
    "    print('took '+str((t2-t1).total_seconds())+' seconds.')\n",
    "    rhofilename='rho_100b_100vsn_0100/rhoP1_100_'+snaps[i]+'.txt'\n",
    "    print('storing rho to file called \\\"'+rhofilename+'\\\"')\n",
    "    t1=datetime.datetime.now()\n",
    "    grp.rho_to_file_concise(xc,yc,zc,rho,snaps[i],snaps[-1],file_path=path,file_ns=rhofilename,redshift=str(redz),time=str(time))\n",
    "    t2=datetime.datetime.now()\n",
    "    print('took '+str((t2-t1).total_seconds())+' seconds.')\n",
    "    if i == (len(snaps)-1):\n",
    "        print('Full process took '+str(((t2-t0).total_seconds())/60)+' minutes.')"
   ]
  },
  {
   "cell_type": "code",
   "execution_count": null,
   "metadata": {},
   "outputs": [],
   "source": []
  }
 ],
 "metadata": {
  "kernelspec": {
   "display_name": "Python 3.8.5 ('base')",
   "language": "python",
   "name": "python3"
  },
  "language_info": {
   "codemirror_mode": {
    "name": "ipython",
    "version": 3
   },
   "file_extension": ".py",
   "mimetype": "text/x-python",
   "name": "python",
   "nbconvert_exporter": "python",
   "pygments_lexer": "ipython3",
   "version": "3.8.5"
  },
  "vscode": {
   "interpreter": {
    "hash": "2bf40accb7e9f78ce3ef5eb39a536e85ee79f4dae9e32f4b9fcd93ba1ec84f31"
   }
  }
 },
 "nbformat": 4,
 "nbformat_minor": 2
}
